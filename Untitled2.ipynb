{
 "cells": [
  {
   "cell_type": "code",
   "execution_count": 1,
   "id": "a10589ab-921c-4e6a-92b8-4940c5b0d0c0",
   "metadata": {},
   "outputs": [],
   "source": [
    "import pandas as pd\n",
    "import numpy as np\n",
    "\n",
    "#import helpers\n",
    "import references as refr\n",
    "\n"
   ]
  },
  {
   "cell_type": "code",
   "execution_count": 2,
   "id": "7b6b76de-026f-41df-9046-507094056d36",
   "metadata": {},
   "outputs": [
    {
     "data": {
      "text/plain": [
       "{'Output': ['Performance - Gls per 90',\n",
       "  'Ast per 90',\n",
       "  'Expected - npxG per 90',\n",
       "  'Standard - G/Sh per 90',\n",
       "  'Expected - npxG/Sh per 90'],\n",
       " 'Creation': ['Total - TotDist per 90',\n",
       "  'Total - PrgDist per 90',\n",
       "  'Total - Cmp per 90',\n",
       "  'Total - Cmp% per 90',\n",
       "  'Long - Cmp% per 90',\n",
       "  'Medium - Cmp% per 90',\n",
       "  'KP per 90',\n",
       "  'PPA per 90',\n",
       "  'CrsPA per 90',\n",
       "  'PrgP per 90',\n",
       "  'Pass Types - TB per 90',\n",
       "  'Pass Types - Sw per 90',\n",
       "  'SCA - SCA per 90',\n",
       "  'GCA Types - PassLive per 90',\n",
       "  'Take-Ons - Succ per 90',\n",
       "  'Take-Ons - Succ% per 90',\n",
       "  'Carries - Carries per 90',\n",
       "  'Carries - PrgDist per 90',\n",
       "  'Carries - 1/3 per 90'],\n",
       " 'Defending': ['Tackles - TklW per 90',\n",
       "  'Tackles - Def 3rd per 90',\n",
       "  'Challenges - Tkl per 90',\n",
       "  'Challenges - Tkl% per 90',\n",
       "  'Int per 90',\n",
       "  'Blocks - Blocks per 90',\n",
       "  'Blocks - Sh per 90',\n",
       "  'Blocks - Pass per 90',\n",
       "  'Performance - PKcon per 90',\n",
       "  'Clr per 90',\n",
       "  'Err per 90',\n",
       "  'Aerial Duels - Won per 90'],\n",
       " 'Goalkeeping': ['Performance - Saves',\n",
       "  'Performance - CS',\n",
       "  'Penalty Kicks - PKsv',\n",
       "  'Penalty Kicks - Save%']}"
      ]
     },
     "execution_count": 2,
     "metadata": {},
     "output_type": "execute_result"
    }
   ],
   "source": [
    "\n",
    "\n",
    "\n",
    "refr.tax_stats_grouped\n",
    "\n",
    "\n",
    "\n"
   ]
  },
  {
   "cell_type": "code",
   "execution_count": null,
   "id": "e8d9cb84-060a-4b6d-a3b2-78f752e31fbe",
   "metadata": {},
   "outputs": [],
   "source": []
  }
 ],
 "metadata": {
  "kernelspec": {
   "display_name": "Python 3 (ipykernel)",
   "language": "python",
   "name": "python3"
  },
  "language_info": {
   "codemirror_mode": {
    "name": "ipython",
    "version": 3
   },
   "file_extension": ".py",
   "mimetype": "text/x-python",
   "name": "python",
   "nbconvert_exporter": "python",
   "pygments_lexer": "ipython3",
   "version": "3.12.0"
  }
 },
 "nbformat": 4,
 "nbformat_minor": 5
}
