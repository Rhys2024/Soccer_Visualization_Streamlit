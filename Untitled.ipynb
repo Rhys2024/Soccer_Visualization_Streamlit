{
 "cells": [
  {
   "cell_type": "code",
   "execution_count": 1,
   "id": "38d3b3a5-4f05-4c4e-a868-86a66d1591b9",
   "metadata": {},
   "outputs": [],
   "source": [
    "import pandas as pd\n",
    "import numpy as np\n",
    "\n",
    "#import helpers\n",
    "import references as refr\n",
    "\n",
    "\n"
   ]
  },
  {
   "cell_type": "code",
   "execution_count": 2,
   "id": "963f45e8-b11b-4b56-9066-6ffcc17f4010",
   "metadata": {},
   "outputs": [],
   "source": [
    "\n",
    "\n",
    "#refr.player_per_season_info\n",
    "important_stats_comp = refr.important_stats_comp\n",
    "stats_dict = refr.new_grouped_stats_player_comparison\n",
    "\n",
    "\n",
    "all_stats = []\n",
    "\n",
    "for stat_type in stats_dict.keys():\n",
    "\n",
    "    for category in stats_dict[stat_type].keys():\n",
    "\n",
    "        #print(stats_dict[stat_type][category])\n",
    "\n",
    "        all_stats.append(stats_dict[stat_type][category]['normal_name'])\n",
    "        all_stats.append(stats_dict[stat_type][category]['per_90_name'])\n",
    "        #break\n",
    "\n",
    "    #break\n",
    "\n",
    "\n",
    "#all_stats\n",
    "\n",
    "#refr.new_grouped_stats_player_comparison['Goalscoring'].keys()\n",
    "\n",
    "all_stats.remove('Playing Time - Min')\n",
    "\n"
   ]
  },
  {
   "cell_type": "code",
   "execution_count": 382,
   "id": "3de6ff24-b921-4a38-822c-484b01d6fa07",
   "metadata": {},
   "outputs": [],
   "source": [
    "\n",
    "\n",
    "\n",
    "\n"
   ]
  },
  {
   "cell_type": "code",
   "execution_count": 3,
   "id": "18f0dae6-cd4e-4fef-a22c-ce98b09fe1fe",
   "metadata": {},
   "outputs": [],
   "source": [
    "\n",
    "tax_stats = ['Performance - Gls per 90', \n",
    "            'Ast per 90',\n",
    "            'Expected - npxG per 90', \n",
    "            'Standard - G/Sh per 90',\n",
    "            'Expected - npxG/Sh per 90',\n",
    "           'Total - TotDist per 90',\n",
    "           'Total - PrgDist per 90',\n",
    "           'Total - Cmp per 90',\n",
    "           'Total - Cmp% per 90',\n",
    "           'Long - Cmp% per 90',\n",
    "           'Medium - Cmp% per 90',\n",
    "           'KP per 90',\n",
    "           'PPA per 90',\n",
    "           'CrsPA per 90',\n",
    "           'PrgP per 90',\n",
    "           'Pass Types - TB per 90',\n",
    "           'Pass Types - Sw per 90',\n",
    "           'SCA - SCA per 90',\n",
    "           'GCA Types - PassLive per 90',\n",
    "           'Take-Ons - Succ per 90',\n",
    "           'Take-Ons - Succ% per 90',\n",
    "           'Carries - Carries per 90',\n",
    "           'Carries - PrgDist per 90',\n",
    "           'Carries - 1/3 per 90', \n",
    "          'Tackles - TklW per 90',\n",
    "            'Tackles - Def 3rd per 90',\n",
    "            'Challenges - Tkl per 90',\n",
    "            'Challenges - Tkl% per 90',\n",
    "           'Int per 90',\n",
    "            'Blocks - Blocks per 90',\n",
    "           'Blocks - Sh per 90',\n",
    "           'Blocks - Pass per 90',\n",
    "           'Performance - PKcon per 90',\n",
    "           'Clr per 90',\n",
    "           'Err per 90',\n",
    "           'Aerial Duels - Won per 90']\n",
    "\n",
    "tax_stats_grouped = {'Output' : ['Performance - Gls per 90', \n",
    "                                    'Ast per 90',\n",
    "                                    'Expected - npxG per 90', \n",
    "                                    'Standard - G/Sh per 90',\n",
    "                                    'Expected - npxG/Sh per 90'],\n",
    "                     'Creation' : ['Total - TotDist per 90',\n",
    "                                   'Total - PrgDist per 90',\n",
    "                                   'Total - Cmp per 90',\n",
    "                                   'Total - Cmp% per 90',\n",
    "                                   'Long - Cmp% per 90',\n",
    "                                   'Medium - Cmp% per 90',\n",
    "                                   'KP per 90',\n",
    "                                   'PPA per 90',\n",
    "                                   'CrsPA per 90',\n",
    "                                   'PrgP per 90',\n",
    "                                   'Pass Types - TB per 90',\n",
    "                                   'Pass Types - Sw per 90',\n",
    "                                   'SCA - SCA per 90',\n",
    "                                   'GCA Types - PassLive per 90',\n",
    "                                   'Take-Ons - Succ per 90',\n",
    "                                   'Take-Ons - Succ% per 90',\n",
    "                                   'Carries - Carries per 90',\n",
    "                                   'Carries - PrgDist per 90',\n",
    "                                   'Carries - 1/3 per 90'],\n",
    "                     'Defending' : ['Tackles - TklW per 90',\n",
    "                                    'Tackles - Def 3rd per 90',\n",
    "                                    'Challenges - Tkl per 90',\n",
    "                                    'Challenges - Tkl% per 90',\n",
    "                                   'Int per 90',\n",
    "                                    'Blocks - Blocks per 90',\n",
    "                                   'Blocks - Sh per 90',\n",
    "                                   'Blocks - Pass per 90',\n",
    "                                   'Performance - PKcon per 90',\n",
    "                                   'Clr per 90',\n",
    "                                   'Err per 90',\n",
    "                                   'Aerial Duels - Won per 90']\n",
    "                    }\n",
    "\n"
   ]
  },
  {
   "cell_type": "code",
   "execution_count": 4,
   "id": "34022b4a-3883-4e75-b121-c1e673e8cdce",
   "metadata": {},
   "outputs": [
    {
     "data": {
      "text/plain": [
       "{'Yellow Cards': {'normal_name': 'Performance - CrdY',\n",
       "  'per_90_name': 'Performance - CrdY per 90',\n",
       "  'is_inverse': False},\n",
       " 'Second Yellows': {'normal_name': 'Performance - 2CrdY',\n",
       "  'per_90_name': 'Performance - 2CrdY per 90',\n",
       "  'is_inverse': False},\n",
       " 'Red Cards': {'normal_name': 'Performance - CrdR',\n",
       "  'per_90_name': 'Performance - CrdR per 90',\n",
       "  'is_inverse': False},\n",
       " 'Fouls': {'normal_name': 'Performance - Fls',\n",
       "  'per_90_name': 'Performance - Fls per 90',\n",
       "  'is_inverse': False},\n",
       " 'Foul Drawn': {'normal_name': 'Performance - Fld',\n",
       "  'per_90_name': 'Performance - Fld per 90',\n",
       "  'is_inverse': False}}"
      ]
     },
     "execution_count": 4,
     "metadata": {},
     "output_type": "execute_result"
    }
   ],
   "source": [
    "\n",
    "\n",
    "stats_dict[stat_type]\n"
   ]
  },
  {
   "cell_type": "code",
   "execution_count": 5,
   "id": "ea6ee15d-cbc2-4b45-b223-7b866a191f96",
   "metadata": {},
   "outputs": [],
   "source": [
    "#import itertools\n",
    "\n",
    "\n",
    "#all_stats = list(itertools.chain.from_iterable(list(important_stats_comp.values())))\n",
    "\n",
    "\n"
   ]
  },
  {
   "cell_type": "code",
   "execution_count": 6,
   "id": "e97ff6bf-1e99-4922-bc5a-465b69c037f3",
   "metadata": {},
   "outputs": [],
   "source": [
    "\n",
    "\n",
    "\n",
    "temp = pd.read_csv(f'data/new_all_outfield_player_data.csv')\n",
    "\n",
    "temp2 = pd.read_csv(f'data/2023-2024_all_outfield_players.csv')\n",
    "\n",
    "\n"
   ]
  },
  {
   "cell_type": "code",
   "execution_count": 383,
   "id": "b9c33f50-82c2-47d6-848a-5af2a3f4bb4b",
   "metadata": {},
   "outputs": [],
   "source": [
    "from sklearn.preprocessing import MinMaxScaler\n",
    "\n",
    "normalized_df = []\n",
    "\n",
    "\n",
    "for season in temp.Season.unique():\n",
    "\n",
    "    #normalized_dfs[season] = {}\n",
    "\n",
    "    for comp in temp.Comp.unique():\n",
    "\n",
    "        tempie = temp[(temp.Season == season) & (temp.Comp == comp)].copy()\n",
    "\n",
    "        tempie[all_stats] = MinMaxScaler().fit_transform(tempie[all_stats])\n",
    "\n",
    "        normalized_df.append(tempie)\n",
    "\n",
    "normalized_df = pd.concat(normalized_df)\n",
    "\n",
    "\n"
   ]
  },
  {
   "cell_type": "code",
   "execution_count": 468,
   "id": "731d07ec-2cfc-40cb-a88b-a85e765e7a2e",
   "metadata": {},
   "outputs": [],
   "source": [
    "\n",
    "\n",
    "normalized_df.head()['Playing Time - Min']\n",
    "\n",
    "\n",
    "normalized_df.columns.name = 'Stat'\n",
    "\n"
   ]
  },
  {
   "cell_type": "code",
   "execution_count": 470,
   "id": "32663c07-ecca-4de1-88ae-54e79971bb73",
   "metadata": {},
   "outputs": [],
   "source": [
    "\n",
    "\n",
    "\n",
    "\n",
    "#normalized_df.groupby('Age')[all_stats].mean()\n",
    "\n",
    "#normalized_df['Performance - Gls per 90']\n",
    "\n",
    "\n",
    "normalized_df.drop(columns = ['Unnamed: 0.1', \n",
    "                              'Unnamed: 0']).to_csv('data/normalized_all_outfield_player_data.csv')\n",
    "\n",
    "\n",
    "\n",
    "#normalized_df\n",
    "\n"
   ]
  },
  {
   "cell_type": "code",
   "execution_count": 472,
   "id": "41636b3d-5e1d-45cd-9f6a-478c7c563aa2",
   "metadata": {},
   "outputs": [],
   "source": [
    "\n",
    "\n",
    "normalized_df.drop(columns = ['Unnamed: 0.1', \n",
    "                              'Unnamed: 0']).to_csv('data/normalized_all_outfield_player_data.csv')\n",
    "\n"
   ]
  },
  {
   "cell_type": "code",
   "execution_count": 307,
   "id": "901f7cf1-9936-4ac4-911d-29b0485f06a6",
   "metadata": {},
   "outputs": [
    {
     "data": {
      "text/plain": [
       "[('Premier League', 'Serie A'),\n",
       " ('Ligue 1', 'Premier League'),\n",
       " ('La Liga', 'Premier League'),\n",
       " ('Bundesliga', 'Premier League'),\n",
       " ('Ligue 1', 'Serie A'),\n",
       " ('La Liga', 'Serie A'),\n",
       " ('Bundesliga', 'Serie A'),\n",
       " ('La Liga', 'Ligue 1'),\n",
       " ('Bundesliga', 'Ligue 1'),\n",
       " ('Bundesliga', 'La Liga')]"
      ]
     },
     "execution_count": 307,
     "metadata": {},
     "output_type": "execute_result"
    }
   ],
   "source": [
    "from itertools import combinations, permutations\n",
    "\n",
    "\n",
    "#important_stats_comp['Defensive Stats']\n",
    "\n",
    "\n",
    "league_combos = [tuple(sorted(comb)) for comb in combinations(list(refr.leagues), 2)]\n",
    "league_perms = list(permutations(list(refr.leagues), 2))\n",
    "\n",
    "\n",
    "\n",
    "#league_combos\n",
    "\n",
    "league_combos\n",
    "\n"
   ]
  },
  {
   "cell_type": "code",
   "execution_count": 346,
   "id": "251123d3-bb45-44ae-994d-3ed583b0bbb5",
   "metadata": {},
   "outputs": [
    {
     "data": {
      "text/plain": [
       "{('Premier League', 'Serie A'): [],\n",
       " ('Ligue 1', 'Premier League'): [],\n",
       " ('La Liga', 'Premier League'): [],\n",
       " ('Bundesliga', 'Premier League'): [],\n",
       " ('Ligue 1', 'Serie A'): [],\n",
       " ('La Liga', 'Serie A'): [],\n",
       " ('Bundesliga', 'Serie A'): [],\n",
       " ('La Liga', 'Ligue 1'): [],\n",
       " ('Bundesliga', 'Ligue 1'): [],\n",
       " ('Bundesliga', 'La Liga'): []}"
      ]
     },
     "execution_count": 346,
     "metadata": {},
     "output_type": "execute_result"
    }
   ],
   "source": [
    "import json\n",
    "\n",
    "def list_of_comps(lst):\n",
    "\n",
    "    if len(lst) == 1:\n",
    "        return []\n",
    "\n",
    "    #sorted_lst = sorted(lst)\n",
    "\n",
    "    #if len(sorted_lst) == 2:\n",
    "        #return sorted_lst\n",
    "\n",
    "    lsts = []\n",
    "\n",
    "    for n, val in enumerate(lst):\n",
    "\n",
    "        if n + 1 < len(lst):\n",
    "            lsts.append(sorted([val, lst[n+1]]))\n",
    "    \n",
    "    return lsts\n",
    "\n",
    "\n",
    "player_teams_played_on = temp.groupby('Player').apply(lambda player : list_of_comps(list(set(player.Comp.unique())))).to_dict()\n",
    "\n",
    "\n",
    "#with open(\"data/player_teams_played_on.json\", \"w\") as outfile:\n",
    "    #json.dump(player_teams_played_on, outfile, indent = 4)\n",
    "\n",
    "\n",
    "#player_teams_played_on\n",
    "\n",
    "\n",
    "#player_teams_played_on\n",
    "\n",
    "\n",
    "{combo : [] for combo in league_combos}\n"
   ]
  },
  {
   "cell_type": "code",
   "execution_count": 360,
   "id": "c7569b9d-9624-435e-a0c5-6e5f508c35c6",
   "metadata": {},
   "outputs": [],
   "source": [
    "\n",
    "\n",
    "\n",
    "multiple_league_players = {f\"{combo[0]} vs {combo[1]}\" : [] for combo in league_combos}\n",
    "\n",
    "#print(multiple_league_players)\n",
    "\n",
    "for player in player_teams_played_on:\n",
    "\n",
    "    if len(player_teams_played_on[player]) > 0:\n",
    "\n",
    "        for combo in player_teams_played_on[player]:\n",
    "\n",
    "            #print(combo)\n",
    "        #for combo in league_combos:\n",
    "\n",
    "            #if combo[0] in player_teams_played_on[player] and \\\n",
    "                    #combo[1] in player_teams_played_on[player]:\n",
    "            #print(combo)\n",
    "            #break\n",
    "            #print(combo)\n",
    "            #try:\n",
    "            multiple_league_players[f\"{combo[0]} vs {combo[1]}\"].append(player)\n",
    "            #else:\n",
    "             #   multiple_league_players[combo[0]][combo[1]].append(player)\n",
    "\n",
    "\n",
    "with open(\"data/league_combo_players.json\", \"w\") as outfile:\n",
    "    json.dump(multiple_league_players, outfile, indent = 4)\n",
    "\n",
    "#pd.Series(multiple_league_players).unstack().to_dict(orient='index')\n",
    "\n",
    "#pd.Series(multiple_league_players).to_csv('data/tax_multiple_league_players.csv')\n",
    "\n"
   ]
  },
  {
   "cell_type": "code",
   "execution_count": 423,
   "id": "342cb94f-7e0a-440a-b97a-9d22f92c813a",
   "metadata": {},
   "outputs": [],
   "source": [
    "\n",
    "\n",
    "#multiple_league_players\n",
    "\n",
    "#multiple_league_players['La Liga vs Premier League']\n",
    "\n"
   ]
  },
  {
   "cell_type": "code",
   "execution_count": 387,
   "id": "ab5ef41e-41eb-4ccf-b086-8c25507878c9",
   "metadata": {},
   "outputs": [
    {
     "name": "stdout",
     "output_type": "stream",
     "text": [
      "['Premier League', 'Serie A']\n",
      "['Ligue 1', 'Premier League']\n",
      "['La Liga', 'Premier League']\n",
      "['Bundesliga', 'Premier League']\n",
      "['Ligue 1', 'Serie A']\n",
      "['La Liga', 'Serie A']\n",
      "['Bundesliga', 'Serie A']\n",
      "['La Liga', 'Ligue 1']\n",
      "['Bundesliga', 'Ligue 1']\n",
      "['Bundesliga', 'La Liga']\n"
     ]
    }
   ],
   "source": [
    "\n",
    "\n",
    "chunks = {}\n",
    "combo_data_points = {combo : len(multiple_league_players[combo]) for combo in multiple_league_players}\n",
    "\n",
    "for combo, names in multiple_league_players.items():\n",
    "\n",
    "    combo_ = [c.strip() for c in combo.replace('vs', ',').split(',')]\n",
    "\n",
    "    print(combo_)\n",
    "\n",
    "    chunk = normalized_df[(normalized_df.Player.isin(names)) & \n",
    "                            (normalized_df.Comp.isin(combo_))\n",
    "                        ].drop(columns = ['Unnamed: 0.1', \n",
    "                              'Unnamed: 0'])\n",
    "\n",
    "    chunks[combo] = chunk\n",
    "\n",
    "    #print(chunk)\n",
    "    #break\n",
    "    #print(f\"data/{combo}_normalized_data.csv\")\n",
    "    chunk.to_csv(f\"data/{combo}_normalized_data.csv\")\n",
    "\n",
    "\n"
   ]
  },
  {
   "cell_type": "code",
   "execution_count": 420,
   "id": "b821054d-1906-48ff-a504-6655e7fa35db",
   "metadata": {},
   "outputs": [
    {
     "data": {
      "text/plain": [
       "['you a', 'me lol']"
      ]
     },
     "execution_count": 420,
     "metadata": {},
     "output_type": "execute_result"
    }
   ],
   "source": [
    "\n",
    "\n",
    "\n",
    "\n",
    "\n"
   ]
  },
  {
   "cell_type": "code",
   "execution_count": 220,
   "id": "1f549ed0-e80a-4188-adcf-5da822266893",
   "metadata": {},
   "outputs": [],
   "source": [
    "\n",
    "\n",
    "combo_data_points = {combo : len(multiple_league_players[combo]) for combo in multiple_league_players}\n",
    "\n",
    "num_datapoints_df = pd.Series(combo_data_points).unstack()\n",
    "num_datapoints_df.index.name = 'League'\n",
    "num_datapoints_df.to_csv('data/tax_num_datapoints.csv')\n",
    "\n"
   ]
  },
  {
   "cell_type": "code",
   "execution_count": 316,
   "id": "9402d9ed-ca06-4a95-ad9b-3ec5b26f0c27",
   "metadata": {},
   "outputs": [],
   "source": [
    "\n",
    "\n",
    "#chunks\n",
    "combo_compare_matrix = {}\n",
    "combo_compare_matrix_detailed = {}\n",
    "\n",
    "combo_compare_matrix_age = {}\n",
    "combo_compare_matrix_mins_played = {}\n",
    "\n",
    "for curr_combo in multiple_league_players:\n",
    "\n",
    "    avg_age = chunks[curr_combo].groupby('Comp')['Age'].mean().round(0).to_dict()\n",
    "\n",
    "    avg_min_played = chunks[curr_combo].groupby('Comp')['Playing Time - Min'].mean().to_dict()\n",
    "\n",
    "    temp_comparison = chunks[curr_combo].groupby('Comp')[tax_stats].mean().T\n",
    "\n",
    "    overall_compare = ((temp_comparison[curr_combo[0]] - temp_comparison[curr_combo[1]]).sum() / len(temp_comparison))\n",
    "\n",
    "    combo_compare_matrix_age[(curr_combo[0], f\" vs {curr_combo[1]}\")] = avg_age[curr_combo[0]] - avg_age[curr_combo[1]]\n",
    "    combo_compare_matrix_age[(curr_combo[1], f\" vs {curr_combo[0]}\")] = avg_age[curr_combo[1]] - avg_age[curr_combo[0]]\n",
    "    \n",
    "    combo_compare_matrix_mins_played[(curr_combo[0], f\" vs {curr_combo[1]}\")] = avg_min_played[curr_combo[0]] - avg_min_played[curr_combo[1]]\n",
    "    combo_compare_matrix_mins_played[(curr_combo[1], f\" vs {curr_combo[0]}\")] = avg_min_played[curr_combo[1]] - avg_min_played[curr_combo[0]]\n",
    "    \n",
    "    combo_compare_matrix[(curr_combo[0], f\" vs {curr_combo[1]}\")] = overall_compare\n",
    "    combo_compare_matrix[(curr_combo[1], f\" vs {curr_combo[0]}\")] = -overall_compare\n",
    "\n",
    "    combo_compare_matrix_detailed[(curr_combo[0], f\" vs {curr_combo[1]}\")] = (temp_comparison[curr_combo[0]] - temp_comparison[curr_combo[1]])\n",
    "    combo_compare_matrix_detailed[(curr_combo[1], f\" vs {curr_combo[0]}\")] = -(temp_comparison[curr_combo[0]] - temp_comparison[curr_combo[1]])\n",
    "    \n",
    "\n",
    "    \n",
    "\n",
    "\n"
   ]
  },
  {
   "cell_type": "code",
   "execution_count": 317,
   "id": "9ab00e1e-6493-45a8-9dda-d6fb472aba36",
   "metadata": {},
   "outputs": [],
   "source": [
    "\n",
    "\n",
    "\n",
    "\n",
    "lmfao = pd.Series(combo_compare_matrix_age).unstack()\n",
    "lmfao.index.name = 'League'\n",
    "\n",
    "lmfao.to_csv('data/tax_age_diff.csv')\n",
    "\n",
    "\n"
   ]
  },
  {
   "cell_type": "code",
   "execution_count": 318,
   "id": "e8b482a0-bd92-4e7e-8297-2363b944ebf1",
   "metadata": {},
   "outputs": [],
   "source": [
    "\n",
    "\n",
    "\n",
    "gol = pd.Series(combo_compare_matrix_mins_played).unstack()\n",
    "gol.index.name = 'League'\n",
    "\n",
    "gol.to_csv('data/tax_min_played_diff.csv')\n",
    "\n",
    "\n",
    "\n"
   ]
  },
  {
   "cell_type": "code",
   "execution_count": 315,
   "id": "1e919220-1703-492e-bc55-e1a933a4bc21",
   "metadata": {},
   "outputs": [
    {
     "data": {
      "text/html": [
       "<div>\n",
       "<style scoped>\n",
       "    .dataframe tbody tr th:only-of-type {\n",
       "        vertical-align: middle;\n",
       "    }\n",
       "\n",
       "    .dataframe tbody tr th {\n",
       "        vertical-align: top;\n",
       "    }\n",
       "\n",
       "    .dataframe thead th {\n",
       "        text-align: right;\n",
       "    }\n",
       "</style>\n",
       "<table border=\"1\" class=\"dataframe\">\n",
       "  <thead>\n",
       "    <tr style=\"text-align: right;\">\n",
       "      <th></th>\n",
       "      <th>vs Bundesliga</th>\n",
       "      <th>vs La Liga</th>\n",
       "      <th>vs Ligue 1</th>\n",
       "      <th>vs Premier League</th>\n",
       "      <th>vs Serie A</th>\n",
       "    </tr>\n",
       "    <tr>\n",
       "      <th>League</th>\n",
       "      <th></th>\n",
       "      <th></th>\n",
       "      <th></th>\n",
       "      <th></th>\n",
       "      <th></th>\n",
       "    </tr>\n",
       "  </thead>\n",
       "  <tbody>\n",
       "    <tr>\n",
       "      <th>Bundesliga</th>\n",
       "      <td>NaN</td>\n",
       "      <td>0.043</td>\n",
       "      <td>0.003</td>\n",
       "      <td>0.087</td>\n",
       "      <td>0.038</td>\n",
       "    </tr>\n",
       "    <tr>\n",
       "      <th>La Liga</th>\n",
       "      <td>-0.043</td>\n",
       "      <td>NaN</td>\n",
       "      <td>-0.062</td>\n",
       "      <td>-0.003</td>\n",
       "      <td>-0.002</td>\n",
       "    </tr>\n",
       "    <tr>\n",
       "      <th>Ligue 1</th>\n",
       "      <td>-0.003</td>\n",
       "      <td>0.062</td>\n",
       "      <td>NaN</td>\n",
       "      <td>0.062</td>\n",
       "      <td>0.070</td>\n",
       "    </tr>\n",
       "    <tr>\n",
       "      <th>Premier League</th>\n",
       "      <td>-0.087</td>\n",
       "      <td>0.003</td>\n",
       "      <td>-0.062</td>\n",
       "      <td>NaN</td>\n",
       "      <td>-0.070</td>\n",
       "    </tr>\n",
       "    <tr>\n",
       "      <th>Serie A</th>\n",
       "      <td>-0.038</td>\n",
       "      <td>0.002</td>\n",
       "      <td>-0.070</td>\n",
       "      <td>0.070</td>\n",
       "      <td>NaN</td>\n",
       "    </tr>\n",
       "  </tbody>\n",
       "</table>\n",
       "</div>"
      ],
      "text/plain": [
       "                 vs Bundesliga   vs La Liga   vs Ligue 1   vs Premier League  \\\n",
       "League                                                                         \n",
       "Bundesliga                 NaN        0.043        0.003               0.087   \n",
       "La Liga                 -0.043          NaN       -0.062              -0.003   \n",
       "Ligue 1                 -0.003        0.062          NaN               0.062   \n",
       "Premier League          -0.087        0.003       -0.062                 NaN   \n",
       "Serie A                 -0.038        0.002       -0.070               0.070   \n",
       "\n",
       "                 vs Serie A  \n",
       "League                       \n",
       "Bundesliga            0.038  \n",
       "La Liga              -0.002  \n",
       "Ligue 1               0.070  \n",
       "Premier League       -0.070  \n",
       "Serie A                 NaN  "
      ]
     },
     "execution_count": 315,
     "metadata": {},
     "output_type": "execute_result"
    }
   ],
   "source": [
    "\n",
    "\n",
    "\n",
    "gol\n",
    "\n",
    "\n"
   ]
  },
  {
   "cell_type": "code",
   "execution_count": 254,
   "id": "d3b9237c-59f6-4cb6-807f-534bd2462511",
   "metadata": {},
   "outputs": [
    {
     "data": {
      "text/html": [
       "<div>\n",
       "<style scoped>\n",
       "    .dataframe tbody tr th:only-of-type {\n",
       "        vertical-align: middle;\n",
       "    }\n",
       "\n",
       "    .dataframe tbody tr th {\n",
       "        vertical-align: top;\n",
       "    }\n",
       "\n",
       "    .dataframe thead th {\n",
       "        text-align: right;\n",
       "    }\n",
       "</style>\n",
       "<table border=\"1\" class=\"dataframe\">\n",
       "  <thead>\n",
       "    <tr style=\"text-align: right;\">\n",
       "      <th></th>\n",
       "      <th>Performance - Gls per 90</th>\n",
       "      <th>Ast per 90</th>\n",
       "      <th>Expected - npxG per 90</th>\n",
       "      <th>Standard - G/Sh per 90</th>\n",
       "      <th>Expected - npxG/Sh per 90</th>\n",
       "      <th>Total - TotDist per 90</th>\n",
       "      <th>Total - PrgDist per 90</th>\n",
       "      <th>Total - Cmp per 90</th>\n",
       "      <th>Total - Cmp% per 90</th>\n",
       "      <th>Long - Cmp% per 90</th>\n",
       "      <th>...</th>\n",
       "      <th>Challenges - Tkl per 90</th>\n",
       "      <th>Challenges - Tkl% per 90</th>\n",
       "      <th>Int per 90</th>\n",
       "      <th>Blocks - Blocks per 90</th>\n",
       "      <th>Blocks - Sh per 90</th>\n",
       "      <th>Blocks - Pass per 90</th>\n",
       "      <th>Performance - PKcon per 90</th>\n",
       "      <th>Clr per 90</th>\n",
       "      <th>Err per 90</th>\n",
       "      <th>Aerial Duels - Won per 90</th>\n",
       "    </tr>\n",
       "  </thead>\n",
       "  <tbody>\n",
       "    <tr>\n",
       "      <th>Bundesliga</th>\n",
       "      <td>0.012603</td>\n",
       "      <td>0.010621</td>\n",
       "      <td>-0.007915</td>\n",
       "      <td>0.000988</td>\n",
       "      <td>-0.030850</td>\n",
       "      <td>0.006136</td>\n",
       "      <td>-0.014548</td>\n",
       "      <td>0.013594</td>\n",
       "      <td>-0.032831</td>\n",
       "      <td>0.006062</td>\n",
       "      <td>...</td>\n",
       "      <td>0.016973</td>\n",
       "      <td>0.014647</td>\n",
       "      <td>0.028639</td>\n",
       "      <td>0.025648</td>\n",
       "      <td>0.015068</td>\n",
       "      <td>0.012511</td>\n",
       "      <td>0.006610</td>\n",
       "      <td>0.003418</td>\n",
       "      <td>0.002079</td>\n",
       "      <td>0.005259</td>\n",
       "    </tr>\n",
       "    <tr>\n",
       "      <th>La Liga</th>\n",
       "      <td>-0.021567</td>\n",
       "      <td>-0.025954</td>\n",
       "      <td>-0.008730</td>\n",
       "      <td>-0.000069</td>\n",
       "      <td>0.016524</td>\n",
       "      <td>-0.015060</td>\n",
       "      <td>-0.009278</td>\n",
       "      <td>-0.025154</td>\n",
       "      <td>-0.003993</td>\n",
       "      <td>-0.004805</td>\n",
       "      <td>...</td>\n",
       "      <td>-0.008341</td>\n",
       "      <td>0.000894</td>\n",
       "      <td>0.003435</td>\n",
       "      <td>0.001866</td>\n",
       "      <td>0.019977</td>\n",
       "      <td>0.003752</td>\n",
       "      <td>-0.009125</td>\n",
       "      <td>0.013512</td>\n",
       "      <td>0.000070</td>\n",
       "      <td>0.001848</td>\n",
       "    </tr>\n",
       "    <tr>\n",
       "      <th>Ligue 1</th>\n",
       "      <td>0.007963</td>\n",
       "      <td>0.012601</td>\n",
       "      <td>0.008051</td>\n",
       "      <td>0.008194</td>\n",
       "      <td>0.013352</td>\n",
       "      <td>0.053110</td>\n",
       "      <td>0.042294</td>\n",
       "      <td>0.053117</td>\n",
       "      <td>0.021710</td>\n",
       "      <td>0.008445</td>\n",
       "      <td>...</td>\n",
       "      <td>0.030031</td>\n",
       "      <td>0.000668</td>\n",
       "      <td>0.006262</td>\n",
       "      <td>0.017296</td>\n",
       "      <td>0.011735</td>\n",
       "      <td>0.002372</td>\n",
       "      <td>0.007985</td>\n",
       "      <td>0.008871</td>\n",
       "      <td>0.007345</td>\n",
       "      <td>-0.001716</td>\n",
       "    </tr>\n",
       "    <tr>\n",
       "      <th>Premier League</th>\n",
       "      <td>-0.011551</td>\n",
       "      <td>-0.026337</td>\n",
       "      <td>-0.015383</td>\n",
       "      <td>-0.012272</td>\n",
       "      <td>-0.033877</td>\n",
       "      <td>-0.064110</td>\n",
       "      <td>-0.013938</td>\n",
       "      <td>-0.055653</td>\n",
       "      <td>-0.008190</td>\n",
       "      <td>-0.048972</td>\n",
       "      <td>...</td>\n",
       "      <td>-0.031148</td>\n",
       "      <td>-0.013964</td>\n",
       "      <td>-0.017206</td>\n",
       "      <td>-0.064561</td>\n",
       "      <td>-0.059734</td>\n",
       "      <td>-0.019704</td>\n",
       "      <td>-0.019347</td>\n",
       "      <td>-0.031142</td>\n",
       "      <td>0.011430</td>\n",
       "      <td>-0.012725</td>\n",
       "    </tr>\n",
       "    <tr>\n",
       "      <th>Serie A</th>\n",
       "      <td>0.012551</td>\n",
       "      <td>0.029068</td>\n",
       "      <td>0.023977</td>\n",
       "      <td>0.003159</td>\n",
       "      <td>0.034851</td>\n",
       "      <td>0.019924</td>\n",
       "      <td>-0.004529</td>\n",
       "      <td>0.014097</td>\n",
       "      <td>0.023303</td>\n",
       "      <td>0.039270</td>\n",
       "      <td>...</td>\n",
       "      <td>-0.007515</td>\n",
       "      <td>-0.002244</td>\n",
       "      <td>-0.021130</td>\n",
       "      <td>0.019751</td>\n",
       "      <td>0.012954</td>\n",
       "      <td>0.001068</td>\n",
       "      <td>0.013876</td>\n",
       "      <td>0.005340</td>\n",
       "      <td>-0.020925</td>\n",
       "      <td>0.007335</td>\n",
       "    </tr>\n",
       "  </tbody>\n",
       "</table>\n",
       "<p>5 rows × 36 columns</p>\n",
       "</div>"
      ],
      "text/plain": [
       "                Performance - Gls per 90  Ast per 90  Expected - npxG per 90  \\\n",
       "Bundesliga                      0.012603    0.010621               -0.007915   \n",
       "La Liga                        -0.021567   -0.025954               -0.008730   \n",
       "Ligue 1                         0.007963    0.012601                0.008051   \n",
       "Premier League                 -0.011551   -0.026337               -0.015383   \n",
       "Serie A                         0.012551    0.029068                0.023977   \n",
       "\n",
       "                Standard - G/Sh per 90  Expected - npxG/Sh per 90  \\\n",
       "Bundesliga                    0.000988                  -0.030850   \n",
       "La Liga                      -0.000069                   0.016524   \n",
       "Ligue 1                       0.008194                   0.013352   \n",
       "Premier League               -0.012272                  -0.033877   \n",
       "Serie A                       0.003159                   0.034851   \n",
       "\n",
       "                Total - TotDist per 90  Total - PrgDist per 90  \\\n",
       "Bundesliga                    0.006136               -0.014548   \n",
       "La Liga                      -0.015060               -0.009278   \n",
       "Ligue 1                       0.053110                0.042294   \n",
       "Premier League               -0.064110               -0.013938   \n",
       "Serie A                       0.019924               -0.004529   \n",
       "\n",
       "                Total - Cmp per 90  Total - Cmp% per 90  Long - Cmp% per 90  \\\n",
       "Bundesliga                0.013594            -0.032831            0.006062   \n",
       "La Liga                  -0.025154            -0.003993           -0.004805   \n",
       "Ligue 1                   0.053117             0.021710            0.008445   \n",
       "Premier League           -0.055653            -0.008190           -0.048972   \n",
       "Serie A                   0.014097             0.023303            0.039270   \n",
       "\n",
       "                ...  Challenges - Tkl per 90  Challenges - Tkl% per 90  \\\n",
       "Bundesliga      ...                 0.016973                  0.014647   \n",
       "La Liga         ...                -0.008341                  0.000894   \n",
       "Ligue 1         ...                 0.030031                  0.000668   \n",
       "Premier League  ...                -0.031148                 -0.013964   \n",
       "Serie A         ...                -0.007515                 -0.002244   \n",
       "\n",
       "                Int per 90  Blocks - Blocks per 90  Blocks - Sh per 90  \\\n",
       "Bundesliga        0.028639                0.025648            0.015068   \n",
       "La Liga           0.003435                0.001866            0.019977   \n",
       "Ligue 1           0.006262                0.017296            0.011735   \n",
       "Premier League   -0.017206               -0.064561           -0.059734   \n",
       "Serie A          -0.021130                0.019751            0.012954   \n",
       "\n",
       "                Blocks - Pass per 90  Performance - PKcon per 90  Clr per 90  \\\n",
       "Bundesliga                  0.012511                    0.006610    0.003418   \n",
       "La Liga                     0.003752                   -0.009125    0.013512   \n",
       "Ligue 1                     0.002372                    0.007985    0.008871   \n",
       "Premier League             -0.019704                   -0.019347   -0.031142   \n",
       "Serie A                     0.001068                    0.013876    0.005340   \n",
       "\n",
       "                Err per 90  Aerial Duels - Won per 90  \n",
       "Bundesliga        0.002079                   0.005259  \n",
       "La Liga           0.000070                   0.001848  \n",
       "Ligue 1           0.007345                  -0.001716  \n",
       "Premier League    0.011430                  -0.012725  \n",
       "Serie A          -0.020925                   0.007335  \n",
       "\n",
       "[5 rows x 36 columns]"
      ]
     },
     "execution_count": 254,
     "metadata": {},
     "output_type": "execute_result"
    }
   ],
   "source": [
    "\n",
    "\n",
    "ok = pd.DataFrame(combo_compare_matrix_detailed).T.groupby(level=0).mean()\n",
    "\n",
    "\n",
    "\n",
    "ok\n",
    "\n"
   ]
  },
  {
   "cell_type": "code",
   "execution_count": 294,
   "id": "aa7d78fb-3e03-4129-906f-bb8e605e76cd",
   "metadata": {},
   "outputs": [],
   "source": [
    "import seaborn as sns\n",
    "from sklearn.preprocessing import MinMaxScaler\n",
    "\n",
    "\n",
    "tipo = pd.Series(combo_compare_matrix).unstack()\n",
    "tipo['Total Tax'] = tipo.sum(axis=1)\n",
    "tipo.index.name = 'League'\n",
    "#tipo['Normalized Tax'] = MinMaxScaler().fit_transform(tipo[['Total Tax']]).round(2)\n",
    "tipo['Rank'] = tipo['Total Tax'].rank(ascending=True).astype(str)\n",
    "\n",
    "\n",
    "tipo.to_csv('data/tax_compare_matrix_non_adjusted.csv')\n",
    "\n",
    "#tipo.style.format(\"{:.0%}\")\n",
    "\n",
    "# .to_csv('data/tax_compare_matrix_non_adjusted.csv')\n",
    "#tipo.to_csv('data/tax_compare_matrix_non_adjusted.csv')\n",
    "\n",
    "\n"
   ]
  },
  {
   "cell_type": "code",
   "execution_count": 293,
   "id": "77bbfe5f-5817-4ead-8e93-91215749937b",
   "metadata": {},
   "outputs": [
    {
     "data": {
      "image/png": "[encoded data removed]",
      "text/plain": [
       "<Figure size 640x480 with 1 Axes>"
      ]
     },
     "metadata": {},
     "output_type": "display_data"
    }
   ],
   "source": [
    "import matplotlib.pyplot as plt\n",
    "import plotly.express as px\n",
    "\n",
    "import matplotlib.ticker as mtick\n",
    "\n",
    "\n",
    "#plt.barh(tipo.index, tipo['Total Tax'])\n",
    "\n",
    "\n",
    "#tipo.sort_values(by='Total Tax')['Total Tax'].plot.barh()\n",
    "#fig = \n",
    "ax = sns.barplot(tipo.reset_index().sort_values(by='Total Tax', \n",
    "                                           ascending = True),\n",
    "            x = 'Total Tax',\n",
    "            y = 'League',\n",
    "            hue = 'Rank',\n",
    "            legend=False\n",
    "           )\n",
    "\n",
    "ax.xaxis.set_major_formatter(mtick.PercentFormatter(1, decimals=0))\n",
    "\n"
   ]
  },
  {
   "cell_type": "code",
   "execution_count": 297,
   "id": "1d6ca56e-ab1e-4dcd-91e2-3c92de8866df",
   "metadata": {},
   "outputs": [
    {
     "data": {
      "application/vnd.plotly.v1+json": {
       "config": {
        "plotlyServerURL": "https://plot.ly"
       },
       "data": [
        {
         "alignmentgroup": "True",
         "hovertemplate": "Rank=5.0<br>Total Tax=%{x}<br>League=%{y}<extra></extra>",
         "legendgroup": "5.0",
         "marker": {
          "color": "#636efa",
          "pattern": {
           "shape": ""
          }
         },
         "name": "5.0",
         "offsetgroup": "5.0",
         "orientation": "h",
         "showlegend": true,
         "textposition": "auto",
         "type": "bar",
         "x": [
          0.07484838583281361
         ],
         "xaxis": "x",
         "y": [
          "Ligue 1"
         ],
         "yaxis": "y"
        },
        {
         "alignmentgroup": "True",
         "hovertemplate": "Rank=4.0<br>Total Tax=%{x}<br>League=%{y}<extra></extra>",
         "legendgroup": "4.0",
         "marker": {
          "color": "#EF553B",
          "pattern": {
           "shape": ""
          }
         },
         "name": "4.0",
         "offsetgroup": "4.0",
         "orientation": "h",
         "showlegend": true,
         "textposition": "auto",
         "type": "bar",
         "x": [
          0.04627591748075786
         ],
         "xaxis": "x",
         "y": [
          "Bundesliga"
         ],
         "yaxis": "y"
        },
        {
         "alignmentgroup": "True",
         "hovertemplate": "Rank=3.0<br>Total Tax=%{x}<br>League=%{y}<extra></extra>",
         "legendgroup": "3.0",
         "marker": {
          "color": "#00cc96",
          "pattern": {
           "shape": ""
          }
         },
         "name": "3.0",
         "offsetgroup": "3.0",
         "orientation": "h",
         "showlegend": true,
         "textposition": "auto",
         "type": "bar",
         "x": [
          0.04242406447628727
         ],
         "xaxis": "x",
         "y": [
          "Serie A"
         ],
         "yaxis": "y"
        },
        {
         "alignmentgroup": "True",
         "hovertemplate": "Rank=2.0<br>Total Tax=%{x}<br>League=%{y}<extra></extra>",
         "legendgroup": "2.0",
         "marker": {
          "color": "#ab63fa",
          "pattern": {
           "shape": ""
          }
         },
         "name": "2.0",
         "offsetgroup": "2.0",
         "orientation": "h",
         "showlegend": true,
         "textposition": "auto",
         "type": "bar",
         "x": [
          -0.04970855046314068
         ],
         "xaxis": "x",
         "y": [
          "La Liga"
         ],
         "yaxis": "y"
        },
        {
         "alignmentgroup": "True",
         "hovertemplate": "Rank=1.0<br>Total Tax=%{x}<br>League=%{y}<extra></extra>",
         "legendgroup": "1.0",
         "marker": {
          "color": "#FFA15A",
          "pattern": {
           "shape": ""
          }
         },
         "name": "1.0",
         "offsetgroup": "1.0",
         "orientation": "h",
         "showlegend": true,
         "textposition": "auto",
         "type": "bar",
         "x": [
          -0.11383981732671808
         ],
         "xaxis": "x",
         "y": [
          "Premier League"
         ],
         "yaxis": "y"
        }
       ],
       "layout": {
        "autosize": true,
        "barmode": "relative",
        "legend": {
         "title": {
          "text": "Rank"
         },
         "tracegroupgap": 0
        },
        "margin": {
         "t": 60
        },
        "template": {
         "data": {
          "bar": [
           {
            "error_x": {
             "color": "#2a3f5f"
            },
            "error_y": {
             "color": "#2a3f5f"
            },
            "marker": {
             "line": {
              "color": "#E5ECF6",
              "width": 0.5
             },
             "pattern": {
              "fillmode": "overlay",
              "size": 10,
              "solidity": 0.2
             }
            },
            "type": "bar"
           }
          ],
          "barpolar": [
           {
            "marker": {
             "line": {
              "color": "#E5ECF6",
              "width": 0.5
             },
             "pattern": {
              "fillmode": "overlay",
              "size": 10,
              "solidity": 0.2
             }
            },
            "type": "barpolar"
           }
          ],
          "carpet": [
           {
            "aaxis": {
             "endlinecolor": "#2a3f5f",
             "gridcolor": "white",
             "linecolor": "white",
             "minorgridcolor": "white",
             "startlinecolor": "#2a3f5f"
            },
            "baxis": {
             "endlinecolor": "#2a3f5f",
             "gridcolor": "white",
             "linecolor": "white",
             "minorgridcolor": "white",
             "startlinecolor": "#2a3f5f"
            },
            "type": "carpet"
           }
          ],
          "choropleth": [
           {
            "colorbar": {
             "outlinewidth": 0,
             "ticks": ""
            },
            "type": "choropleth"
           }
          ],
          "contour": [
           {
            "colorbar": {
             "outlinewidth": 0,
             "ticks": ""
            },
            "colorscale": [
             [
              0,
              "#0d0887"
             ],
             [
              0.1111111111111111,
              "#46039f"
             ],
             [
              0.2222222222222222,
              "#7201a8"
             ],
             [
              0.3333333333333333,
              "#9c179e"
             ],
             [
              0.4444444444444444,
              "#bd3786"
             ],
             [
              0.5555555555555556,
              "#d8576b"
             ],
             [
              0.6666666666666666,
              "#ed7953"
             ],
             [
              0.7777777777777778,
              "#fb9f3a"
             ],
             [
              0.8888888888888888,
              "#fdca26"
             ],
             [
              1,
              "#f0f921"
             ]
            ],
            "type": "contour"
           }
          ],
          "contourcarpet": [
           {
            "colorbar": {
             "outlinewidth": 0,
             "ticks": ""
            },
            "type": "contourcarpet"
           }
          ],
          "heatmap": [
           {
            "colorbar": {
             "outlinewidth": 0,
             "ticks": ""
            },
            "colorscale": [
             [
              0,
              "#0d0887"
             ],
             [
              0.1111111111111111,
              "#46039f"
             ],
             [
              0.2222222222222222,
              "#7201a8"
             ],
             [
              0.3333333333333333,
              "#9c179e"
             ],
             [
              0.4444444444444444,
              "#bd3786"
             ],
             [
              0.5555555555555556,
              "#d8576b"
             ],
             [
              0.6666666666666666,
              "#ed7953"
             ],
             [
              0.7777777777777778,
              "#fb9f3a"
             ],
             [
              0.8888888888888888,
              "#fdca26"
             ],
             [
              1,
              "#f0f921"
             ]
            ],
            "type": "heatmap"
           }
          ],
          "heatmapgl": [
           {
            "colorbar": {
             "outlinewidth": 0,
             "ticks": ""
            },
            "colorscale": [
             [
              0,
              "#0d0887"
             ],
             [
              0.1111111111111111,
              "#46039f"
             ],
             [
              0.2222222222222222,
              "#7201a8"
             ],
             [
              0.3333333333333333,
              "#9c179e"
             ],
             [
              0.4444444444444444,
              "#bd3786"
             ],
             [
              0.5555555555555556,
              "#d8576b"
             ],
             [
              0.6666666666666666,
              "#ed7953"
             ],
             [
              0.7777777777777778,
              "#fb9f3a"
             ],
             [
              0.8888888888888888,
              "#fdca26"
             ],
             [
              1,
              "#f0f921"
             ]
            ],
            "type": "heatmapgl"
           }
          ],
          "histogram": [
           {
            "marker": {
             "pattern": {
              "fillmode": "overlay",
              "size": 10,
              "solidity": 0.2
             }
            },
            "type": "histogram"
           }
          ],
          "histogram2d": [
           {
            "colorbar": {
             "outlinewidth": 0,
             "ticks": ""
            },
            "colorscale": [
             [
              0,
              "#0d0887"
             ],
             [
              0.1111111111111111,
              "#46039f"
             ],
             [
              0.2222222222222222,
              "#7201a8"
             ],
             [
              0.3333333333333333,
              "#9c179e"
             ],
             [
              0.4444444444444444,
              "#bd3786"
             ],
             [
              0.5555555555555556,
              "#d8576b"
             ],
             [
              0.6666666666666666,
              "#ed7953"
             ],
             [
              0.7777777777777778,
              "#fb9f3a"
             ],
             [
              0.8888888888888888,
              "#fdca26"
             ],
             [
              1,
              "#f0f921"
             ]
            ],
            "type": "histogram2d"
           }
          ],
          "histogram2dcontour": [
           {
            "colorbar": {
             "outlinewidth": 0,
             "ticks": ""
            },
            "colorscale": [
             [
              0,
              "#0d0887"
             ],
             [
              0.1111111111111111,
              "#46039f"
             ],
             [
              0.2222222222222222,
              "#7201a8"
             ],
             [
              0.3333333333333333,
              "#9c179e"
             ],
             [
              0.4444444444444444,
              "#bd3786"
             ],
             [
              0.5555555555555556,
              "#d8576b"
             ],
             [
              0.6666666666666666,
              "#ed7953"
             ],
             [
              0.7777777777777778,
              "#fb9f3a"
             ],
             [
              0.8888888888888888,
              "#fdca26"
             ],
             [
              1,
              "#f0f921"
             ]
            ],
            "type": "histogram2dcontour"
           }
          ],
          "mesh3d": [
           {
            "colorbar": {
             "outlinewidth": 0,
             "ticks": ""
            },
            "type": "mesh3d"
           }
          ],
          "parcoords": [
           {
            "line": {
             "colorbar": {
              "outlinewidth": 0,
              "ticks": ""
             }
            },
            "type": "parcoords"
           }
          ],
          "pie": [
           {
            "automargin": true,
            "type": "pie"
           }
          ],
          "scatter": [
           {
            "fillpattern": {
             "fillmode": "overlay",
             "size": 10,
             "solidity": 0.2
            },
            "type": "scatter"
           }
          ],
          "scatter3d": [
           {
            "line": {
             "colorbar": {
              "outlinewidth": 0,
              "ticks": ""
             }
            },
            "marker": {
             "colorbar": {
              "outlinewidth": 0,
              "ticks": ""
             }
            },
            "type": "scatter3d"
           }
          ],
          "scattercarpet": [
           {
            "marker": {
             "colorbar": {
              "outlinewidth": 0,
              "ticks": ""
             }
            },
            "type": "scattercarpet"
           }
          ],
          "scattergeo": [
           {
            "marker": {
             "colorbar": {
              "outlinewidth": 0,
              "ticks": ""
             }
            },
            "type": "scattergeo"
           }
          ],
          "scattergl": [
           {
            "marker": {
             "colorbar": {
              "outlinewidth": 0,
              "ticks": ""
             }
            },
            "type": "scattergl"
           }
          ],
          "scattermapbox": [
           {
            "marker": {
             "colorbar": {
              "outlinewidth": 0,
              "ticks": ""
             }
            },
            "type": "scattermapbox"
           }
          ],
          "scatterpolar": [
           {
            "marker": {
             "colorbar": {
              "outlinewidth": 0,
              "ticks": ""
             }
            },
            "type": "scatterpolar"
           }
          ],
          "scatterpolargl": [
           {
            "marker": {
             "colorbar": {
              "outlinewidth": 0,
              "ticks": ""
             }
            },
            "type": "scatterpolargl"
           }
          ],
          "scatterternary": [
           {
            "marker": {
             "colorbar": {
              "outlinewidth": 0,
              "ticks": ""
             }
            },
            "type": "scatterternary"
           }
          ],
          "surface": [
           {
            "colorbar": {
             "outlinewidth": 0,
             "ticks": ""
            },
            "colorscale": [
             [
              0,
              "#0d0887"
             ],
             [
              0.1111111111111111,
              "#46039f"
             ],
             [
              0.2222222222222222,
              "#7201a8"
             ],
             [
              0.3333333333333333,
              "#9c179e"
             ],
             [
              0.4444444444444444,
              "#bd3786"
             ],
             [
              0.5555555555555556,
              "#d8576b"
             ],
             [
              0.6666666666666666,
              "#ed7953"
             ],
             [
              0.7777777777777778,
              "#fb9f3a"
             ],
             [
              0.8888888888888888,
              "#fdca26"
             ],
             [
              1,
              "#f0f921"
             ]
            ],
            "type": "surface"
           }
          ],
          "table": [
           {
            "cells": {
             "fill": {
              "color": "#EBF0F8"
             },
             "line": {
              "color": "white"
             }
            },
            "header": {
             "fill": {
              "color": "#C8D4E3"
             },
             "line": {
              "color": "white"
             }
            },
            "type": "table"
           }
          ]
         },
         "layout": {
          "annotationdefaults": {
           "arrowcolor": "#2a3f5f",
           "arrowhead": 0,
           "arrowwidth": 1
          },
          "autotypenumbers": "strict",
          "coloraxis": {
           "colorbar": {
            "outlinewidth": 0,
            "ticks": ""
           }
          },
          "colorscale": {
           "diverging": [
            [
             0,
             "#8e0152"
            ],
            [
             0.1,
             "#c51b7d"
            ],
            [
             0.2,
             "#de77ae"
            ],
            [
             0.3,
             "#f1b6da"
            ],
            [
             0.4,
             "#fde0ef"
            ],
            [
             0.5,
             "#f7f7f7"
            ],
            [
             0.6,
             "#e6f5d0"
            ],
            [
             0.7,
             "#b8e186"
            ],
            [
             0.8,
             "#7fbc41"
            ],
            [
             0.9,
             "#4d9221"
            ],
            [
             1,
             "#276419"
            ]
           ],
           "sequential": [
            [
             0,
             "#0d0887"
            ],
            [
             0.1111111111111111,
             "#46039f"
            ],
            [
             0.2222222222222222,
             "#7201a8"
            ],
            [
             0.3333333333333333,
             "#9c179e"
            ],
            [
             0.4444444444444444,
             "#bd3786"
            ],
            [
             0.5555555555555556,
             "#d8576b"
            ],
            [
             0.6666666666666666,
             "#ed7953"
            ],
            [
             0.7777777777777778,
             "#fb9f3a"
            ],
            [
             0.8888888888888888,
             "#fdca26"
            ],
            [
             1,
             "#f0f921"
            ]
           ],
           "sequentialminus": [
            [
             0,
             "#0d0887"
            ],
            [
             0.1111111111111111,
             "#46039f"
            ],
            [
             0.2222222222222222,
             "#7201a8"
            ],
            [
             0.3333333333333333,
             "#9c179e"
            ],
            [
             0.4444444444444444,
             "#bd3786"
            ],
            [
             0.5555555555555556,
             "#d8576b"
            ],
            [
             0.6666666666666666,
             "#ed7953"
            ],
            [
             0.7777777777777778,
             "#fb9f3a"
            ],
            [
             0.8888888888888888,
             "#fdca26"
            ],
            [
             1,
             "#f0f921"
            ]
           ]
          },
          "colorway": [
           "#636efa",
           "#EF553B",
           "#00cc96",
           "#ab63fa",
           "#FFA15A",
           "#19d3f3",
           "#FF6692",
           "#B6E880",
           "#FF97FF",
           "#FECB52"
          ],
          "font": {
           "color": "#2a3f5f"
          },
          "geo": {
           "bgcolor": "white",
           "lakecolor": "white",
           "landcolor": "#E5ECF6",
           "showlakes": true,
           "showland": true,
           "subunitcolor": "white"
          },
          "hoverlabel": {
           "align": "left"
          },
          "hovermode": "closest",
          "mapbox": {
           "style": "light"
          },
          "paper_bgcolor": "white",
          "plot_bgcolor": "#E5ECF6",
          "polar": {
           "angularaxis": {
            "gridcolor": "white",
            "linecolor": "white",
            "ticks": ""
           },
           "bgcolor": "#E5ECF6",
           "radialaxis": {
            "gridcolor": "white",
            "linecolor": "white",
            "ticks": ""
           }
          },
          "scene": {
           "xaxis": {
            "backgroundcolor": "#E5ECF6",
            "gridcolor": "white",
            "gridwidth": 2,
            "linecolor": "white",
            "showbackground": true,
            "ticks": "",
            "zerolinecolor": "white"
           },
           "yaxis": {
            "backgroundcolor": "#E5ECF6",
            "gridcolor": "white",
            "gridwidth": 2,
            "linecolor": "white",
            "showbackground": true,
            "ticks": "",
            "zerolinecolor": "white"
           },
           "zaxis": {
            "backgroundcolor": "#E5ECF6",
            "gridcolor": "white",
            "gridwidth": 2,
            "linecolor": "white",
            "showbackground": true,
            "ticks": "",
            "zerolinecolor": "white"
           }
          },
          "shapedefaults": {
           "line": {
            "color": "#2a3f5f"
           }
          },
          "ternary": {
           "aaxis": {
            "gridcolor": "white",
            "linecolor": "white",
            "ticks": ""
           },
           "baxis": {
            "gridcolor": "white",
            "linecolor": "white",
            "ticks": ""
           },
           "bgcolor": "#E5ECF6",
           "caxis": {
            "gridcolor": "white",
            "linecolor": "white",
            "ticks": ""
           }
          },
          "title": {
           "x": 0.05
          },
          "xaxis": {
           "automargin": true,
           "gridcolor": "white",
           "linecolor": "white",
           "ticks": "",
           "title": {
            "standoff": 15
           },
           "zerolinecolor": "white",
           "zerolinewidth": 2
          },
          "yaxis": {
           "automargin": true,
           "gridcolor": "white",
           "linecolor": "white",
           "ticks": "",
           "title": {
            "standoff": 15
           },
           "zerolinecolor": "white",
           "zerolinewidth": 2
          }
         }
        },
        "xaxis": {
         "anchor": "y",
         "autorange": true,
         "domain": [
          0,
          1
         ],
         "range": [
          -0.1243224952800254,
          0.08533106378612093
         ],
         "title": {
          "text": "Total Tax"
         },
         "type": "linear"
        },
        "yaxis": {
         "anchor": "x",
         "autorange": true,
         "domain": [
          0,
          1
         ],
         "range": [
          -0.5,
          4.5
         ],
         "title": {
          "text": "League"
         },
         "type": "category"
        }
       }
      },
      "image/png": "[encoded data removed]",
      "text/html": [
       "<div>                            <div id=\"6c28b956-e722-46f8-baa4-bc04f3245b2d\" class=\"plotly-graph-div\" style=\"height:525px; width:100%;\"></div>            <script type=\"text/javascript\">                require([\"plotly\"], function(Plotly) {                    window.PLOTLYENV=window.PLOTLYENV || {};                                    if (document.getElementById(\"6c28b956-e722-46f8-baa4-bc04f3245b2d\")) {                    Plotly.newPlot(                        \"6c28b956-e722-46f8-baa4-bc04f3245b2d\",                        [{\"alignmentgroup\":\"True\",\"hovertemplate\":\"Rank=5.0\\u003cbr\\u003eTotal Tax=%{x}\\u003cbr\\u003eLeague=%{y}\\u003cextra\\u003e\\u003c\\u002fextra\\u003e\",\"legendgroup\":\"5.0\",\"marker\":{\"color\":\"#636efa\",\"pattern\":{\"shape\":\"\"}},\"name\":\"5.0\",\"offsetgroup\":\"5.0\",\"orientation\":\"h\",\"showlegend\":true,\"textposition\":\"auto\",\"x\":[0.07484838583281361],\"xaxis\":\"x\",\"y\":[\"Ligue 1\"],\"yaxis\":\"y\",\"type\":\"bar\"},{\"alignmentgroup\":\"True\",\"hovertemplate\":\"Rank=4.0\\u003cbr\\u003eTotal Tax=%{x}\\u003cbr\\u003eLeague=%{y}\\u003cextra\\u003e\\u003c\\u002fextra\\u003e\",\"legendgroup\":\"4.0\",\"marker\":{\"color\":\"#EF553B\",\"pattern\":{\"shape\":\"\"}},\"name\":\"4.0\",\"offsetgroup\":\"4.0\",\"orientation\":\"h\",\"showlegend\":true,\"textposition\":\"auto\",\"x\":[0.04627591748075786],\"xaxis\":\"x\",\"y\":[\"Bundesliga\"],\"yaxis\":\"y\",\"type\":\"bar\"},{\"alignmentgroup\":\"True\",\"hovertemplate\":\"Rank=3.0\\u003cbr\\u003eTotal Tax=%{x}\\u003cbr\\u003eLeague=%{y}\\u003cextra\\u003e\\u003c\\u002fextra\\u003e\",\"legendgroup\":\"3.0\",\"marker\":{\"color\":\"#00cc96\",\"pattern\":{\"shape\":\"\"}},\"name\":\"3.0\",\"offsetgroup\":\"3.0\",\"orientation\":\"h\",\"showlegend\":true,\"textposition\":\"auto\",\"x\":[0.04242406447628727],\"xaxis\":\"x\",\"y\":[\"Serie A\"],\"yaxis\":\"y\",\"type\":\"bar\"},{\"alignmentgroup\":\"True\",\"hovertemplate\":\"Rank=2.0\\u003cbr\\u003eTotal Tax=%{x}\\u003cbr\\u003eLeague=%{y}\\u003cextra\\u003e\\u003c\\u002fextra\\u003e\",\"legendgroup\":\"2.0\",\"marker\":{\"color\":\"#ab63fa\",\"pattern\":{\"shape\":\"\"}},\"name\":\"2.0\",\"offsetgroup\":\"2.0\",\"orientation\":\"h\",\"showlegend\":true,\"textposition\":\"auto\",\"x\":[-0.04970855046314068],\"xaxis\":\"x\",\"y\":[\"La Liga\"],\"yaxis\":\"y\",\"type\":\"bar\"},{\"alignmentgroup\":\"True\",\"hovertemplate\":\"Rank=1.0\\u003cbr\\u003eTotal Tax=%{x}\\u003cbr\\u003eLeague=%{y}\\u003cextra\\u003e\\u003c\\u002fextra\\u003e\",\"legendgroup\":\"1.0\",\"marker\":{\"color\":\"#FFA15A\",\"pattern\":{\"shape\":\"\"}},\"name\":\"1.0\",\"offsetgroup\":\"1.0\",\"orientation\":\"h\",\"showlegend\":true,\"textposition\":\"auto\",\"x\":[-0.11383981732671808],\"xaxis\":\"x\",\"y\":[\"Premier League\"],\"yaxis\":\"y\",\"type\":\"bar\"}],                        {\"template\":{\"data\":{\"histogram2dcontour\":[{\"type\":\"histogram2dcontour\",\"colorbar\":{\"outlinewidth\":0,\"ticks\":\"\"},\"colorscale\":[[0.0,\"#0d0887\"],[0.1111111111111111,\"#46039f\"],[0.2222222222222222,\"#7201a8\"],[0.3333333333333333,\"#9c179e\"],[0.4444444444444444,\"#bd3786\"],[0.5555555555555556,\"#d8576b\"],[0.6666666666666666,\"#ed7953\"],[0.7777777777777778,\"#fb9f3a\"],[0.8888888888888888,\"#fdca26\"],[1.0,\"#f0f921\"]]}],\"choropleth\":[{\"type\":\"choropleth\",\"colorbar\":{\"outlinewidth\":0,\"ticks\":\"\"}}],\"histogram2d\":[{\"type\":\"histogram2d\",\"colorbar\":{\"outlinewidth\":0,\"ticks\":\"\"},\"colorscale\":[[0.0,\"#0d0887\"],[0.1111111111111111,\"#46039f\"],[0.2222222222222222,\"#7201a8\"],[0.3333333333333333,\"#9c179e\"],[0.4444444444444444,\"#bd3786\"],[0.5555555555555556,\"#d8576b\"],[0.6666666666666666,\"#ed7953\"],[0.7777777777777778,\"#fb9f3a\"],[0.8888888888888888,\"#fdca26\"],[1.0,\"#f0f921\"]]}],\"heatmap\":[{\"type\":\"heatmap\",\"colorbar\":{\"outlinewidth\":0,\"ticks\":\"\"},\"colorscale\":[[0.0,\"#0d0887\"],[0.1111111111111111,\"#46039f\"],[0.2222222222222222,\"#7201a8\"],[0.3333333333333333,\"#9c179e\"],[0.4444444444444444,\"#bd3786\"],[0.5555555555555556,\"#d8576b\"],[0.6666666666666666,\"#ed7953\"],[0.7777777777777778,\"#fb9f3a\"],[0.8888888888888888,\"#fdca26\"],[1.0,\"#f0f921\"]]}],\"heatmapgl\":[{\"type\":\"heatmapgl\",\"colorbar\":{\"outlinewidth\":0,\"ticks\":\"\"},\"colorscale\":[[0.0,\"#0d0887\"],[0.1111111111111111,\"#46039f\"],[0.2222222222222222,\"#7201a8\"],[0.3333333333333333,\"#9c179e\"],[0.4444444444444444,\"#bd3786\"],[0.5555555555555556,\"#d8576b\"],[0.6666666666666666,\"#ed7953\"],[0.7777777777777778,\"#fb9f3a\"],[0.8888888888888888,\"#fdca26\"],[1.0,\"#f0f921\"]]}],\"contourcarpet\":[{\"type\":\"contourcarpet\",\"colorbar\":{\"outlinewidth\":0,\"ticks\":\"\"}}],\"contour\":[{\"type\":\"contour\",\"colorbar\":{\"outlinewidth\":0,\"ticks\":\"\"},\"colorscale\":[[0.0,\"#0d0887\"],[0.1111111111111111,\"#46039f\"],[0.2222222222222222,\"#7201a8\"],[0.3333333333333333,\"#9c179e\"],[0.4444444444444444,\"#bd3786\"],[0.5555555555555556,\"#d8576b\"],[0.6666666666666666,\"#ed7953\"],[0.7777777777777778,\"#fb9f3a\"],[0.8888888888888888,\"#fdca26\"],[1.0,\"#f0f921\"]]}],\"surface\":[{\"type\":\"surface\",\"colorbar\":{\"outlinewidth\":0,\"ticks\":\"\"},\"colorscale\":[[0.0,\"#0d0887\"],[0.1111111111111111,\"#46039f\"],[0.2222222222222222,\"#7201a8\"],[0.3333333333333333,\"#9c179e\"],[0.4444444444444444,\"#bd3786\"],[0.5555555555555556,\"#d8576b\"],[0.6666666666666666,\"#ed7953\"],[0.7777777777777778,\"#fb9f3a\"],[0.8888888888888888,\"#fdca26\"],[1.0,\"#f0f921\"]]}],\"mesh3d\":[{\"type\":\"mesh3d\",\"colorbar\":{\"outlinewidth\":0,\"ticks\":\"\"}}],\"scatter\":[{\"fillpattern\":{\"fillmode\":\"overlay\",\"size\":10,\"solidity\":0.2},\"type\":\"scatter\"}],\"parcoords\":[{\"type\":\"parcoords\",\"line\":{\"colorbar\":{\"outlinewidth\":0,\"ticks\":\"\"}}}],\"scatterpolargl\":[{\"type\":\"scatterpolargl\",\"marker\":{\"colorbar\":{\"outlinewidth\":0,\"ticks\":\"\"}}}],\"bar\":[{\"error_x\":{\"color\":\"#2a3f5f\"},\"error_y\":{\"color\":\"#2a3f5f\"},\"marker\":{\"line\":{\"color\":\"#E5ECF6\",\"width\":0.5},\"pattern\":{\"fillmode\":\"overlay\",\"size\":10,\"solidity\":0.2}},\"type\":\"bar\"}],\"scattergeo\":[{\"type\":\"scattergeo\",\"marker\":{\"colorbar\":{\"outlinewidth\":0,\"ticks\":\"\"}}}],\"scatterpolar\":[{\"type\":\"scatterpolar\",\"marker\":{\"colorbar\":{\"outlinewidth\":0,\"ticks\":\"\"}}}],\"histogram\":[{\"marker\":{\"pattern\":{\"fillmode\":\"overlay\",\"size\":10,\"solidity\":0.2}},\"type\":\"histogram\"}],\"scattergl\":[{\"type\":\"scattergl\",\"marker\":{\"colorbar\":{\"outlinewidth\":0,\"ticks\":\"\"}}}],\"scatter3d\":[{\"type\":\"scatter3d\",\"line\":{\"colorbar\":{\"outlinewidth\":0,\"ticks\":\"\"}},\"marker\":{\"colorbar\":{\"outlinewidth\":0,\"ticks\":\"\"}}}],\"scattermapbox\":[{\"type\":\"scattermapbox\",\"marker\":{\"colorbar\":{\"outlinewidth\":0,\"ticks\":\"\"}}}],\"scatterternary\":[{\"type\":\"scatterternary\",\"marker\":{\"colorbar\":{\"outlinewidth\":0,\"ticks\":\"\"}}}],\"scattercarpet\":[{\"type\":\"scattercarpet\",\"marker\":{\"colorbar\":{\"outlinewidth\":0,\"ticks\":\"\"}}}],\"carpet\":[{\"aaxis\":{\"endlinecolor\":\"#2a3f5f\",\"gridcolor\":\"white\",\"linecolor\":\"white\",\"minorgridcolor\":\"white\",\"startlinecolor\":\"#2a3f5f\"},\"baxis\":{\"endlinecolor\":\"#2a3f5f\",\"gridcolor\":\"white\",\"linecolor\":\"white\",\"minorgridcolor\":\"white\",\"startlinecolor\":\"#2a3f5f\"},\"type\":\"carpet\"}],\"table\":[{\"cells\":{\"fill\":{\"color\":\"#EBF0F8\"},\"line\":{\"color\":\"white\"}},\"header\":{\"fill\":{\"color\":\"#C8D4E3\"},\"line\":{\"color\":\"white\"}},\"type\":\"table\"}],\"barpolar\":[{\"marker\":{\"line\":{\"color\":\"#E5ECF6\",\"width\":0.5},\"pattern\":{\"fillmode\":\"overlay\",\"size\":10,\"solidity\":0.2}},\"type\":\"barpolar\"}],\"pie\":[{\"automargin\":true,\"type\":\"pie\"}]},\"layout\":{\"autotypenumbers\":\"strict\",\"colorway\":[\"#636efa\",\"#EF553B\",\"#00cc96\",\"#ab63fa\",\"#FFA15A\",\"#19d3f3\",\"#FF6692\",\"#B6E880\",\"#FF97FF\",\"#FECB52\"],\"font\":{\"color\":\"#2a3f5f\"},\"hovermode\":\"closest\",\"hoverlabel\":{\"align\":\"left\"},\"paper_bgcolor\":\"white\",\"plot_bgcolor\":\"#E5ECF6\",\"polar\":{\"bgcolor\":\"#E5ECF6\",\"angularaxis\":{\"gridcolor\":\"white\",\"linecolor\":\"white\",\"ticks\":\"\"},\"radialaxis\":{\"gridcolor\":\"white\",\"linecolor\":\"white\",\"ticks\":\"\"}},\"ternary\":{\"bgcolor\":\"#E5ECF6\",\"aaxis\":{\"gridcolor\":\"white\",\"linecolor\":\"white\",\"ticks\":\"\"},\"baxis\":{\"gridcolor\":\"white\",\"linecolor\":\"white\",\"ticks\":\"\"},\"caxis\":{\"gridcolor\":\"white\",\"linecolor\":\"white\",\"ticks\":\"\"}},\"coloraxis\":{\"colorbar\":{\"outlinewidth\":0,\"ticks\":\"\"}},\"colorscale\":{\"sequential\":[[0.0,\"#0d0887\"],[0.1111111111111111,\"#46039f\"],[0.2222222222222222,\"#7201a8\"],[0.3333333333333333,\"#9c179e\"],[0.4444444444444444,\"#bd3786\"],[0.5555555555555556,\"#d8576b\"],[0.6666666666666666,\"#ed7953\"],[0.7777777777777778,\"#fb9f3a\"],[0.8888888888888888,\"#fdca26\"],[1.0,\"#f0f921\"]],\"sequentialminus\":[[0.0,\"#0d0887\"],[0.1111111111111111,\"#46039f\"],[0.2222222222222222,\"#7201a8\"],[0.3333333333333333,\"#9c179e\"],[0.4444444444444444,\"#bd3786\"],[0.5555555555555556,\"#d8576b\"],[0.6666666666666666,\"#ed7953\"],[0.7777777777777778,\"#fb9f3a\"],[0.8888888888888888,\"#fdca26\"],[1.0,\"#f0f921\"]],\"diverging\":[[0,\"#8e0152\"],[0.1,\"#c51b7d\"],[0.2,\"#de77ae\"],[0.3,\"#f1b6da\"],[0.4,\"#fde0ef\"],[0.5,\"#f7f7f7\"],[0.6,\"#e6f5d0\"],[0.7,\"#b8e186\"],[0.8,\"#7fbc41\"],[0.9,\"#4d9221\"],[1,\"#276419\"]]},\"xaxis\":{\"gridcolor\":\"white\",\"linecolor\":\"white\",\"ticks\":\"\",\"title\":{\"standoff\":15},\"zerolinecolor\":\"white\",\"automargin\":true,\"zerolinewidth\":2},\"yaxis\":{\"gridcolor\":\"white\",\"linecolor\":\"white\",\"ticks\":\"\",\"title\":{\"standoff\":15},\"zerolinecolor\":\"white\",\"automargin\":true,\"zerolinewidth\":2},\"scene\":{\"xaxis\":{\"backgroundcolor\":\"#E5ECF6\",\"gridcolor\":\"white\",\"linecolor\":\"white\",\"showbackground\":true,\"ticks\":\"\",\"zerolinecolor\":\"white\",\"gridwidth\":2},\"yaxis\":{\"backgroundcolor\":\"#E5ECF6\",\"gridcolor\":\"white\",\"linecolor\":\"white\",\"showbackground\":true,\"ticks\":\"\",\"zerolinecolor\":\"white\",\"gridwidth\":2},\"zaxis\":{\"backgroundcolor\":\"#E5ECF6\",\"gridcolor\":\"white\",\"linecolor\":\"white\",\"showbackground\":true,\"ticks\":\"\",\"zerolinecolor\":\"white\",\"gridwidth\":2}},\"shapedefaults\":{\"line\":{\"color\":\"#2a3f5f\"}},\"annotationdefaults\":{\"arrowcolor\":\"#2a3f5f\",\"arrowhead\":0,\"arrowwidth\":1},\"geo\":{\"bgcolor\":\"white\",\"landcolor\":\"#E5ECF6\",\"subunitcolor\":\"white\",\"showland\":true,\"showlakes\":true,\"lakecolor\":\"white\"},\"title\":{\"x\":0.05},\"mapbox\":{\"style\":\"light\"}}},\"xaxis\":{\"anchor\":\"y\",\"domain\":[0.0,1.0],\"title\":{\"text\":\"Total Tax\"}},\"yaxis\":{\"anchor\":\"x\",\"domain\":[0.0,1.0],\"title\":{\"text\":\"League\"}},\"legend\":{\"title\":{\"text\":\"Rank\"},\"tracegroupgap\":0},\"margin\":{\"t\":60},\"barmode\":\"relative\"},                        {\"responsive\": true}                    ).then(function(){\n",
       "                            \n",
       "var gd = document.getElementById('6c28b956-e722-46f8-baa4-bc04f3245b2d');\n",
       "var x = new MutationObserver(function (mutations, observer) {{\n",
       "        var display = window.getComputedStyle(gd).display;\n",
       "        if (!display || display === 'none') {{\n",
       "            console.log([gd, 'removed!']);\n",
       "            Plotly.purge(gd);\n",
       "            observer.disconnect();\n",
       "        }}\n",
       "}});\n",
       "\n",
       "// Listen for the removal of the full notebook cells\n",
       "var notebookContainer = gd.closest('#notebook-container');\n",
       "if (notebookContainer) {{\n",
       "    x.observe(notebookContainer, {childList: true});\n",
       "}}\n",
       "\n",
       "// Listen for the clearing of the current output cell\n",
       "var outputEl = gd.closest('.output');\n",
       "if (outputEl) {{\n",
       "    x.observe(outputEl, {childList: true});\n",
       "}}\n",
       "\n",
       "                        })                };                });            </script>        </div>"
      ]
     },
     "metadata": {},
     "output_type": "display_data"
    }
   ],
   "source": [
    "\n",
    "\n",
    "px.bar(tipo.reset_index().sort_values(by='Total Tax', ascending = False), \n",
    "       x = 'Total Tax', \n",
    "       y = 'League', \n",
    "       color = 'Rank')\n",
    "\n"
   ]
  },
  {
   "cell_type": "code",
   "execution_count": 219,
   "id": "78276315-fed4-4434-a575-73bc152a12a7",
   "metadata": {},
   "outputs": [
    {
     "data": {
      "text/html": [
       "<div>\n",
       "<style scoped>\n",
       "    .dataframe tbody tr th:only-of-type {\n",
       "        vertical-align: middle;\n",
       "    }\n",
       "\n",
       "    .dataframe tbody tr th {\n",
       "        vertical-align: top;\n",
       "    }\n",
       "\n",
       "    .dataframe thead th {\n",
       "        text-align: right;\n",
       "    }\n",
       "</style>\n",
       "<table border=\"1\" class=\"dataframe\">\n",
       "  <thead>\n",
       "    <tr style=\"text-align: right;\">\n",
       "      <th></th>\n",
       "      <th>vs Bundesliga</th>\n",
       "      <th>vs La Liga</th>\n",
       "      <th>vs Ligue 1</th>\n",
       "      <th>vs Premier League</th>\n",
       "      <th>vs Serie A</th>\n",
       "      <th>Total</th>\n",
       "    </tr>\n",
       "  </thead>\n",
       "  <tbody>\n",
       "    <tr>\n",
       "      <th>Bundesliga</th>\n",
       "      <td>NaN</td>\n",
       "      <td>-0.012138</td>\n",
       "      <td>0.006474</td>\n",
       "      <td>-0.038876</td>\n",
       "      <td>-0.001736</td>\n",
       "      <td>-0.046276</td>\n",
       "    </tr>\n",
       "    <tr>\n",
       "      <th>La Liga</th>\n",
       "      <td>0.012138</td>\n",
       "      <td>NaN</td>\n",
       "      <td>0.018593</td>\n",
       "      <td>0.000935</td>\n",
       "      <td>0.018043</td>\n",
       "      <td>0.049709</td>\n",
       "    </tr>\n",
       "    <tr>\n",
       "      <th>Ligue 1</th>\n",
       "      <td>-0.006474</td>\n",
       "      <td>-0.018593</td>\n",
       "      <td>NaN</td>\n",
       "      <td>-0.036376</td>\n",
       "      <td>-0.013406</td>\n",
       "      <td>-0.074848</td>\n",
       "    </tr>\n",
       "    <tr>\n",
       "      <th>Premier League</th>\n",
       "      <td>0.038876</td>\n",
       "      <td>-0.000935</td>\n",
       "      <td>0.036376</td>\n",
       "      <td>NaN</td>\n",
       "      <td>0.039523</td>\n",
       "      <td>0.113840</td>\n",
       "    </tr>\n",
       "    <tr>\n",
       "      <th>Serie A</th>\n",
       "      <td>0.001736</td>\n",
       "      <td>-0.018043</td>\n",
       "      <td>0.013406</td>\n",
       "      <td>-0.039523</td>\n",
       "      <td>NaN</td>\n",
       "      <td>-0.042424</td>\n",
       "    </tr>\n",
       "  </tbody>\n",
       "</table>\n",
       "</div>"
      ],
      "text/plain": [
       "                 vs Bundesliga   vs La Liga   vs Ligue 1   vs Premier League  \\\n",
       "Bundesliga                 NaN    -0.012138     0.006474           -0.038876   \n",
       "La Liga               0.012138          NaN     0.018593            0.000935   \n",
       "Ligue 1              -0.006474    -0.018593          NaN           -0.036376   \n",
       "Premier League        0.038876    -0.000935     0.036376                 NaN   \n",
       "Serie A               0.001736    -0.018043     0.013406           -0.039523   \n",
       "\n",
       "                 vs Serie A     Total  \n",
       "Bundesliga        -0.001736 -0.046276  \n",
       "La Liga            0.018043  0.049709  \n",
       "Ligue 1           -0.013406 -0.074848  \n",
       "Premier League     0.039523  0.113840  \n",
       "Serie A                 NaN -0.042424  "
      ]
     },
     "execution_count": 219,
     "metadata": {},
     "output_type": "execute_result"
    }
   ],
   "source": [
    "\n",
    "\n",
    "compare_df = pd.Series(combo_compare_matrix).unstack()\n",
    "compare_df['Total'] = compare_df.sum(axis=1)\n",
    "\n",
    "\n",
    "compare_df\n"
   ]
  },
  {
   "cell_type": "code",
   "execution_count": 135,
   "id": "7467560c-126e-4e3f-85fe-ddb418d074a5",
   "metadata": {},
   "outputs": [
    {
     "data": {
      "text/plain": [
       "{'La Liga': 0.42502167262591195, 'Premier League': 0.428487861947938}"
      ]
     },
     "execution_count": 135,
     "metadata": {},
     "output_type": "execute_result"
    }
   ],
   "source": [
    "\n",
    "\n",
    "\n",
    "chunks[curr_combo].groupby('Comp')['Playing Time - Min'].mean().to_dict()\n",
    "\n",
    "\n"
   ]
  },
  {
   "cell_type": "code",
   "execution_count": 124,
   "id": "812fb2f2-9468-43b5-b375-1c5c4ee74b6f",
   "metadata": {},
   "outputs": [],
   "source": [
    "\n",
    "\n",
    "curr_combo = ('La Liga', 'Premier League')\n",
    "\n",
    "\n",
    "avg_age = chunks[curr_combo].groupby('Comp')['Age'].mean().round(0).to_dict()\n",
    "\n",
    "\n",
    "comparison = chunks[curr_combo].groupby('Comp')[tax_stats].mean().T\n",
    "\n",
    "\n",
    "#comparison['Difference'] = comparison[curr_combo[0]] - comparison[curr_combo[1]]\n",
    "#comparison['Difference'].index[:50]\n",
    "\n",
    "\n"
   ]
  },
  {
   "cell_type": "code",
   "execution_count": 128,
   "id": "febf1689-f415-42e3-b9c9-7fec1db8b55c",
   "metadata": {},
   "outputs": [
    {
     "data": {
      "text/plain": [
       "-0.09345272326510203"
      ]
     },
     "execution_count": 128,
     "metadata": {},
     "output_type": "execute_result"
    }
   ],
   "source": [
    "\n",
    "\n",
    "\n",
    "((comparison['La Liga'] - comparison['Premier League']).sum() / len(comparison)) * 100\n",
    "\n",
    "\n",
    "\n",
    "\n"
   ]
  },
  {
   "cell_type": "code",
   "execution_count": null,
   "id": "2c9a651c-4d1b-463c-8988-3d51171639a6",
   "metadata": {},
   "outputs": [],
   "source": [
    "\n",
    "\n",
    "\n",
    "\n",
    "\n"
   ]
  },
  {
   "cell_type": "code",
   "execution_count": 123,
   "id": "34559825-e3fc-4dc0-913a-73b2a3e233ef",
   "metadata": {},
   "outputs": [
    {
     "data": {
      "text/plain": [
       "['Performance - Gls per 90',\n",
       " 'Ast per 90',\n",
       " 'Expected - npxG per 90',\n",
       " 'Standard - G/Sh per 90',\n",
       " 'Expected - npxG/Sh per 90',\n",
       " 'Total - TotDist per 90',\n",
       " 'Total - PrgDist per 90',\n",
       " 'Total - Cmp per 90',\n",
       " 'Total - Cmp% per 90',\n",
       " 'Long - Cmp% per 90',\n",
       " 'Medium - Cmp% per 90',\n",
       " 'KP per 90',\n",
       " 'PPA per 90',\n",
       " 'CrsPA per 90',\n",
       " 'PrgP per 90',\n",
       " 'Pass Types - TB per 90',\n",
       " 'Pass Types - Sw per 90',\n",
       " 'SCA - SCA per 90',\n",
       " 'GCA Types - PassLive per 90',\n",
       " 'Take-Ons - Succ per 90',\n",
       " 'Take-Ons - Succ% per 90',\n",
       " 'Carries - Carries per 90',\n",
       " 'Carries - PrgDist per 90',\n",
       " 'Carries - 1/3 per 90',\n",
       " 'Tackles - TklW per 90',\n",
       " 'Tackles - Def 3rd per 90',\n",
       " 'Challenges - Tkl per 90',\n",
       " 'Challenges - Tkl% per 90',\n",
       " 'Int per 90',\n",
       " 'Blocks - Blocks per 90',\n",
       " 'Blocks - Sh per 90',\n",
       " 'Blocks - Pass per 90',\n",
       " 'Performance - PKcon per 90',\n",
       " 'Clr per 90',\n",
       " 'Err per 90',\n",
       " 'Aerial Duels - Won per 90']"
      ]
     },
     "execution_count": 123,
     "metadata": {},
     "output_type": "execute_result"
    }
   ],
   "source": [
    "\n",
    "\n",
    "\n",
    "\n",
    "\n",
    "(comparison.loc[tax_stats][curr_combo[0]] - comparison.loc[tax_stats][curr_combo[1]]).mean()\n",
    "\n",
    "\n",
    "\n",
    "\n",
    "\n"
   ]
  },
  {
   "cell_type": "code",
   "execution_count": null,
   "id": "98bba15d-757c-4f18-8d46-16bdaea090d7",
   "metadata": {},
   "outputs": [],
   "source": [
    "\n",
    "\n",
    "\n"
   ]
  },
  {
   "cell_type": "code",
   "execution_count": 465,
   "id": "818f6a6a-f051-4e10-a866-42c9b6c88897",
   "metadata": {},
   "outputs": [
    {
     "data": {
      "text/html": [
       "<div>\n",
       "<style scoped>\n",
       "    .dataframe tbody tr th:only-of-type {\n",
       "        vertical-align: middle;\n",
       "    }\n",
       "\n",
       "    .dataframe tbody tr th {\n",
       "        vertical-align: top;\n",
       "    }\n",
       "\n",
       "    .dataframe thead th {\n",
       "        text-align: right;\n",
       "    }\n",
       "</style>\n",
       "<table border=\"1\" class=\"dataframe\">\n",
       "  <thead>\n",
       "    <tr style=\"text-align: right;\">\n",
       "      <th></th>\n",
       "      <th>Stat</th>\n",
       "      <th>Premier League</th>\n",
       "      <th>Serie A</th>\n",
       "      <th>Difference</th>\n",
       "    </tr>\n",
       "  </thead>\n",
       "  <tbody>\n",
       "    <tr>\n",
       "      <th>0</th>\n",
       "      <td>Tackles - Tkl</td>\n",
       "      <td>0.209705</td>\n",
       "      <td>0.280029</td>\n",
       "      <td>-0.070323</td>\n",
       "    </tr>\n",
       "    <tr>\n",
       "      <th>1</th>\n",
       "      <td>Tackles - TklW</td>\n",
       "      <td>0.215538</td>\n",
       "      <td>0.278624</td>\n",
       "      <td>-0.063087</td>\n",
       "    </tr>\n",
       "    <tr>\n",
       "      <th>2</th>\n",
       "      <td>Tackles - Def 3rd</td>\n",
       "      <td>0.244855</td>\n",
       "      <td>0.298733</td>\n",
       "      <td>-0.053878</td>\n",
       "    </tr>\n",
       "    <tr>\n",
       "      <th>3</th>\n",
       "      <td>Tackles - Mid 3rd</td>\n",
       "      <td>0.14112</td>\n",
       "      <td>0.194949</td>\n",
       "      <td>-0.053829</td>\n",
       "    </tr>\n",
       "    <tr>\n",
       "      <th>4</th>\n",
       "      <td>Tackles - Att 3rd</td>\n",
       "      <td>0.107232</td>\n",
       "      <td>0.145763</td>\n",
       "      <td>-0.038531</td>\n",
       "    </tr>\n",
       "  </tbody>\n",
       "</table>\n",
       "</div>"
      ],
      "text/plain": [
       "                Stat Premier League   Serie A Difference\n",
       "0      Tackles - Tkl       0.209705  0.280029  -0.070323\n",
       "1     Tackles - TklW       0.215538  0.278624  -0.063087\n",
       "2  Tackles - Def 3rd       0.244855  0.298733  -0.053878\n",
       "3  Tackles - Mid 3rd        0.14112  0.194949  -0.053829\n",
       "4  Tackles - Att 3rd       0.107232  0.145763  -0.038531"
      ]
     },
     "execution_count": 465,
     "metadata": {},
     "output_type": "execute_result"
    }
   ],
   "source": [
    "\n",
    "\n",
    "curr_combo = \"Premier League vs Serie A\"\n",
    "\n",
    "poop = chunks[curr_combo].T.loc[important_stats_comp['Defensive Stats'] + ['Age', 'Comp', \n",
    "                                                               'position', 'Playing Time - Min']].T\n",
    "\n",
    "\n",
    "title = 'DF'\n",
    "\n",
    "\n",
    "loc = [('Premier League', title),\n",
    "       ('Serie A', title)\n",
    "      ]\n",
    "\n",
    "# .plot.bar()\n",
    "# [important_stats_comp['Defensive Stats']].T\n",
    "# .loc[loc]\n",
    "golll = poop.groupby(['Comp',\n",
    "              'position']\n",
    "            ).mean().loc[loc][important_stats_comp['Defensive Stats']].droplevel(1, 0).T\n",
    "\n",
    "golll['Difference'] = (golll['Premier League'] - golll['Serie A'])\n",
    "\n",
    "golll = golll.reset_index()\n",
    "# .stack().reset_index()\n",
    "golll = golll.rename(columns = {'index' : 'Stat'})\n",
    "golll.columns.name = None\n",
    "\n",
    "\n",
    "golll.head()\n",
    "\n"
   ]
  },
  {
   "cell_type": "code",
   "execution_count": 466,
   "id": "2f359c82-e804-4d7b-8a01-5e104426210d",
   "metadata": {},
   "outputs": [
    {
     "data": {
      "application/vnd.plotly.v1+json": {
       "config": {
        "plotlyServerURL": "https://plot.ly"
       },
       "data": [
        {
         "alignmentgroup": "True",
         "hovertemplate": "Difference=%{y}<br>Stat=%{x}<extra></extra>",
         "legendgroup": "-0.07032324401290915",
         "marker": {
          "color": "#636efa",
          "pattern": {
           "shape": ""
          }
         },
         "name": "-0.07032324401290915",
         "offsetgroup": "-0.07032324401290915",
         "orientation": "v",
         "showlegend": true,
         "textposition": "auto",
         "type": "bar",
         "x": [
          "Tackles - Tkl"
         ],
         "xaxis": "x",
         "y": [
          -0.07032324401290915
         ],
         "yaxis": "y"
        },
        {
         "alignmentgroup": "True",
         "hovertemplate": "Difference=%{y}<br>Stat=%{x}<extra></extra>",
         "legendgroup": "-0.06308654530725608",
         "marker": {
          "color": "#EF553B",
          "pattern": {
           "shape": ""
          }
         },
         "name": "-0.06308654530725608",
         "offsetgroup": "-0.06308654530725608",
         "orientation": "v",
         "showlegend": true,
         "textposition": "auto",
         "type": "bar",
         "x": [
          "Tackles - TklW"
         ],
         "xaxis": "x",
         "y": [
          -0.06308654530725608
         ],
         "yaxis": "y"
        },
        {
         "alignmentgroup": "True",
         "hovertemplate": "Difference=%{y}<br>Stat=%{x}<extra></extra>",
         "legendgroup": "-0.053878313856434934",
         "marker": {
          "color": "#00cc96",
          "pattern": {
           "shape": ""
          }
         },
         "name": "-0.053878313856434934",
         "offsetgroup": "-0.053878313856434934",
         "orientation": "v",
         "showlegend": true,
         "textposition": "auto",
         "type": "bar",
         "x": [
          "Tackles - Def 3rd"
         ],
         "xaxis": "x",
         "y": [
          -0.053878313856434934
         ],
         "yaxis": "y"
        },
        {
         "alignmentgroup": "True",
         "hovertemplate": "Difference=%{y}<br>Stat=%{x}<extra></extra>",
         "legendgroup": "-0.053828760445831986",
         "marker": {
          "color": "#ab63fa",
          "pattern": {
           "shape": ""
          }
         },
         "name": "-0.053828760445831986",
         "offsetgroup": "-0.053828760445831986",
         "orientation": "v",
         "showlegend": true,
         "textposition": "auto",
         "type": "bar",
         "x": [
          "Tackles - Mid 3rd"
         ],
         "xaxis": "x",
         "y": [
          -0.053828760445831986
         ],
         "yaxis": "y"
        },
        {
         "alignmentgroup": "True",
         "hovertemplate": "Difference=%{y}<br>Stat=%{x}<extra></extra>",
         "legendgroup": "-0.038530753232593085",
         "marker": {
          "color": "#FFA15A",
          "pattern": {
           "shape": ""
          }
         },
         "name": "-0.038530753232593085",
         "offsetgroup": "-0.038530753232593085",
         "orientation": "v",
         "showlegend": true,
         "textposition": "auto",
         "type": "bar",
         "x": [
          "Tackles - Att 3rd"
         ],
         "xaxis": "x",
         "y": [
          -0.038530753232593085
         ],
         "yaxis": "y"
        },
        {
         "alignmentgroup": "True",
         "hovertemplate": "Difference=%{y}<br>Stat=%{x}<extra></extra>",
         "legendgroup": "-0.03138368577612985",
         "marker": {
          "color": "#19d3f3",
          "pattern": {
           "shape": ""
          }
         },
         "name": "-0.03138368577612985",
         "offsetgroup": "-0.03138368577612985",
         "orientation": "v",
         "showlegend": true,
         "textposition": "auto",
         "type": "bar",
         "x": [
          "Challenges - Tkl"
         ],
         "xaxis": "x",
         "y": [
          -0.03138368577612985
         ],
         "yaxis": "y"
        },
        {
         "alignmentgroup": "True",
         "hovertemplate": "Difference=%{y}<br>Stat=%{x}<extra></extra>",
         "legendgroup": "-0.13391882628109011",
         "marker": {
          "color": "#FF6692",
          "pattern": {
           "shape": ""
          }
         },
         "name": "-0.13391882628109011",
         "offsetgroup": "-0.13391882628109011",
         "orientation": "v",
         "showlegend": true,
         "textposition": "auto",
         "type": "bar",
         "x": [
          "Blocks - Blocks"
         ],
         "xaxis": "x",
         "y": [
          -0.13391882628109011
         ],
         "yaxis": "y"
        },
        {
         "alignmentgroup": "True",
         "hovertemplate": "Difference=%{y}<br>Stat=%{x}<extra></extra>",
         "legendgroup": "-0.1298560503568867",
         "marker": {
          "color": "#B6E880",
          "pattern": {
           "shape": ""
          }
         },
         "name": "-0.1298560503568867",
         "offsetgroup": "-0.1298560503568867",
         "orientation": "v",
         "showlegend": true,
         "textposition": "auto",
         "type": "bar",
         "x": [
          "Blocks - Sh"
         ],
         "xaxis": "x",
         "y": [
          -0.1298560503568867
         ],
         "yaxis": "y"
        },
        {
         "alignmentgroup": "True",
         "hovertemplate": "Difference=%{y}<br>Stat=%{x}<extra></extra>",
         "legendgroup": "-0.02535940898434405",
         "marker": {
          "color": "#FF97FF",
          "pattern": {
           "shape": ""
          }
         },
         "name": "-0.02535940898434405",
         "offsetgroup": "-0.02535940898434405",
         "orientation": "v",
         "showlegend": true,
         "textposition": "auto",
         "type": "bar",
         "x": [
          "Int"
         ],
         "xaxis": "x",
         "y": [
          -0.02535940898434405
         ],
         "yaxis": "y"
        },
        {
         "alignmentgroup": "True",
         "hovertemplate": "Difference=%{y}<br>Stat=%{x}<extra></extra>",
         "legendgroup": "-0.06881087331342495",
         "marker": {
          "color": "#FECB52",
          "pattern": {
           "shape": ""
          }
         },
         "name": "-0.06881087331342495",
         "offsetgroup": "-0.06881087331342495",
         "orientation": "v",
         "showlegend": true,
         "textposition": "auto",
         "type": "bar",
         "x": [
          "Tkl+Int"
         ],
         "xaxis": "x",
         "y": [
          -0.06881087331342495
         ],
         "yaxis": "y"
        },
        {
         "alignmentgroup": "True",
         "hovertemplate": "Difference=%{y}<br>Stat=%{x}<extra></extra>",
         "legendgroup": "-0.06215066393637761",
         "marker": {
          "color": "#636efa",
          "pattern": {
           "shape": ""
          }
         },
         "name": "-0.06215066393637761",
         "offsetgroup": "-0.06215066393637761",
         "orientation": "v",
         "showlegend": true,
         "textposition": "auto",
         "type": "bar",
         "x": [
          "Clr"
         ],
         "xaxis": "x",
         "y": [
          -0.06215066393637761
         ],
         "yaxis": "y"
        },
        {
         "alignmentgroup": "True",
         "hovertemplate": "Difference=%{y}<br>Stat=%{x}<extra></extra>",
         "legendgroup": "0.013710632251953556",
         "marker": {
          "color": "#EF553B",
          "pattern": {
           "shape": ""
          }
         },
         "name": "0.013710632251953556",
         "offsetgroup": "0.013710632251953556",
         "orientation": "v",
         "showlegend": true,
         "textposition": "auto",
         "type": "bar",
         "x": [
          "Err"
         ],
         "xaxis": "x",
         "y": [
          0.013710632251953556
         ],
         "yaxis": "y"
        }
       ],
       "layout": {
        "autosize": true,
        "barmode": "relative",
        "legend": {
         "title": {
          "text": "Difference"
         },
         "tracegroupgap": 0
        },
        "margin": {
         "t": 60
        },
        "template": {
         "data": {
          "bar": [
           {
            "error_x": {
             "color": "#2a3f5f"
            },
            "error_y": {
             "color": "#2a3f5f"
            },
            "marker": {
             "line": {
              "color": "#E5ECF6",
              "width": 0.5
             },
             "pattern": {
              "fillmode": "overlay",
              "size": 10,
              "solidity": 0.2
             }
            },
            "type": "bar"
           }
          ],
          "barpolar": [
           {
            "marker": {
             "line": {
              "color": "#E5ECF6",
              "width": 0.5
             },
             "pattern": {
              "fillmode": "overlay",
              "size": 10,
              "solidity": 0.2
             }
            },
            "type": "barpolar"
           }
          ],
          "carpet": [
           {
            "aaxis": {
             "endlinecolor": "#2a3f5f",
             "gridcolor": "white",
             "linecolor": "white",
             "minorgridcolor": "white",
             "startlinecolor": "#2a3f5f"
            },
            "baxis": {
             "endlinecolor": "#2a3f5f",
             "gridcolor": "white",
             "linecolor": "white",
             "minorgridcolor": "white",
             "startlinecolor": "#2a3f5f"
            },
            "type": "carpet"
           }
          ],
          "choropleth": [
           {
            "colorbar": {
             "outlinewidth": 0,
             "ticks": ""
            },
            "type": "choropleth"
           }
          ],
          "contour": [
           {
            "colorbar": {
             "outlinewidth": 0,
             "ticks": ""
            },
            "colorscale": [
             [
              0,
              "#0d0887"
             ],
             [
              0.1111111111111111,
              "#46039f"
             ],
             [
              0.2222222222222222,
              "#7201a8"
             ],
             [
              0.3333333333333333,
              "#9c179e"
             ],
             [
              0.4444444444444444,
              "#bd3786"
             ],
             [
              0.5555555555555556,
              "#d8576b"
             ],
             [
              0.6666666666666666,
              "#ed7953"
             ],
             [
              0.7777777777777778,
              "#fb9f3a"
             ],
             [
              0.8888888888888888,
              "#fdca26"
             ],
             [
              1,
              "#f0f921"
             ]
            ],
            "type": "contour"
           }
          ],
          "contourcarpet": [
           {
            "colorbar": {
             "outlinewidth": 0,
             "ticks": ""
            },
            "type": "contourcarpet"
           }
          ],
          "heatmap": [
           {
            "colorbar": {
             "outlinewidth": 0,
             "ticks": ""
            },
            "colorscale": [
             [
              0,
              "#0d0887"
             ],
             [
              0.1111111111111111,
              "#46039f"
             ],
             [
              0.2222222222222222,
              "#7201a8"
             ],
             [
              0.3333333333333333,
              "#9c179e"
             ],
             [
              0.4444444444444444,
              "#bd3786"
             ],
             [
              0.5555555555555556,
              "#d8576b"
             ],
             [
              0.6666666666666666,
              "#ed7953"
             ],
             [
              0.7777777777777778,
              "#fb9f3a"
             ],
             [
              0.8888888888888888,
              "#fdca26"
             ],
             [
              1,
              "#f0f921"
             ]
            ],
            "type": "heatmap"
           }
          ],
          "heatmapgl": [
           {
            "colorbar": {
             "outlinewidth": 0,
             "ticks": ""
            },
            "colorscale": [
             [
              0,
              "#0d0887"
             ],
             [
              0.1111111111111111,
              "#46039f"
             ],
             [
              0.2222222222222222,
              "#7201a8"
             ],
             [
              0.3333333333333333,
              "#9c179e"
             ],
             [
              0.4444444444444444,
              "#bd3786"
             ],
             [
              0.5555555555555556,
              "#d8576b"
             ],
             [
              0.6666666666666666,
              "#ed7953"
             ],
             [
              0.7777777777777778,
              "#fb9f3a"
             ],
             [
              0.8888888888888888,
              "#fdca26"
             ],
             [
              1,
              "#f0f921"
             ]
            ],
            "type": "heatmapgl"
           }
          ],
          "histogram": [
           {
            "marker": {
             "pattern": {
              "fillmode": "overlay",
              "size": 10,
              "solidity": 0.2
             }
            },
            "type": "histogram"
           }
          ],
          "histogram2d": [
           {
            "colorbar": {
             "outlinewidth": 0,
             "ticks": ""
            },
            "colorscale": [
             [
              0,
              "#0d0887"
             ],
             [
              0.1111111111111111,
              "#46039f"
             ],
             [
              0.2222222222222222,
              "#7201a8"
             ],
             [
              0.3333333333333333,
              "#9c179e"
             ],
             [
              0.4444444444444444,
              "#bd3786"
             ],
             [
              0.5555555555555556,
              "#d8576b"
             ],
             [
              0.6666666666666666,
              "#ed7953"
             ],
             [
              0.7777777777777778,
              "#fb9f3a"
             ],
             [
              0.8888888888888888,
              "#fdca26"
             ],
             [
              1,
              "#f0f921"
             ]
            ],
            "type": "histogram2d"
           }
          ],
          "histogram2dcontour": [
           {
            "colorbar": {
             "outlinewidth": 0,
             "ticks": ""
            },
            "colorscale": [
             [
              0,
              "#0d0887"
             ],
             [
              0.1111111111111111,
              "#46039f"
             ],
             [
              0.2222222222222222,
              "#7201a8"
             ],
             [
              0.3333333333333333,
              "#9c179e"
             ],
             [
              0.4444444444444444,
              "#bd3786"
             ],
             [
              0.5555555555555556,
              "#d8576b"
             ],
             [
              0.6666666666666666,
              "#ed7953"
             ],
             [
              0.7777777777777778,
              "#fb9f3a"
             ],
             [
              0.8888888888888888,
              "#fdca26"
             ],
             [
              1,
              "#f0f921"
             ]
            ],
            "type": "histogram2dcontour"
           }
          ],
          "mesh3d": [
           {
            "colorbar": {
             "outlinewidth": 0,
             "ticks": ""
            },
            "type": "mesh3d"
           }
          ],
          "parcoords": [
           {
            "line": {
             "colorbar": {
              "outlinewidth": 0,
              "ticks": ""
             }
            },
            "type": "parcoords"
           }
          ],
          "pie": [
           {
            "automargin": true,
            "type": "pie"
           }
          ],
          "scatter": [
           {
            "fillpattern": {
             "fillmode": "overlay",
             "size": 10,
             "solidity": 0.2
            },
            "type": "scatter"
           }
          ],
          "scatter3d": [
           {
            "line": {
             "colorbar": {
              "outlinewidth": 0,
              "ticks": ""
             }
            },
            "marker": {
             "colorbar": {
              "outlinewidth": 0,
              "ticks": ""
             }
            },
            "type": "scatter3d"
           }
          ],
          "scattercarpet": [
           {
            "marker": {
             "colorbar": {
              "outlinewidth": 0,
              "ticks": ""
             }
            },
            "type": "scattercarpet"
           }
          ],
          "scattergeo": [
           {
            "marker": {
             "colorbar": {
              "outlinewidth": 0,
              "ticks": ""
             }
            },
            "type": "scattergeo"
           }
          ],
          "scattergl": [
           {
            "marker": {
             "colorbar": {
              "outlinewidth": 0,
              "ticks": ""
             }
            },
            "type": "scattergl"
           }
          ],
          "scattermapbox": [
           {
            "marker": {
             "colorbar": {
              "outlinewidth": 0,
              "ticks": ""
             }
            },
            "type": "scattermapbox"
           }
          ],
          "scatterpolar": [
           {
            "marker": {
             "colorbar": {
              "outlinewidth": 0,
              "ticks": ""
             }
            },
            "type": "scatterpolar"
           }
          ],
          "scatterpolargl": [
           {
            "marker": {
             "colorbar": {
              "outlinewidth": 0,
              "ticks": ""
             }
            },
            "type": "scatterpolargl"
           }
          ],
          "scatterternary": [
           {
            "marker": {
             "colorbar": {
              "outlinewidth": 0,
              "ticks": ""
             }
            },
            "type": "scatterternary"
           }
          ],
          "surface": [
           {
            "colorbar": {
             "outlinewidth": 0,
             "ticks": ""
            },
            "colorscale": [
             [
              0,
              "#0d0887"
             ],
             [
              0.1111111111111111,
              "#46039f"
             ],
             [
              0.2222222222222222,
              "#7201a8"
             ],
             [
              0.3333333333333333,
              "#9c179e"
             ],
             [
              0.4444444444444444,
              "#bd3786"
             ],
             [
              0.5555555555555556,
              "#d8576b"
             ],
             [
              0.6666666666666666,
              "#ed7953"
             ],
             [
              0.7777777777777778,
              "#fb9f3a"
             ],
             [
              0.8888888888888888,
              "#fdca26"
             ],
             [
              1,
              "#f0f921"
             ]
            ],
            "type": "surface"
           }
          ],
          "table": [
           {
            "cells": {
             "fill": {
              "color": "#EBF0F8"
             },
             "line": {
              "color": "white"
             }
            },
            "header": {
             "fill": {
              "color": "#C8D4E3"
             },
             "line": {
              "color": "white"
             }
            },
            "type": "table"
           }
          ]
         },
         "layout": {
          "annotationdefaults": {
           "arrowcolor": "#2a3f5f",
           "arrowhead": 0,
           "arrowwidth": 1
          },
          "autotypenumbers": "strict",
          "coloraxis": {
           "colorbar": {
            "outlinewidth": 0,
            "ticks": ""
           }
          },
          "colorscale": {
           "diverging": [
            [
             0,
             "#8e0152"
            ],
            [
             0.1,
             "#c51b7d"
            ],
            [
             0.2,
             "#de77ae"
            ],
            [
             0.3,
             "#f1b6da"
            ],
            [
             0.4,
             "#fde0ef"
            ],
            [
             0.5,
             "#f7f7f7"
            ],
            [
             0.6,
             "#e6f5d0"
            ],
            [
             0.7,
             "#b8e186"
            ],
            [
             0.8,
             "#7fbc41"
            ],
            [
             0.9,
             "#4d9221"
            ],
            [
             1,
             "#276419"
            ]
           ],
           "sequential": [
            [
             0,
             "#0d0887"
            ],
            [
             0.1111111111111111,
             "#46039f"
            ],
            [
             0.2222222222222222,
             "#7201a8"
            ],
            [
             0.3333333333333333,
             "#9c179e"
            ],
            [
             0.4444444444444444,
             "#bd3786"
            ],
            [
             0.5555555555555556,
             "#d8576b"
            ],
            [
             0.6666666666666666,
             "#ed7953"
            ],
            [
             0.7777777777777778,
             "#fb9f3a"
            ],
            [
             0.8888888888888888,
             "#fdca26"
            ],
            [
             1,
             "#f0f921"
            ]
           ],
           "sequentialminus": [
            [
             0,
             "#0d0887"
            ],
            [
             0.1111111111111111,
             "#46039f"
            ],
            [
             0.2222222222222222,
             "#7201a8"
            ],
            [
             0.3333333333333333,
             "#9c179e"
            ],
            [
             0.4444444444444444,
             "#bd3786"
            ],
            [
             0.5555555555555556,
             "#d8576b"
            ],
            [
             0.6666666666666666,
             "#ed7953"
            ],
            [
             0.7777777777777778,
             "#fb9f3a"
            ],
            [
             0.8888888888888888,
             "#fdca26"
            ],
            [
             1,
             "#f0f921"
            ]
           ]
          },
          "colorway": [
           "#636efa",
           "#EF553B",
           "#00cc96",
           "#ab63fa",
           "#FFA15A",
           "#19d3f3",
           "#FF6692",
           "#B6E880",
           "#FF97FF",
           "#FECB52"
          ],
          "font": {
           "color": "#2a3f5f"
          },
          "geo": {
           "bgcolor": "white",
           "lakecolor": "white",
           "landcolor": "#E5ECF6",
           "showlakes": true,
           "showland": true,
           "subunitcolor": "white"
          },
          "hoverlabel": {
           "align": "left"
          },
          "hovermode": "closest",
          "mapbox": {
           "style": "light"
          },
          "paper_bgcolor": "white",
          "plot_bgcolor": "#E5ECF6",
          "polar": {
           "angularaxis": {
            "gridcolor": "white",
            "linecolor": "white",
            "ticks": ""
           },
           "bgcolor": "#E5ECF6",
           "radialaxis": {
            "gridcolor": "white",
            "linecolor": "white",
            "ticks": ""
           }
          },
          "scene": {
           "xaxis": {
            "backgroundcolor": "#E5ECF6",
            "gridcolor": "white",
            "gridwidth": 2,
            "linecolor": "white",
            "showbackground": true,
            "ticks": "",
            "zerolinecolor": "white"
           },
           "yaxis": {
            "backgroundcolor": "#E5ECF6",
            "gridcolor": "white",
            "gridwidth": 2,
            "linecolor": "white",
            "showbackground": true,
            "ticks": "",
            "zerolinecolor": "white"
           },
           "zaxis": {
            "backgroundcolor": "#E5ECF6",
            "gridcolor": "white",
            "gridwidth": 2,
            "linecolor": "white",
            "showbackground": true,
            "ticks": "",
            "zerolinecolor": "white"
           }
          },
          "shapedefaults": {
           "line": {
            "color": "#2a3f5f"
           }
          },
          "ternary": {
           "aaxis": {
            "gridcolor": "white",
            "linecolor": "white",
            "ticks": ""
           },
           "baxis": {
            "gridcolor": "white",
            "linecolor": "white",
            "ticks": ""
           },
           "bgcolor": "#E5ECF6",
           "caxis": {
            "gridcolor": "white",
            "linecolor": "white",
            "ticks": ""
           }
          },
          "title": {
           "x": 0.05
          },
          "xaxis": {
           "automargin": true,
           "gridcolor": "white",
           "linecolor": "white",
           "ticks": "",
           "title": {
            "standoff": 15
           },
           "zerolinecolor": "white",
           "zerolinewidth": 2
          },
          "yaxis": {
           "automargin": true,
           "gridcolor": "white",
           "linecolor": "white",
           "ticks": "",
           "title": {
            "standoff": 15
           },
           "zerolinecolor": "white",
           "zerolinewidth": 2
          }
         }
        },
        "xaxis": {
         "anchor": "y",
         "autorange": true,
         "domain": [
          0,
          1
         ],
         "range": [
          -0.5,
          11.5
         ],
         "title": {
          "text": "Stat"
         },
         "type": "category"
        },
        "yaxis": {
         "anchor": "x",
         "autorange": true,
         "categoryarray": [
          0.013710632251953556,
          -0.06215066393637761,
          -0.06881087331342495,
          -0.02535940898434405,
          -0.1298560503568867,
          -0.13391882628109011,
          -0.03138368577612985,
          -0.038530753232593085,
          -0.053828760445831986,
          -0.053878313856434934,
          -0.06308654530725608,
          -0.07032324401290915
         ],
         "categoryorder": "array",
         "domain": [
          0,
          1
         ],
         "range": [
          -0.1421204628662592,
          0.021912268837122648
         ],
         "title": {
          "text": "Difference"
         },
         "type": "linear"
        }
       }
      },
      "image/png": "[encoded data removed]",
      "text/html": [
       "<div>                            <div id=\"9b079f29-6580-4494-8d9b-ac6d2112012b\" class=\"plotly-graph-div\" style=\"height:525px; width:100%;\"></div>            <script type=\"text/javascript\">                require([\"plotly\"], function(Plotly) {                    window.PLOTLYENV=window.PLOTLYENV || {};                                    if (document.getElementById(\"9b079f29-6580-4494-8d9b-ac6d2112012b\")) {                    Plotly.newPlot(                        \"9b079f29-6580-4494-8d9b-ac6d2112012b\",                        [{\"alignmentgroup\":\"True\",\"hovertemplate\":\"Difference=%{y}\\u003cbr\\u003eStat=%{x}\\u003cextra\\u003e\\u003c\\u002fextra\\u003e\",\"legendgroup\":\"-0.07032324401290915\",\"marker\":{\"color\":\"#636efa\",\"pattern\":{\"shape\":\"\"}},\"name\":\"-0.07032324401290915\",\"offsetgroup\":\"-0.07032324401290915\",\"orientation\":\"v\",\"showlegend\":true,\"textposition\":\"auto\",\"x\":[\"Tackles - Tkl\"],\"xaxis\":\"x\",\"y\":[-0.07032324401290915],\"yaxis\":\"y\",\"type\":\"bar\"},{\"alignmentgroup\":\"True\",\"hovertemplate\":\"Difference=%{y}\\u003cbr\\u003eStat=%{x}\\u003cextra\\u003e\\u003c\\u002fextra\\u003e\",\"legendgroup\":\"-0.06308654530725608\",\"marker\":{\"color\":\"#EF553B\",\"pattern\":{\"shape\":\"\"}},\"name\":\"-0.06308654530725608\",\"offsetgroup\":\"-0.06308654530725608\",\"orientation\":\"v\",\"showlegend\":true,\"textposition\":\"auto\",\"x\":[\"Tackles - TklW\"],\"xaxis\":\"x\",\"y\":[-0.06308654530725608],\"yaxis\":\"y\",\"type\":\"bar\"},{\"alignmentgroup\":\"True\",\"hovertemplate\":\"Difference=%{y}\\u003cbr\\u003eStat=%{x}\\u003cextra\\u003e\\u003c\\u002fextra\\u003e\",\"legendgroup\":\"-0.053878313856434934\",\"marker\":{\"color\":\"#00cc96\",\"pattern\":{\"shape\":\"\"}},\"name\":\"-0.053878313856434934\",\"offsetgroup\":\"-0.053878313856434934\",\"orientation\":\"v\",\"showlegend\":true,\"textposition\":\"auto\",\"x\":[\"Tackles - Def 3rd\"],\"xaxis\":\"x\",\"y\":[-0.053878313856434934],\"yaxis\":\"y\",\"type\":\"bar\"},{\"alignmentgroup\":\"True\",\"hovertemplate\":\"Difference=%{y}\\u003cbr\\u003eStat=%{x}\\u003cextra\\u003e\\u003c\\u002fextra\\u003e\",\"legendgroup\":\"-0.053828760445831986\",\"marker\":{\"color\":\"#ab63fa\",\"pattern\":{\"shape\":\"\"}},\"name\":\"-0.053828760445831986\",\"offsetgroup\":\"-0.053828760445831986\",\"orientation\":\"v\",\"showlegend\":true,\"textposition\":\"auto\",\"x\":[\"Tackles - Mid 3rd\"],\"xaxis\":\"x\",\"y\":[-0.053828760445831986],\"yaxis\":\"y\",\"type\":\"bar\"},{\"alignmentgroup\":\"True\",\"hovertemplate\":\"Difference=%{y}\\u003cbr\\u003eStat=%{x}\\u003cextra\\u003e\\u003c\\u002fextra\\u003e\",\"legendgroup\":\"-0.038530753232593085\",\"marker\":{\"color\":\"#FFA15A\",\"pattern\":{\"shape\":\"\"}},\"name\":\"-0.038530753232593085\",\"offsetgroup\":\"-0.038530753232593085\",\"orientation\":\"v\",\"showlegend\":true,\"textposition\":\"auto\",\"x\":[\"Tackles - Att 3rd\"],\"xaxis\":\"x\",\"y\":[-0.038530753232593085],\"yaxis\":\"y\",\"type\":\"bar\"},{\"alignmentgroup\":\"True\",\"hovertemplate\":\"Difference=%{y}\\u003cbr\\u003eStat=%{x}\\u003cextra\\u003e\\u003c\\u002fextra\\u003e\",\"legendgroup\":\"-0.03138368577612985\",\"marker\":{\"color\":\"#19d3f3\",\"pattern\":{\"shape\":\"\"}},\"name\":\"-0.03138368577612985\",\"offsetgroup\":\"-0.03138368577612985\",\"orientation\":\"v\",\"showlegend\":true,\"textposition\":\"auto\",\"x\":[\"Challenges - Tkl\"],\"xaxis\":\"x\",\"y\":[-0.03138368577612985],\"yaxis\":\"y\",\"type\":\"bar\"},{\"alignmentgroup\":\"True\",\"hovertemplate\":\"Difference=%{y}\\u003cbr\\u003eStat=%{x}\\u003cextra\\u003e\\u003c\\u002fextra\\u003e\",\"legendgroup\":\"-0.13391882628109011\",\"marker\":{\"color\":\"#FF6692\",\"pattern\":{\"shape\":\"\"}},\"name\":\"-0.13391882628109011\",\"offsetgroup\":\"-0.13391882628109011\",\"orientation\":\"v\",\"showlegend\":true,\"textposition\":\"auto\",\"x\":[\"Blocks - Blocks\"],\"xaxis\":\"x\",\"y\":[-0.13391882628109011],\"yaxis\":\"y\",\"type\":\"bar\"},{\"alignmentgroup\":\"True\",\"hovertemplate\":\"Difference=%{y}\\u003cbr\\u003eStat=%{x}\\u003cextra\\u003e\\u003c\\u002fextra\\u003e\",\"legendgroup\":\"-0.1298560503568867\",\"marker\":{\"color\":\"#B6E880\",\"pattern\":{\"shape\":\"\"}},\"name\":\"-0.1298560503568867\",\"offsetgroup\":\"-0.1298560503568867\",\"orientation\":\"v\",\"showlegend\":true,\"textposition\":\"auto\",\"x\":[\"Blocks - Sh\"],\"xaxis\":\"x\",\"y\":[-0.1298560503568867],\"yaxis\":\"y\",\"type\":\"bar\"},{\"alignmentgroup\":\"True\",\"hovertemplate\":\"Difference=%{y}\\u003cbr\\u003eStat=%{x}\\u003cextra\\u003e\\u003c\\u002fextra\\u003e\",\"legendgroup\":\"-0.02535940898434405\",\"marker\":{\"color\":\"#FF97FF\",\"pattern\":{\"shape\":\"\"}},\"name\":\"-0.02535940898434405\",\"offsetgroup\":\"-0.02535940898434405\",\"orientation\":\"v\",\"showlegend\":true,\"textposition\":\"auto\",\"x\":[\"Int\"],\"xaxis\":\"x\",\"y\":[-0.02535940898434405],\"yaxis\":\"y\",\"type\":\"bar\"},{\"alignmentgroup\":\"True\",\"hovertemplate\":\"Difference=%{y}\\u003cbr\\u003eStat=%{x}\\u003cextra\\u003e\\u003c\\u002fextra\\u003e\",\"legendgroup\":\"-0.06881087331342495\",\"marker\":{\"color\":\"#FECB52\",\"pattern\":{\"shape\":\"\"}},\"name\":\"-0.06881087331342495\",\"offsetgroup\":\"-0.06881087331342495\",\"orientation\":\"v\",\"showlegend\":true,\"textposition\":\"auto\",\"x\":[\"Tkl+Int\"],\"xaxis\":\"x\",\"y\":[-0.06881087331342495],\"yaxis\":\"y\",\"type\":\"bar\"},{\"alignmentgroup\":\"True\",\"hovertemplate\":\"Difference=%{y}\\u003cbr\\u003eStat=%{x}\\u003cextra\\u003e\\u003c\\u002fextra\\u003e\",\"legendgroup\":\"-0.06215066393637761\",\"marker\":{\"color\":\"#636efa\",\"pattern\":{\"shape\":\"\"}},\"name\":\"-0.06215066393637761\",\"offsetgroup\":\"-0.06215066393637761\",\"orientation\":\"v\",\"showlegend\":true,\"textposition\":\"auto\",\"x\":[\"Clr\"],\"xaxis\":\"x\",\"y\":[-0.06215066393637761],\"yaxis\":\"y\",\"type\":\"bar\"},{\"alignmentgroup\":\"True\",\"hovertemplate\":\"Difference=%{y}\\u003cbr\\u003eStat=%{x}\\u003cextra\\u003e\\u003c\\u002fextra\\u003e\",\"legendgroup\":\"0.013710632251953556\",\"marker\":{\"color\":\"#EF553B\",\"pattern\":{\"shape\":\"\"}},\"name\":\"0.013710632251953556\",\"offsetgroup\":\"0.013710632251953556\",\"orientation\":\"v\",\"showlegend\":true,\"textposition\":\"auto\",\"x\":[\"Err\"],\"xaxis\":\"x\",\"y\":[0.013710632251953556],\"yaxis\":\"y\",\"type\":\"bar\"}],                        {\"template\":{\"data\":{\"histogram2dcontour\":[{\"type\":\"histogram2dcontour\",\"colorbar\":{\"outlinewidth\":0,\"ticks\":\"\"},\"colorscale\":[[0.0,\"#0d0887\"],[0.1111111111111111,\"#46039f\"],[0.2222222222222222,\"#7201a8\"],[0.3333333333333333,\"#9c179e\"],[0.4444444444444444,\"#bd3786\"],[0.5555555555555556,\"#d8576b\"],[0.6666666666666666,\"#ed7953\"],[0.7777777777777778,\"#fb9f3a\"],[0.8888888888888888,\"#fdca26\"],[1.0,\"#f0f921\"]]}],\"choropleth\":[{\"type\":\"choropleth\",\"colorbar\":{\"outlinewidth\":0,\"ticks\":\"\"}}],\"histogram2d\":[{\"type\":\"histogram2d\",\"colorbar\":{\"outlinewidth\":0,\"ticks\":\"\"},\"colorscale\":[[0.0,\"#0d0887\"],[0.1111111111111111,\"#46039f\"],[0.2222222222222222,\"#7201a8\"],[0.3333333333333333,\"#9c179e\"],[0.4444444444444444,\"#bd3786\"],[0.5555555555555556,\"#d8576b\"],[0.6666666666666666,\"#ed7953\"],[0.7777777777777778,\"#fb9f3a\"],[0.8888888888888888,\"#fdca26\"],[1.0,\"#f0f921\"]]}],\"heatmap\":[{\"type\":\"heatmap\",\"colorbar\":{\"outlinewidth\":0,\"ticks\":\"\"},\"colorscale\":[[0.0,\"#0d0887\"],[0.1111111111111111,\"#46039f\"],[0.2222222222222222,\"#7201a8\"],[0.3333333333333333,\"#9c179e\"],[0.4444444444444444,\"#bd3786\"],[0.5555555555555556,\"#d8576b\"],[0.6666666666666666,\"#ed7953\"],[0.7777777777777778,\"#fb9f3a\"],[0.8888888888888888,\"#fdca26\"],[1.0,\"#f0f921\"]]}],\"heatmapgl\":[{\"type\":\"heatmapgl\",\"colorbar\":{\"outlinewidth\":0,\"ticks\":\"\"},\"colorscale\":[[0.0,\"#0d0887\"],[0.1111111111111111,\"#46039f\"],[0.2222222222222222,\"#7201a8\"],[0.3333333333333333,\"#9c179e\"],[0.4444444444444444,\"#bd3786\"],[0.5555555555555556,\"#d8576b\"],[0.6666666666666666,\"#ed7953\"],[0.7777777777777778,\"#fb9f3a\"],[0.8888888888888888,\"#fdca26\"],[1.0,\"#f0f921\"]]}],\"contourcarpet\":[{\"type\":\"contourcarpet\",\"colorbar\":{\"outlinewidth\":0,\"ticks\":\"\"}}],\"contour\":[{\"type\":\"contour\",\"colorbar\":{\"outlinewidth\":0,\"ticks\":\"\"},\"colorscale\":[[0.0,\"#0d0887\"],[0.1111111111111111,\"#46039f\"],[0.2222222222222222,\"#7201a8\"],[0.3333333333333333,\"#9c179e\"],[0.4444444444444444,\"#bd3786\"],[0.5555555555555556,\"#d8576b\"],[0.6666666666666666,\"#ed7953\"],[0.7777777777777778,\"#fb9f3a\"],[0.8888888888888888,\"#fdca26\"],[1.0,\"#f0f921\"]]}],\"surface\":[{\"type\":\"surface\",\"colorbar\":{\"outlinewidth\":0,\"ticks\":\"\"},\"colorscale\":[[0.0,\"#0d0887\"],[0.1111111111111111,\"#46039f\"],[0.2222222222222222,\"#7201a8\"],[0.3333333333333333,\"#9c179e\"],[0.4444444444444444,\"#bd3786\"],[0.5555555555555556,\"#d8576b\"],[0.6666666666666666,\"#ed7953\"],[0.7777777777777778,\"#fb9f3a\"],[0.8888888888888888,\"#fdca26\"],[1.0,\"#f0f921\"]]}],\"mesh3d\":[{\"type\":\"mesh3d\",\"colorbar\":{\"outlinewidth\":0,\"ticks\":\"\"}}],\"scatter\":[{\"fillpattern\":{\"fillmode\":\"overlay\",\"size\":10,\"solidity\":0.2},\"type\":\"scatter\"}],\"parcoords\":[{\"type\":\"parcoords\",\"line\":{\"colorbar\":{\"outlinewidth\":0,\"ticks\":\"\"}}}],\"scatterpolargl\":[{\"type\":\"scatterpolargl\",\"marker\":{\"colorbar\":{\"outlinewidth\":0,\"ticks\":\"\"}}}],\"bar\":[{\"error_x\":{\"color\":\"#2a3f5f\"},\"error_y\":{\"color\":\"#2a3f5f\"},\"marker\":{\"line\":{\"color\":\"#E5ECF6\",\"width\":0.5},\"pattern\":{\"fillmode\":\"overlay\",\"size\":10,\"solidity\":0.2}},\"type\":\"bar\"}],\"scattergeo\":[{\"type\":\"scattergeo\",\"marker\":{\"colorbar\":{\"outlinewidth\":0,\"ticks\":\"\"}}}],\"scatterpolar\":[{\"type\":\"scatterpolar\",\"marker\":{\"colorbar\":{\"outlinewidth\":0,\"ticks\":\"\"}}}],\"histogram\":[{\"marker\":{\"pattern\":{\"fillmode\":\"overlay\",\"size\":10,\"solidity\":0.2}},\"type\":\"histogram\"}],\"scattergl\":[{\"type\":\"scattergl\",\"marker\":{\"colorbar\":{\"outlinewidth\":0,\"ticks\":\"\"}}}],\"scatter3d\":[{\"type\":\"scatter3d\",\"line\":{\"colorbar\":{\"outlinewidth\":0,\"ticks\":\"\"}},\"marker\":{\"colorbar\":{\"outlinewidth\":0,\"ticks\":\"\"}}}],\"scattermapbox\":[{\"type\":\"scattermapbox\",\"marker\":{\"colorbar\":{\"outlinewidth\":0,\"ticks\":\"\"}}}],\"scatterternary\":[{\"type\":\"scatterternary\",\"marker\":{\"colorbar\":{\"outlinewidth\":0,\"ticks\":\"\"}}}],\"scattercarpet\":[{\"type\":\"scattercarpet\",\"marker\":{\"colorbar\":{\"outlinewidth\":0,\"ticks\":\"\"}}}],\"carpet\":[{\"aaxis\":{\"endlinecolor\":\"#2a3f5f\",\"gridcolor\":\"white\",\"linecolor\":\"white\",\"minorgridcolor\":\"white\",\"startlinecolor\":\"#2a3f5f\"},\"baxis\":{\"endlinecolor\":\"#2a3f5f\",\"gridcolor\":\"white\",\"linecolor\":\"white\",\"minorgridcolor\":\"white\",\"startlinecolor\":\"#2a3f5f\"},\"type\":\"carpet\"}],\"table\":[{\"cells\":{\"fill\":{\"color\":\"#EBF0F8\"},\"line\":{\"color\":\"white\"}},\"header\":{\"fill\":{\"color\":\"#C8D4E3\"},\"line\":{\"color\":\"white\"}},\"type\":\"table\"}],\"barpolar\":[{\"marker\":{\"line\":{\"color\":\"#E5ECF6\",\"width\":0.5},\"pattern\":{\"fillmode\":\"overlay\",\"size\":10,\"solidity\":0.2}},\"type\":\"barpolar\"}],\"pie\":[{\"automargin\":true,\"type\":\"pie\"}]},\"layout\":{\"autotypenumbers\":\"strict\",\"colorway\":[\"#636efa\",\"#EF553B\",\"#00cc96\",\"#ab63fa\",\"#FFA15A\",\"#19d3f3\",\"#FF6692\",\"#B6E880\",\"#FF97FF\",\"#FECB52\"],\"font\":{\"color\":\"#2a3f5f\"},\"hovermode\":\"closest\",\"hoverlabel\":{\"align\":\"left\"},\"paper_bgcolor\":\"white\",\"plot_bgcolor\":\"#E5ECF6\",\"polar\":{\"bgcolor\":\"#E5ECF6\",\"angularaxis\":{\"gridcolor\":\"white\",\"linecolor\":\"white\",\"ticks\":\"\"},\"radialaxis\":{\"gridcolor\":\"white\",\"linecolor\":\"white\",\"ticks\":\"\"}},\"ternary\":{\"bgcolor\":\"#E5ECF6\",\"aaxis\":{\"gridcolor\":\"white\",\"linecolor\":\"white\",\"ticks\":\"\"},\"baxis\":{\"gridcolor\":\"white\",\"linecolor\":\"white\",\"ticks\":\"\"},\"caxis\":{\"gridcolor\":\"white\",\"linecolor\":\"white\",\"ticks\":\"\"}},\"coloraxis\":{\"colorbar\":{\"outlinewidth\":0,\"ticks\":\"\"}},\"colorscale\":{\"sequential\":[[0.0,\"#0d0887\"],[0.1111111111111111,\"#46039f\"],[0.2222222222222222,\"#7201a8\"],[0.3333333333333333,\"#9c179e\"],[0.4444444444444444,\"#bd3786\"],[0.5555555555555556,\"#d8576b\"],[0.6666666666666666,\"#ed7953\"],[0.7777777777777778,\"#fb9f3a\"],[0.8888888888888888,\"#fdca26\"],[1.0,\"#f0f921\"]],\"sequentialminus\":[[0.0,\"#0d0887\"],[0.1111111111111111,\"#46039f\"],[0.2222222222222222,\"#7201a8\"],[0.3333333333333333,\"#9c179e\"],[0.4444444444444444,\"#bd3786\"],[0.5555555555555556,\"#d8576b\"],[0.6666666666666666,\"#ed7953\"],[0.7777777777777778,\"#fb9f3a\"],[0.8888888888888888,\"#fdca26\"],[1.0,\"#f0f921\"]],\"diverging\":[[0,\"#8e0152\"],[0.1,\"#c51b7d\"],[0.2,\"#de77ae\"],[0.3,\"#f1b6da\"],[0.4,\"#fde0ef\"],[0.5,\"#f7f7f7\"],[0.6,\"#e6f5d0\"],[0.7,\"#b8e186\"],[0.8,\"#7fbc41\"],[0.9,\"#4d9221\"],[1,\"#276419\"]]},\"xaxis\":{\"gridcolor\":\"white\",\"linecolor\":\"white\",\"ticks\":\"\",\"title\":{\"standoff\":15},\"zerolinecolor\":\"white\",\"automargin\":true,\"zerolinewidth\":2},\"yaxis\":{\"gridcolor\":\"white\",\"linecolor\":\"white\",\"ticks\":\"\",\"title\":{\"standoff\":15},\"zerolinecolor\":\"white\",\"automargin\":true,\"zerolinewidth\":2},\"scene\":{\"xaxis\":{\"backgroundcolor\":\"#E5ECF6\",\"gridcolor\":\"white\",\"linecolor\":\"white\",\"showbackground\":true,\"ticks\":\"\",\"zerolinecolor\":\"white\",\"gridwidth\":2},\"yaxis\":{\"backgroundcolor\":\"#E5ECF6\",\"gridcolor\":\"white\",\"linecolor\":\"white\",\"showbackground\":true,\"ticks\":\"\",\"zerolinecolor\":\"white\",\"gridwidth\":2},\"zaxis\":{\"backgroundcolor\":\"#E5ECF6\",\"gridcolor\":\"white\",\"linecolor\":\"white\",\"showbackground\":true,\"ticks\":\"\",\"zerolinecolor\":\"white\",\"gridwidth\":2}},\"shapedefaults\":{\"line\":{\"color\":\"#2a3f5f\"}},\"annotationdefaults\":{\"arrowcolor\":\"#2a3f5f\",\"arrowhead\":0,\"arrowwidth\":1},\"geo\":{\"bgcolor\":\"white\",\"landcolor\":\"#E5ECF6\",\"subunitcolor\":\"white\",\"showland\":true,\"showlakes\":true,\"lakecolor\":\"white\"},\"title\":{\"x\":0.05},\"mapbox\":{\"style\":\"light\"}}},\"xaxis\":{\"anchor\":\"y\",\"domain\":[0.0,1.0],\"title\":{\"text\":\"Stat\"}},\"yaxis\":{\"anchor\":\"x\",\"domain\":[0.0,1.0],\"title\":{\"text\":\"Difference\"},\"categoryorder\":\"array\",\"categoryarray\":[0.013710632251953556,-0.06215066393637761,-0.06881087331342495,-0.02535940898434405,-0.1298560503568867,-0.13391882628109011,-0.03138368577612985,-0.038530753232593085,-0.053828760445831986,-0.053878313856434934,-0.06308654530725608,-0.07032324401290915]},\"legend\":{\"title\":{\"text\":\"Difference\"},\"tracegroupgap\":0},\"margin\":{\"t\":60},\"barmode\":\"relative\"},                        {\"responsive\": true}                    ).then(function(){\n",
       "                            \n",
       "var gd = document.getElementById('9b079f29-6580-4494-8d9b-ac6d2112012b');\n",
       "var x = new MutationObserver(function (mutations, observer) {{\n",
       "        var display = window.getComputedStyle(gd).display;\n",
       "        if (!display || display === 'none') {{\n",
       "            console.log([gd, 'removed!']);\n",
       "            Plotly.purge(gd);\n",
       "            observer.disconnect();\n",
       "        }}\n",
       "}});\n",
       "\n",
       "// Listen for the removal of the full notebook cells\n",
       "var notebookContainer = gd.closest('#notebook-container');\n",
       "if (notebookContainer) {{\n",
       "    x.observe(notebookContainer, {childList: true});\n",
       "}}\n",
       "\n",
       "// Listen for the clearing of the current output cell\n",
       "var outputEl = gd.closest('.output');\n",
       "if (outputEl) {{\n",
       "    x.observe(outputEl, {childList: true});\n",
       "}}\n",
       "\n",
       "                        })                };                });            </script>        </div>"
      ]
     },
     "metadata": {},
     "output_type": "display_data"
    }
   ],
   "source": [
    "\n",
    "\n",
    "\n",
    "\n",
    "# , color = 'Comp', barmode=\"group\"\n",
    "px.bar(golll, x = 'Stat', y = 'Difference', color = 'Difference')\n",
    "\n",
    "\n",
    "\n"
   ]
  },
  {
   "cell_type": "code",
   "execution_count": 476,
   "id": "0ab1687e-8344-451d-b37c-a4b4cfd9c14a",
   "metadata": {},
   "outputs": [
    {
     "data": {
      "text/html": [
       "<div>\n",
       "<style scoped>\n",
       "    .dataframe tbody tr th:only-of-type {\n",
       "        vertical-align: middle;\n",
       "    }\n",
       "\n",
       "    .dataframe tbody tr th {\n",
       "        vertical-align: top;\n",
       "    }\n",
       "\n",
       "    .dataframe thead th {\n",
       "        text-align: right;\n",
       "    }\n",
       "</style>\n",
       "<table border=\"1\" class=\"dataframe\">\n",
       "  <thead>\n",
       "    <tr style=\"text-align: right;\">\n",
       "      <th>Stat</th>\n",
       "      <th>Unnamed: 0.1</th>\n",
       "      <th>Unnamed: 0</th>\n",
       "      <th>Player</th>\n",
       "      <th>Squad</th>\n",
       "      <th>Nation</th>\n",
       "      <th>Pos</th>\n",
       "      <th>Comp</th>\n",
       "      <th>Age</th>\n",
       "      <th>Born</th>\n",
       "      <th>Playing Time - MP</th>\n",
       "      <th>...</th>\n",
       "      <th>Performance - GA per 90</th>\n",
       "      <th>Performance - SoTA per 90</th>\n",
       "      <th>Performance - Saves per 90</th>\n",
       "      <th>Penalty Kicks - Save% per 90</th>\n",
       "      <th>Performance - CrdY per 90</th>\n",
       "      <th>Performance - 2CrdY per 90</th>\n",
       "      <th>Performance - CrdR per 90</th>\n",
       "      <th>Performance - Fls per 90</th>\n",
       "      <th>Performance - Fld per 90</th>\n",
       "      <th>position</th>\n",
       "    </tr>\n",
       "  </thead>\n",
       "  <tbody>\n",
       "    <tr>\n",
       "      <th>0</th>\n",
       "      <td>0</td>\n",
       "      <td>0</td>\n",
       "      <td>Patrick van Aanholt</td>\n",
       "      <td>Crystal Palace</td>\n",
       "      <td>NL</td>\n",
       "      <td>DF</td>\n",
       "      <td>Premier League</td>\n",
       "      <td>26.0</td>\n",
       "      <td>1990.0</td>\n",
       "      <td>28.0</td>\n",
       "      <td>...</td>\n",
       "      <td>NaN</td>\n",
       "      <td>NaN</td>\n",
       "      <td>NaN</td>\n",
       "      <td>NaN</td>\n",
       "      <td>0.639344</td>\n",
       "      <td>0.0</td>\n",
       "      <td>0.00</td>\n",
       "      <td>0.260756</td>\n",
       "      <td>0.105114</td>\n",
       "      <td>DF</td>\n",
       "    </tr>\n",
       "    <tr>\n",
       "      <th>1</th>\n",
       "      <td>1</td>\n",
       "      <td>1</td>\n",
       "      <td>Rolando Aarons</td>\n",
       "      <td>Newcastle Utd</td>\n",
       "      <td>EN</td>\n",
       "      <td>MF,FW</td>\n",
       "      <td>Premier League</td>\n",
       "      <td>21.0</td>\n",
       "      <td>1995.0</td>\n",
       "      <td>4.0</td>\n",
       "      <td>...</td>\n",
       "      <td>NaN</td>\n",
       "      <td>NaN</td>\n",
       "      <td>NaN</td>\n",
       "      <td>NaN</td>\n",
       "      <td>0.000000</td>\n",
       "      <td>0.0</td>\n",
       "      <td>0.00</td>\n",
       "      <td>0.014342</td>\n",
       "      <td>0.031250</td>\n",
       "      <td>AM</td>\n",
       "    </tr>\n",
       "    <tr>\n",
       "      <th>8</th>\n",
       "      <td>8</td>\n",
       "      <td>8</td>\n",
       "      <td>Tammy Abraham</td>\n",
       "      <td>Swansea City</td>\n",
       "      <td>EN</td>\n",
       "      <td>FW</td>\n",
       "      <td>Premier League</td>\n",
       "      <td>19.0</td>\n",
       "      <td>1997.0</td>\n",
       "      <td>31.0</td>\n",
       "      <td>...</td>\n",
       "      <td>NaN</td>\n",
       "      <td>NaN</td>\n",
       "      <td>NaN</td>\n",
       "      <td>NaN</td>\n",
       "      <td>0.000000</td>\n",
       "      <td>0.0</td>\n",
       "      <td>0.00</td>\n",
       "      <td>0.217731</td>\n",
       "      <td>0.284091</td>\n",
       "      <td>FW</td>\n",
       "    </tr>\n",
       "    <tr>\n",
       "      <th>12</th>\n",
       "      <td>12</td>\n",
       "      <td>12</td>\n",
       "      <td>Charlie Adam</td>\n",
       "      <td>Stoke City</td>\n",
       "      <td>SC</td>\n",
       "      <td>MF</td>\n",
       "      <td>Premier League</td>\n",
       "      <td>31.0</td>\n",
       "      <td>1985.0</td>\n",
       "      <td>11.0</td>\n",
       "      <td>...</td>\n",
       "      <td>NaN</td>\n",
       "      <td>NaN</td>\n",
       "      <td>NaN</td>\n",
       "      <td>NaN</td>\n",
       "      <td>0.180328</td>\n",
       "      <td>0.0</td>\n",
       "      <td>0.25</td>\n",
       "      <td>0.116037</td>\n",
       "      <td>0.084280</td>\n",
       "      <td>MF</td>\n",
       "    </tr>\n",
       "    <tr>\n",
       "      <th>20</th>\n",
       "      <td>20</td>\n",
       "      <td>20</td>\n",
       "      <td>Adrian</td>\n",
       "      <td>West Ham</td>\n",
       "      <td>ES</td>\n",
       "      <td>GK</td>\n",
       "      <td>Premier League</td>\n",
       "      <td>30.0</td>\n",
       "      <td>1987.0</td>\n",
       "      <td>19.0</td>\n",
       "      <td>...</td>\n",
       "      <td>0.474926</td>\n",
       "      <td>0.470000</td>\n",
       "      <td>0.471722</td>\n",
       "      <td>0.0</td>\n",
       "      <td>0.180328</td>\n",
       "      <td>0.0</td>\n",
       "      <td>0.00</td>\n",
       "      <td>0.014342</td>\n",
       "      <td>0.031250</td>\n",
       "      <td>GK</td>\n",
       "    </tr>\n",
       "    <tr>\n",
       "      <th>...</th>\n",
       "      <td>...</td>\n",
       "      <td>...</td>\n",
       "      <td>...</td>\n",
       "      <td>...</td>\n",
       "      <td>...</td>\n",
       "      <td>...</td>\n",
       "      <td>...</td>\n",
       "      <td>...</td>\n",
       "      <td>...</td>\n",
       "      <td>...</td>\n",
       "      <td>...</td>\n",
       "      <td>...</td>\n",
       "      <td>...</td>\n",
       "      <td>...</td>\n",
       "      <td>...</td>\n",
       "      <td>...</td>\n",
       "      <td>...</td>\n",
       "      <td>...</td>\n",
       "      <td>...</td>\n",
       "      <td>...</td>\n",
       "      <td>...</td>\n",
       "    </tr>\n",
       "    <tr>\n",
       "      <th>19540</th>\n",
       "      <td>19540</td>\n",
       "      <td>2830</td>\n",
       "      <td>Cedric Zesiger</td>\n",
       "      <td>Wolfsburg</td>\n",
       "      <td>CH</td>\n",
       "      <td>DF</td>\n",
       "      <td>Bundesliga</td>\n",
       "      <td>25.0</td>\n",
       "      <td>1998.0</td>\n",
       "      <td>23.0</td>\n",
       "      <td>...</td>\n",
       "      <td>NaN</td>\n",
       "      <td>NaN</td>\n",
       "      <td>NaN</td>\n",
       "      <td>NaN</td>\n",
       "      <td>0.335329</td>\n",
       "      <td>0.0</td>\n",
       "      <td>0.00</td>\n",
       "      <td>0.273006</td>\n",
       "      <td>0.135036</td>\n",
       "      <td>DF</td>\n",
       "    </tr>\n",
       "    <tr>\n",
       "      <th>19541</th>\n",
       "      <td>19541</td>\n",
       "      <td>2831</td>\n",
       "      <td>Michael Zetterer</td>\n",
       "      <td>Werder Bremen</td>\n",
       "      <td>DE</td>\n",
       "      <td>GK</td>\n",
       "      <td>Bundesliga</td>\n",
       "      <td>28.0</td>\n",
       "      <td>1995.0</td>\n",
       "      <td>27.0</td>\n",
       "      <td>...</td>\n",
       "      <td>0.486967</td>\n",
       "      <td>0.606655</td>\n",
       "      <td>0.643172</td>\n",
       "      <td>0.0</td>\n",
       "      <td>0.131737</td>\n",
       "      <td>0.0</td>\n",
       "      <td>0.00</td>\n",
       "      <td>0.000000</td>\n",
       "      <td>0.094891</td>\n",
       "      <td>GK</td>\n",
       "    </tr>\n",
       "    <tr>\n",
       "      <th>19546</th>\n",
       "      <td>19546</td>\n",
       "      <td>2836</td>\n",
       "      <td>Christoph Zimmermann</td>\n",
       "      <td>Darmstadt 98</td>\n",
       "      <td>DE</td>\n",
       "      <td>DF</td>\n",
       "      <td>Bundesliga</td>\n",
       "      <td>30.0</td>\n",
       "      <td>1993.0</td>\n",
       "      <td>19.0</td>\n",
       "      <td>...</td>\n",
       "      <td>NaN</td>\n",
       "      <td>NaN</td>\n",
       "      <td>NaN</td>\n",
       "      <td>NaN</td>\n",
       "      <td>0.335329</td>\n",
       "      <td>0.0</td>\n",
       "      <td>0.00</td>\n",
       "      <td>0.147239</td>\n",
       "      <td>0.135036</td>\n",
       "      <td>DF</td>\n",
       "    </tr>\n",
       "    <tr>\n",
       "      <th>19550</th>\n",
       "      <td>19550</td>\n",
       "      <td>2840</td>\n",
       "      <td>Simon Zoller</td>\n",
       "      <td>Bochum</td>\n",
       "      <td>DE</td>\n",
       "      <td>FW,MF</td>\n",
       "      <td>Bundesliga</td>\n",
       "      <td>32.0</td>\n",
       "      <td>1991.0</td>\n",
       "      <td>1.0</td>\n",
       "      <td>...</td>\n",
       "      <td>NaN</td>\n",
       "      <td>NaN</td>\n",
       "      <td>NaN</td>\n",
       "      <td>NaN</td>\n",
       "      <td>0.000000</td>\n",
       "      <td>0.0</td>\n",
       "      <td>0.00</td>\n",
       "      <td>0.011247</td>\n",
       "      <td>0.000000</td>\n",
       "      <td>AM</td>\n",
       "    </tr>\n",
       "    <tr>\n",
       "      <th>19557</th>\n",
       "      <td>19557</td>\n",
       "      <td>2847</td>\n",
       "      <td>Lovro Zvonarek</td>\n",
       "      <td>Bayern Munich</td>\n",
       "      <td>HR</td>\n",
       "      <td>FW,MF</td>\n",
       "      <td>Bundesliga</td>\n",
       "      <td>18.0</td>\n",
       "      <td>2005.0</td>\n",
       "      <td>5.0</td>\n",
       "      <td>...</td>\n",
       "      <td>NaN</td>\n",
       "      <td>NaN</td>\n",
       "      <td>NaN</td>\n",
       "      <td>NaN</td>\n",
       "      <td>0.000000</td>\n",
       "      <td>0.0</td>\n",
       "      <td>0.00</td>\n",
       "      <td>0.033742</td>\n",
       "      <td>0.000000</td>\n",
       "      <td>AM</td>\n",
       "    </tr>\n",
       "  </tbody>\n",
       "</table>\n",
       "<p>19562 rows × 302 columns</p>\n",
       "</div>"
      ],
      "text/plain": [
       "Stat   Unnamed: 0.1  Unnamed: 0                Player           Squad Nation  \\\n",
       "0                 0           0   Patrick van Aanholt  Crystal Palace     NL   \n",
       "1                 1           1        Rolando Aarons   Newcastle Utd     EN   \n",
       "8                 8           8         Tammy Abraham    Swansea City     EN   \n",
       "12               12          12          Charlie Adam      Stoke City     SC   \n",
       "20               20          20                Adrian        West Ham     ES   \n",
       "...             ...         ...                   ...             ...    ...   \n",
       "19540         19540        2830        Cedric Zesiger       Wolfsburg     CH   \n",
       "19541         19541        2831      Michael Zetterer   Werder Bremen     DE   \n",
       "19546         19546        2836  Christoph Zimmermann    Darmstadt 98     DE   \n",
       "19550         19550        2840          Simon Zoller          Bochum     DE   \n",
       "19557         19557        2847        Lovro Zvonarek   Bayern Munich     HR   \n",
       "\n",
       "Stat     Pos            Comp   Age    Born  Playing Time - MP  ...  \\\n",
       "0         DF  Premier League  26.0  1990.0               28.0  ...   \n",
       "1      MF,FW  Premier League  21.0  1995.0                4.0  ...   \n",
       "8         FW  Premier League  19.0  1997.0               31.0  ...   \n",
       "12        MF  Premier League  31.0  1985.0               11.0  ...   \n",
       "20        GK  Premier League  30.0  1987.0               19.0  ...   \n",
       "...      ...             ...   ...     ...                ...  ...   \n",
       "19540     DF      Bundesliga  25.0  1998.0               23.0  ...   \n",
       "19541     GK      Bundesliga  28.0  1995.0               27.0  ...   \n",
       "19546     DF      Bundesliga  30.0  1993.0               19.0  ...   \n",
       "19550  FW,MF      Bundesliga  32.0  1991.0                1.0  ...   \n",
       "19557  FW,MF      Bundesliga  18.0  2005.0                5.0  ...   \n",
       "\n",
       "Stat   Performance - GA per 90  Performance - SoTA per 90  \\\n",
       "0                          NaN                        NaN   \n",
       "1                          NaN                        NaN   \n",
       "8                          NaN                        NaN   \n",
       "12                         NaN                        NaN   \n",
       "20                    0.474926                   0.470000   \n",
       "...                        ...                        ...   \n",
       "19540                      NaN                        NaN   \n",
       "19541                 0.486967                   0.606655   \n",
       "19546                      NaN                        NaN   \n",
       "19550                      NaN                        NaN   \n",
       "19557                      NaN                        NaN   \n",
       "\n",
       "Stat   Performance - Saves per 90  Penalty Kicks - Save% per 90  \\\n",
       "0                             NaN                           NaN   \n",
       "1                             NaN                           NaN   \n",
       "8                             NaN                           NaN   \n",
       "12                            NaN                           NaN   \n",
       "20                       0.471722                           0.0   \n",
       "...                           ...                           ...   \n",
       "19540                         NaN                           NaN   \n",
       "19541                    0.643172                           0.0   \n",
       "19546                         NaN                           NaN   \n",
       "19550                         NaN                           NaN   \n",
       "19557                         NaN                           NaN   \n",
       "\n",
       "Stat   Performance - CrdY per 90  Performance - 2CrdY per 90  \\\n",
       "0                       0.639344                         0.0   \n",
       "1                       0.000000                         0.0   \n",
       "8                       0.000000                         0.0   \n",
       "12                      0.180328                         0.0   \n",
       "20                      0.180328                         0.0   \n",
       "...                          ...                         ...   \n",
       "19540                   0.335329                         0.0   \n",
       "19541                   0.131737                         0.0   \n",
       "19546                   0.335329                         0.0   \n",
       "19550                   0.000000                         0.0   \n",
       "19557                   0.000000                         0.0   \n",
       "\n",
       "Stat   Performance - CrdR per 90  Performance - Fls per 90  \\\n",
       "0                           0.00                  0.260756   \n",
       "1                           0.00                  0.014342   \n",
       "8                           0.00                  0.217731   \n",
       "12                          0.25                  0.116037   \n",
       "20                          0.00                  0.014342   \n",
       "...                          ...                       ...   \n",
       "19540                       0.00                  0.273006   \n",
       "19541                       0.00                  0.000000   \n",
       "19546                       0.00                  0.147239   \n",
       "19550                       0.00                  0.011247   \n",
       "19557                       0.00                  0.033742   \n",
       "\n",
       "Stat   Performance - Fld per 90  position  \n",
       "0                      0.105114        DF  \n",
       "1                      0.031250        AM  \n",
       "8                      0.284091        FW  \n",
       "12                     0.084280        MF  \n",
       "20                     0.031250        GK  \n",
       "...                         ...       ...  \n",
       "19540                  0.135036        DF  \n",
       "19541                  0.094891        GK  \n",
       "19546                  0.135036        DF  \n",
       "19550                  0.000000        AM  \n",
       "19557                  0.000000        AM  \n",
       "\n",
       "[19562 rows x 302 columns]"
      ]
     },
     "execution_count": 476,
     "metadata": {},
     "output_type": "execute_result"
    }
   ],
   "source": [
    "\n",
    "\n",
    "\n",
    "normalized_df\n"
   ]
  },
  {
   "cell_type": "code",
   "execution_count": 391,
   "id": "185e88aa-171c-48e8-9f1b-ed2f4df425c0",
   "metadata": {},
   "outputs": [],
   "source": [
    "\n",
    "\n",
    "# .plot.bar(title = title)\n",
    "\n",
    "gotit = poop.groupby(['Comp',\n",
    "              'position']\n",
    "            ).mean().loc[loc][important_stats_comp['Defensive Stats']].droplevel(1).T\n",
    "\n",
    "\n"
   ]
  },
  {
   "cell_type": "code",
   "execution_count": 406,
   "id": "6c382e8e-7a71-4b86-ad4a-f1cf125bda73",
   "metadata": {},
   "outputs": [
    {
     "data": {
      "text/html": [
       "<div>\n",
       "<style scoped>\n",
       "    .dataframe tbody tr th:only-of-type {\n",
       "        vertical-align: middle;\n",
       "    }\n",
       "\n",
       "    .dataframe tbody tr th {\n",
       "        vertical-align: top;\n",
       "    }\n",
       "\n",
       "    .dataframe thead th {\n",
       "        text-align: right;\n",
       "    }\n",
       "</style>\n",
       "<table border=\"1\" class=\"dataframe\">\n",
       "  <thead>\n",
       "    <tr style=\"text-align: right;\">\n",
       "      <th></th>\n",
       "      <th>level_0</th>\n",
       "      <th>Comp</th>\n",
       "      <th>0</th>\n",
       "    </tr>\n",
       "  </thead>\n",
       "  <tbody>\n",
       "    <tr>\n",
       "      <th>0</th>\n",
       "      <td>Tackles - Tkl</td>\n",
       "      <td>La Liga</td>\n",
       "      <td>0.280177</td>\n",
       "    </tr>\n",
       "    <tr>\n",
       "      <th>1</th>\n",
       "      <td>Tackles - Tkl</td>\n",
       "      <td>Premier League</td>\n",
       "      <td>0.257839</td>\n",
       "    </tr>\n",
       "    <tr>\n",
       "      <th>2</th>\n",
       "      <td>Tackles - TklW</td>\n",
       "      <td>La Liga</td>\n",
       "      <td>0.280575</td>\n",
       "    </tr>\n",
       "    <tr>\n",
       "      <th>3</th>\n",
       "      <td>Tackles - TklW</td>\n",
       "      <td>Premier League</td>\n",
       "      <td>0.25898</td>\n",
       "    </tr>\n",
       "    <tr>\n",
       "      <th>4</th>\n",
       "      <td>Tackles - Def 3rd</td>\n",
       "      <td>La Liga</td>\n",
       "      <td>0.301695</td>\n",
       "    </tr>\n",
       "    <tr>\n",
       "      <th>5</th>\n",
       "      <td>Tackles - Def 3rd</td>\n",
       "      <td>Premier League</td>\n",
       "      <td>0.292688</td>\n",
       "    </tr>\n",
       "    <tr>\n",
       "      <th>6</th>\n",
       "      <td>Tackles - Mid 3rd</td>\n",
       "      <td>La Liga</td>\n",
       "      <td>0.186192</td>\n",
       "    </tr>\n",
       "    <tr>\n",
       "      <th>7</th>\n",
       "      <td>Tackles - Mid 3rd</td>\n",
       "      <td>Premier League</td>\n",
       "      <td>0.171451</td>\n",
       "    </tr>\n",
       "    <tr>\n",
       "      <th>8</th>\n",
       "      <td>Tackles - Att 3rd</td>\n",
       "      <td>La Liga</td>\n",
       "      <td>0.129525</td>\n",
       "    </tr>\n",
       "    <tr>\n",
       "      <th>9</th>\n",
       "      <td>Tackles - Att 3rd</td>\n",
       "      <td>Premier League</td>\n",
       "      <td>0.137103</td>\n",
       "    </tr>\n",
       "    <tr>\n",
       "      <th>10</th>\n",
       "      <td>Challenges - Tkl</td>\n",
       "      <td>La Liga</td>\n",
       "      <td>0.28463</td>\n",
       "    </tr>\n",
       "    <tr>\n",
       "      <th>11</th>\n",
       "      <td>Challenges - Tkl</td>\n",
       "      <td>Premier League</td>\n",
       "      <td>0.262398</td>\n",
       "    </tr>\n",
       "    <tr>\n",
       "      <th>12</th>\n",
       "      <td>Blocks - Blocks</td>\n",
       "      <td>La Liga</td>\n",
       "      <td>0.314339</td>\n",
       "    </tr>\n",
       "    <tr>\n",
       "      <th>13</th>\n",
       "      <td>Blocks - Blocks</td>\n",
       "      <td>Premier League</td>\n",
       "      <td>0.273035</td>\n",
       "    </tr>\n",
       "    <tr>\n",
       "      <th>14</th>\n",
       "      <td>Blocks - Sh</td>\n",
       "      <td>La Liga</td>\n",
       "      <td>0.252821</td>\n",
       "    </tr>\n",
       "    <tr>\n",
       "      <th>15</th>\n",
       "      <td>Blocks - Sh</td>\n",
       "      <td>Premier League</td>\n",
       "      <td>0.148097</td>\n",
       "    </tr>\n",
       "    <tr>\n",
       "      <th>16</th>\n",
       "      <td>Int</td>\n",
       "      <td>La Liga</td>\n",
       "      <td>0.310025</td>\n",
       "    </tr>\n",
       "    <tr>\n",
       "      <th>17</th>\n",
       "      <td>Int</td>\n",
       "      <td>Premier League</td>\n",
       "      <td>0.286271</td>\n",
       "    </tr>\n",
       "    <tr>\n",
       "      <th>18</th>\n",
       "      <td>Tkl+Int</td>\n",
       "      <td>La Liga</td>\n",
       "      <td>0.319027</td>\n",
       "    </tr>\n",
       "    <tr>\n",
       "      <th>19</th>\n",
       "      <td>Tkl+Int</td>\n",
       "      <td>Premier League</td>\n",
       "      <td>0.289627</td>\n",
       "    </tr>\n",
       "    <tr>\n",
       "      <th>20</th>\n",
       "      <td>Clr</td>\n",
       "      <td>La Liga</td>\n",
       "      <td>0.302429</td>\n",
       "    </tr>\n",
       "    <tr>\n",
       "      <th>21</th>\n",
       "      <td>Clr</td>\n",
       "      <td>Premier League</td>\n",
       "      <td>0.269228</td>\n",
       "    </tr>\n",
       "    <tr>\n",
       "      <th>22</th>\n",
       "      <td>Err</td>\n",
       "      <td>La Liga</td>\n",
       "      <td>0.109409</td>\n",
       "    </tr>\n",
       "    <tr>\n",
       "      <th>23</th>\n",
       "      <td>Err</td>\n",
       "      <td>Premier League</td>\n",
       "      <td>0.123291</td>\n",
       "    </tr>\n",
       "  </tbody>\n",
       "</table>\n",
       "</div>"
      ],
      "text/plain": [
       "              level_0            Comp         0\n",
       "0       Tackles - Tkl         La Liga  0.280177\n",
       "1       Tackles - Tkl  Premier League  0.257839\n",
       "2      Tackles - TklW         La Liga  0.280575\n",
       "3      Tackles - TklW  Premier League   0.25898\n",
       "4   Tackles - Def 3rd         La Liga  0.301695\n",
       "5   Tackles - Def 3rd  Premier League  0.292688\n",
       "6   Tackles - Mid 3rd         La Liga  0.186192\n",
       "7   Tackles - Mid 3rd  Premier League  0.171451\n",
       "8   Tackles - Att 3rd         La Liga  0.129525\n",
       "9   Tackles - Att 3rd  Premier League  0.137103\n",
       "10   Challenges - Tkl         La Liga   0.28463\n",
       "11   Challenges - Tkl  Premier League  0.262398\n",
       "12    Blocks - Blocks         La Liga  0.314339\n",
       "13    Blocks - Blocks  Premier League  0.273035\n",
       "14        Blocks - Sh         La Liga  0.252821\n",
       "15        Blocks - Sh  Premier League  0.148097\n",
       "16                Int         La Liga  0.310025\n",
       "17                Int  Premier League  0.286271\n",
       "18            Tkl+Int         La Liga  0.319027\n",
       "19            Tkl+Int  Premier League  0.289627\n",
       "20                Clr         La Liga  0.302429\n",
       "21                Clr  Premier League  0.269228\n",
       "22                Err         La Liga  0.109409\n",
       "23                Err  Premier League  0.123291"
      ]
     },
     "execution_count": 406,
     "metadata": {},
     "output_type": "execute_result"
    }
   ],
   "source": [
    "\n",
    "# name = ['stat', 'Comp']\n",
    "gotit.stack().reset_index()\n",
    "\n",
    "\n",
    "\n"
   ]
  },
  {
   "cell_type": "code",
   "execution_count": 419,
   "id": "87ed6629-0d72-477b-a562-f6d0a96bd974",
   "metadata": {},
   "outputs": [
    {
     "data": {
      "text/plain": [
       "0        NaN\n",
       "1        NaN\n",
       "8        NaN\n",
       "12       NaN\n",
       "20       0.0\n",
       "        ... \n",
       "19540    NaN\n",
       "19541    0.0\n",
       "19546    NaN\n",
       "19550    NaN\n",
       "19557    NaN\n",
       "Name: Penalty Kicks - Save%, Length: 19562, dtype: float64"
      ]
     },
     "execution_count": 419,
     "metadata": {},
     "output_type": "execute_result"
    }
   ],
   "source": [
    "\n",
    "\n",
    "\n",
    "normalized_df['Penalty Kicks - Save%']\n",
    "\n",
    "\n",
    "\n"
   ]
  },
  {
   "cell_type": "code",
   "execution_count": 398,
   "id": "0f00699a-f00c-4df2-ae67-aff93fd63368",
   "metadata": {},
   "outputs": [
    {
     "data": {
      "text/plain": [
       "<Axes: >"
      ]
     },
     "execution_count": 398,
     "metadata": {},
     "output_type": "execute_result"
    },
    {
     "data": {
      "image/png": "[encoded data removed]",
      "text/plain": [
       "<Figure size 640x480 with 1 Axes>"
      ]
     },
     "metadata": {},
     "output_type": "display_data"
    }
   ],
   "source": [
    "\n",
    "\n",
    "gotit.plot.bar()\n",
    "\n"
   ]
  },
  {
   "cell_type": "code",
   "execution_count": 399,
   "id": "8509aebb-0f3a-4d84-8161-f1768a1f0c99",
   "metadata": {},
   "outputs": [
    {
     "data": {
      "text/plain": [
       "\u001b[0;31mSignature:\u001b[0m\n",
       "\u001b[0mpx\u001b[0m\u001b[0;34m.\u001b[0m\u001b[0mbar\u001b[0m\u001b[0;34m(\u001b[0m\u001b[0;34m\u001b[0m\n",
       "\u001b[0;34m\u001b[0m    \u001b[0mdata_frame\u001b[0m\u001b[0;34m=\u001b[0m\u001b[0;32mNone\u001b[0m\u001b[0;34m,\u001b[0m\u001b[0;34m\u001b[0m\n",
       "\u001b[0;34m\u001b[0m    \u001b[0mx\u001b[0m\u001b[0;34m=\u001b[0m\u001b[0;32mNone\u001b[0m\u001b[0;34m,\u001b[0m\u001b[0;34m\u001b[0m\n",
       "\u001b[0;34m\u001b[0m    \u001b[0my\u001b[0m\u001b[0;34m=\u001b[0m\u001b[0;32mNone\u001b[0m\u001b[0;34m,\u001b[0m\u001b[0;34m\u001b[0m\n",
       "\u001b[0;34m\u001b[0m    \u001b[0mcolor\u001b[0m\u001b[0;34m=\u001b[0m\u001b[0;32mNone\u001b[0m\u001b[0;34m,\u001b[0m\u001b[0;34m\u001b[0m\n",
       "\u001b[0;34m\u001b[0m    \u001b[0mpattern_shape\u001b[0m\u001b[0;34m=\u001b[0m\u001b[0;32mNone\u001b[0m\u001b[0;34m,\u001b[0m\u001b[0;34m\u001b[0m\n",
       "\u001b[0;34m\u001b[0m    \u001b[0mfacet_row\u001b[0m\u001b[0;34m=\u001b[0m\u001b[0;32mNone\u001b[0m\u001b[0;34m,\u001b[0m\u001b[0;34m\u001b[0m\n",
       "\u001b[0;34m\u001b[0m    \u001b[0mfacet_col\u001b[0m\u001b[0;34m=\u001b[0m\u001b[0;32mNone\u001b[0m\u001b[0;34m,\u001b[0m\u001b[0;34m\u001b[0m\n",
       "\u001b[0;34m\u001b[0m    \u001b[0mfacet_col_wrap\u001b[0m\u001b[0;34m=\u001b[0m\u001b[0;36m0\u001b[0m\u001b[0;34m,\u001b[0m\u001b[0;34m\u001b[0m\n",
       "\u001b[0;34m\u001b[0m    \u001b[0mfacet_row_spacing\u001b[0m\u001b[0;34m=\u001b[0m\u001b[0;32mNone\u001b[0m\u001b[0;34m,\u001b[0m\u001b[0;34m\u001b[0m\n",
       "\u001b[0;34m\u001b[0m    \u001b[0mfacet_col_spacing\u001b[0m\u001b[0;34m=\u001b[0m\u001b[0;32mNone\u001b[0m\u001b[0;34m,\u001b[0m\u001b[0;34m\u001b[0m\n",
       "\u001b[0;34m\u001b[0m    \u001b[0mhover_name\u001b[0m\u001b[0;34m=\u001b[0m\u001b[0;32mNone\u001b[0m\u001b[0;34m,\u001b[0m\u001b[0;34m\u001b[0m\n",
       "\u001b[0;34m\u001b[0m    \u001b[0mhover_data\u001b[0m\u001b[0;34m=\u001b[0m\u001b[0;32mNone\u001b[0m\u001b[0;34m,\u001b[0m\u001b[0;34m\u001b[0m\n",
       "\u001b[0;34m\u001b[0m    \u001b[0mcustom_data\u001b[0m\u001b[0;34m=\u001b[0m\u001b[0;32mNone\u001b[0m\u001b[0;34m,\u001b[0m\u001b[0;34m\u001b[0m\n",
       "\u001b[0;34m\u001b[0m    \u001b[0mtext\u001b[0m\u001b[0;34m=\u001b[0m\u001b[0;32mNone\u001b[0m\u001b[0;34m,\u001b[0m\u001b[0;34m\u001b[0m\n",
       "\u001b[0;34m\u001b[0m    \u001b[0mbase\u001b[0m\u001b[0;34m=\u001b[0m\u001b[0;32mNone\u001b[0m\u001b[0;34m,\u001b[0m\u001b[0;34m\u001b[0m\n",
       "\u001b[0;34m\u001b[0m    \u001b[0merror_x\u001b[0m\u001b[0;34m=\u001b[0m\u001b[0;32mNone\u001b[0m\u001b[0;34m,\u001b[0m\u001b[0;34m\u001b[0m\n",
       "\u001b[0;34m\u001b[0m    \u001b[0merror_x_minus\u001b[0m\u001b[0;34m=\u001b[0m\u001b[0;32mNone\u001b[0m\u001b[0;34m,\u001b[0m\u001b[0;34m\u001b[0m\n",
       "\u001b[0;34m\u001b[0m    \u001b[0merror_y\u001b[0m\u001b[0;34m=\u001b[0m\u001b[0;32mNone\u001b[0m\u001b[0;34m,\u001b[0m\u001b[0;34m\u001b[0m\n",
       "\u001b[0;34m\u001b[0m    \u001b[0merror_y_minus\u001b[0m\u001b[0;34m=\u001b[0m\u001b[0;32mNone\u001b[0m\u001b[0;34m,\u001b[0m\u001b[0;34m\u001b[0m\n",
       "\u001b[0;34m\u001b[0m    \u001b[0manimation_frame\u001b[0m\u001b[0;34m=\u001b[0m\u001b[0;32mNone\u001b[0m\u001b[0;34m,\u001b[0m\u001b[0;34m\u001b[0m\n",
       "\u001b[0;34m\u001b[0m    \u001b[0manimation_group\u001b[0m\u001b[0;34m=\u001b[0m\u001b[0;32mNone\u001b[0m\u001b[0;34m,\u001b[0m\u001b[0;34m\u001b[0m\n",
       "\u001b[0;34m\u001b[0m    \u001b[0mcategory_orders\u001b[0m\u001b[0;34m=\u001b[0m\u001b[0;32mNone\u001b[0m\u001b[0;34m,\u001b[0m\u001b[0;34m\u001b[0m\n",
       "\u001b[0;34m\u001b[0m    \u001b[0mlabels\u001b[0m\u001b[0;34m=\u001b[0m\u001b[0;32mNone\u001b[0m\u001b[0;34m,\u001b[0m\u001b[0;34m\u001b[0m\n",
       "\u001b[0;34m\u001b[0m    \u001b[0mcolor_discrete_sequence\u001b[0m\u001b[0;34m=\u001b[0m\u001b[0;32mNone\u001b[0m\u001b[0;34m,\u001b[0m\u001b[0;34m\u001b[0m\n",
       "\u001b[0;34m\u001b[0m    \u001b[0mcolor_discrete_map\u001b[0m\u001b[0;34m=\u001b[0m\u001b[0;32mNone\u001b[0m\u001b[0;34m,\u001b[0m\u001b[0;34m\u001b[0m\n",
       "\u001b[0;34m\u001b[0m    \u001b[0mcolor_continuous_scale\u001b[0m\u001b[0;34m=\u001b[0m\u001b[0;32mNone\u001b[0m\u001b[0;34m,\u001b[0m\u001b[0;34m\u001b[0m\n",
       "\u001b[0;34m\u001b[0m    \u001b[0mpattern_shape_sequence\u001b[0m\u001b[0;34m=\u001b[0m\u001b[0;32mNone\u001b[0m\u001b[0;34m,\u001b[0m\u001b[0;34m\u001b[0m\n",
       "\u001b[0;34m\u001b[0m    \u001b[0mpattern_shape_map\u001b[0m\u001b[0;34m=\u001b[0m\u001b[0;32mNone\u001b[0m\u001b[0;34m,\u001b[0m\u001b[0;34m\u001b[0m\n",
       "\u001b[0;34m\u001b[0m    \u001b[0mrange_color\u001b[0m\u001b[0;34m=\u001b[0m\u001b[0;32mNone\u001b[0m\u001b[0;34m,\u001b[0m\u001b[0;34m\u001b[0m\n",
       "\u001b[0;34m\u001b[0m    \u001b[0mcolor_continuous_midpoint\u001b[0m\u001b[0;34m=\u001b[0m\u001b[0;32mNone\u001b[0m\u001b[0;34m,\u001b[0m\u001b[0;34m\u001b[0m\n",
       "\u001b[0;34m\u001b[0m    \u001b[0mopacity\u001b[0m\u001b[0;34m=\u001b[0m\u001b[0;32mNone\u001b[0m\u001b[0;34m,\u001b[0m\u001b[0;34m\u001b[0m\n",
       "\u001b[0;34m\u001b[0m    \u001b[0morientation\u001b[0m\u001b[0;34m=\u001b[0m\u001b[0;32mNone\u001b[0m\u001b[0;34m,\u001b[0m\u001b[0;34m\u001b[0m\n",
       "\u001b[0;34m\u001b[0m    \u001b[0mbarmode\u001b[0m\u001b[0;34m=\u001b[0m\u001b[0;34m'relative'\u001b[0m\u001b[0;34m,\u001b[0m\u001b[0;34m\u001b[0m\n",
       "\u001b[0;34m\u001b[0m    \u001b[0mlog_x\u001b[0m\u001b[0;34m=\u001b[0m\u001b[0;32mFalse\u001b[0m\u001b[0;34m,\u001b[0m\u001b[0;34m\u001b[0m\n",
       "\u001b[0;34m\u001b[0m    \u001b[0mlog_y\u001b[0m\u001b[0;34m=\u001b[0m\u001b[0;32mFalse\u001b[0m\u001b[0;34m,\u001b[0m\u001b[0;34m\u001b[0m\n",
       "\u001b[0;34m\u001b[0m    \u001b[0mrange_x\u001b[0m\u001b[0;34m=\u001b[0m\u001b[0;32mNone\u001b[0m\u001b[0;34m,\u001b[0m\u001b[0;34m\u001b[0m\n",
       "\u001b[0;34m\u001b[0m    \u001b[0mrange_y\u001b[0m\u001b[0;34m=\u001b[0m\u001b[0;32mNone\u001b[0m\u001b[0;34m,\u001b[0m\u001b[0;34m\u001b[0m\n",
       "\u001b[0;34m\u001b[0m    \u001b[0mtext_auto\u001b[0m\u001b[0;34m=\u001b[0m\u001b[0;32mFalse\u001b[0m\u001b[0;34m,\u001b[0m\u001b[0;34m\u001b[0m\n",
       "\u001b[0;34m\u001b[0m    \u001b[0mtitle\u001b[0m\u001b[0;34m=\u001b[0m\u001b[0;32mNone\u001b[0m\u001b[0;34m,\u001b[0m\u001b[0;34m\u001b[0m\n",
       "\u001b[0;34m\u001b[0m    \u001b[0mtemplate\u001b[0m\u001b[0;34m=\u001b[0m\u001b[0;32mNone\u001b[0m\u001b[0;34m,\u001b[0m\u001b[0;34m\u001b[0m\n",
       "\u001b[0;34m\u001b[0m    \u001b[0mwidth\u001b[0m\u001b[0;34m=\u001b[0m\u001b[0;32mNone\u001b[0m\u001b[0;34m,\u001b[0m\u001b[0;34m\u001b[0m\n",
       "\u001b[0;34m\u001b[0m    \u001b[0mheight\u001b[0m\u001b[0;34m=\u001b[0m\u001b[0;32mNone\u001b[0m\u001b[0;34m,\u001b[0m\u001b[0;34m\u001b[0m\n",
       "\u001b[0;34m\u001b[0m\u001b[0;34m)\u001b[0m \u001b[0;34m->\u001b[0m \u001b[0mplotly\u001b[0m\u001b[0;34m.\u001b[0m\u001b[0mgraph_objs\u001b[0m\u001b[0;34m.\u001b[0m\u001b[0m_figure\u001b[0m\u001b[0;34m.\u001b[0m\u001b[0mFigure\u001b[0m\u001b[0;34m\u001b[0m\u001b[0;34m\u001b[0m\u001b[0m\n",
       "\u001b[0;31mDocstring:\u001b[0m\n",
       "    In a bar plot, each row of `data_frame` is represented as a rectangular\n",
       "    mark.\n",
       "    \n",
       "Parameters\n",
       "----------\n",
       "data_frame: DataFrame or array-like or dict\n",
       "    This argument needs to be passed for column names (and not keyword\n",
       "    names) to be used. Array-like and dict are transformed internally to a\n",
       "    pandas DataFrame. Optional: if missing, a DataFrame gets constructed\n",
       "    under the hood using the other arguments.\n",
       "x: str or int or Series or array-like\n",
       "    Either a name of a column in `data_frame`, or a pandas Series or\n",
       "    array_like object. Values from this column or array_like are used to\n",
       "    position marks along the x axis in cartesian coordinates. Either `x` or\n",
       "    `y` can optionally be a list of column references or array_likes,  in\n",
       "    which case the data will be treated as if it were 'wide' rather than\n",
       "    'long'.\n",
       "y: str or int or Series or array-like\n",
       "    Either a name of a column in `data_frame`, or a pandas Series or\n",
       "    array_like object. Values from this column or array_like are used to\n",
       "    position marks along the y axis in cartesian coordinates. Either `x` or\n",
       "    `y` can optionally be a list of column references or array_likes,  in\n",
       "    which case the data will be treated as if it were 'wide' rather than\n",
       "    'long'.\n",
       "color: str or int or Series or array-like\n",
       "    Either a name of a column in `data_frame`, or a pandas Series or\n",
       "    array_like object. Values from this column or array_like are used to\n",
       "    assign color to marks.\n",
       "pattern_shape: str or int or Series or array-like\n",
       "    Either a name of a column in `data_frame`, or a pandas Series or\n",
       "    array_like object. Values from this column or array_like are used to\n",
       "    assign pattern shapes to marks.\n",
       "facet_row: str or int or Series or array-like\n",
       "    Either a name of a column in `data_frame`, or a pandas Series or\n",
       "    array_like object. Values from this column or array_like are used to\n",
       "    assign marks to facetted subplots in the vertical direction.\n",
       "facet_col: str or int or Series or array-like\n",
       "    Either a name of a column in `data_frame`, or a pandas Series or\n",
       "    array_like object. Values from this column or array_like are used to\n",
       "    assign marks to facetted subplots in the horizontal direction.\n",
       "facet_col_wrap: int\n",
       "    Maximum number of facet columns. Wraps the column variable at this\n",
       "    width, so that the column facets span multiple rows. Ignored if 0, and\n",
       "    forced to 0 if `facet_row` or a `marginal` is set.\n",
       "facet_row_spacing: float between 0 and 1\n",
       "    Spacing between facet rows, in paper units. Default is 0.03 or 0.0.7\n",
       "    when facet_col_wrap is used.\n",
       "facet_col_spacing: float between 0 and 1\n",
       "    Spacing between facet columns, in paper units Default is 0.02.\n",
       "hover_name: str or int or Series or array-like\n",
       "    Either a name of a column in `data_frame`, or a pandas Series or\n",
       "    array_like object. Values from this column or array_like appear in bold\n",
       "    in the hover tooltip.\n",
       "hover_data: str, or list of str or int, or Series or array-like, or dict\n",
       "    Either a name or list of names of columns in `data_frame`, or pandas\n",
       "    Series, or array_like objects or a dict with column names as keys, with\n",
       "    values True (for default formatting) False (in order to remove this\n",
       "    column from hover information), or a formatting string, for example\n",
       "    ':.3f' or '|%a' or list-like data to appear in the hover tooltip or\n",
       "    tuples with a bool or formatting string as first element, and list-like\n",
       "    data to appear in hover as second element Values from these columns\n",
       "    appear as extra data in the hover tooltip.\n",
       "custom_data: str, or list of str or int, or Series or array-like\n",
       "    Either name or list of names of columns in `data_frame`, or pandas\n",
       "    Series, or array_like objects Values from these columns are extra data,\n",
       "    to be used in widgets or Dash callbacks for example. This data is not\n",
       "    user-visible but is included in events emitted by the figure (lasso\n",
       "    selection etc.)\n",
       "text: str or int or Series or array-like\n",
       "    Either a name of a column in `data_frame`, or a pandas Series or\n",
       "    array_like object. Values from this column or array_like appear in the\n",
       "    figure as text labels.\n",
       "base: str or int or Series or array-like\n",
       "    Either a name of a column in `data_frame`, or a pandas Series or\n",
       "    array_like object. Values from this column or array_like are used to\n",
       "    position the base of the bar.\n",
       "error_x: str or int or Series or array-like\n",
       "    Either a name of a column in `data_frame`, or a pandas Series or\n",
       "    array_like object. Values from this column or array_like are used to\n",
       "    size x-axis error bars. If `error_x_minus` is `None`, error bars will\n",
       "    be symmetrical, otherwise `error_x` is used for the positive direction\n",
       "    only.\n",
       "error_x_minus: str or int or Series or array-like\n",
       "    Either a name of a column in `data_frame`, or a pandas Series or\n",
       "    array_like object. Values from this column or array_like are used to\n",
       "    size x-axis error bars in the negative direction. Ignored if `error_x`\n",
       "    is `None`.\n",
       "error_y: str or int or Series or array-like\n",
       "    Either a name of a column in `data_frame`, or a pandas Series or\n",
       "    array_like object. Values from this column or array_like are used to\n",
       "    size y-axis error bars. If `error_y_minus` is `None`, error bars will\n",
       "    be symmetrical, otherwise `error_y` is used for the positive direction\n",
       "    only.\n",
       "error_y_minus: str or int or Series or array-like\n",
       "    Either a name of a column in `data_frame`, or a pandas Series or\n",
       "    array_like object. Values from this column or array_like are used to\n",
       "    size y-axis error bars in the negative direction. Ignored if `error_y`\n",
       "    is `None`.\n",
       "animation_frame: str or int or Series or array-like\n",
       "    Either a name of a column in `data_frame`, or a pandas Series or\n",
       "    array_like object. Values from this column or array_like are used to\n",
       "    assign marks to animation frames.\n",
       "animation_group: str or int or Series or array-like\n",
       "    Either a name of a column in `data_frame`, or a pandas Series or\n",
       "    array_like object. Values from this column or array_like are used to\n",
       "    provide object-constancy across animation frames: rows with matching\n",
       "    `animation_group`s will be treated as if they describe the same object\n",
       "    in each frame.\n",
       "category_orders: dict with str keys and list of str values (default `{}`)\n",
       "    By default, in Python 3.6+, the order of categorical values in axes,\n",
       "    legends and facets depends on the order in which these values are first\n",
       "    encountered in `data_frame` (and no order is guaranteed by default in\n",
       "    Python below 3.6). This parameter is used to force a specific ordering\n",
       "    of values per column. The keys of this dict should correspond to column\n",
       "    names, and the values should be lists of strings corresponding to the\n",
       "    specific display order desired.\n",
       "labels: dict with str keys and str values (default `{}`)\n",
       "    By default, column names are used in the figure for axis titles, legend\n",
       "    entries and hovers. This parameter allows this to be overridden. The\n",
       "    keys of this dict should correspond to column names, and the values\n",
       "    should correspond to the desired label to be displayed.\n",
       "color_discrete_sequence: list of str\n",
       "    Strings should define valid CSS-colors. When `color` is set and the\n",
       "    values in the corresponding column are not numeric, values in that\n",
       "    column are assigned colors by cycling through `color_discrete_sequence`\n",
       "    in the order described in `category_orders`, unless the value of\n",
       "    `color` is a key in `color_discrete_map`. Various useful color\n",
       "    sequences are available in the `plotly.express.colors` submodules,\n",
       "    specifically `plotly.express.colors.qualitative`.\n",
       "color_discrete_map: dict with str keys and str values (default `{}`)\n",
       "    String values should define valid CSS-colors Used to override\n",
       "    `color_discrete_sequence` to assign a specific colors to marks\n",
       "    corresponding with specific values. Keys in `color_discrete_map` should\n",
       "    be values in the column denoted by `color`. Alternatively, if the\n",
       "    values of `color` are valid colors, the string `'identity'` may be\n",
       "    passed to cause them to be used directly.\n",
       "color_continuous_scale: list of str\n",
       "    Strings should define valid CSS-colors This list is used to build a\n",
       "    continuous color scale when the column denoted by `color` contains\n",
       "    numeric data. Various useful color scales are available in the\n",
       "    `plotly.express.colors` submodules, specifically\n",
       "    `plotly.express.colors.sequential`, `plotly.express.colors.diverging`\n",
       "    and `plotly.express.colors.cyclical`.\n",
       "pattern_shape_sequence: list of str\n",
       "    Strings should define valid plotly.js patterns-shapes. When\n",
       "    `pattern_shape` is set, values in that column are assigned patterns-\n",
       "    shapes by cycling through `pattern_shape_sequence` in the order\n",
       "    described in `category_orders`, unless the value of `pattern_shape` is\n",
       "    a key in `pattern_shape_map`.\n",
       "pattern_shape_map: dict with str keys and str values (default `{}`)\n",
       "    Strings values define plotly.js patterns-shapes. Used to override\n",
       "    `pattern_shape_sequences` to assign a specific patterns-shapes to lines\n",
       "    corresponding with specific values. Keys in `pattern_shape_map` should\n",
       "    be values in the column denoted by `pattern_shape`. Alternatively, if\n",
       "    the values of `pattern_shape` are valid patterns-shapes names, the\n",
       "    string `'identity'` may be passed to cause them to be used directly.\n",
       "range_color: list of two numbers\n",
       "    If provided, overrides auto-scaling on the continuous color scale.\n",
       "color_continuous_midpoint: number (default `None`)\n",
       "    If set, computes the bounds of the continuous color scale to have the\n",
       "    desired midpoint. Setting this value is recommended when using\n",
       "    `plotly.express.colors.diverging` color scales as the inputs to\n",
       "    `color_continuous_scale`.\n",
       "opacity: float\n",
       "    Value between 0 and 1. Sets the opacity for markers.\n",
       "orientation: str, one of `'h'` for horizontal or `'v'` for vertical. \n",
       "    (default `'v'` if `x` and `y` are provided and both continous or both\n",
       "    categorical,  otherwise `'v'`(`'h'`) if `x`(`y`) is categorical and\n",
       "    `y`(`x`) is continuous,  otherwise `'v'`(`'h'`) if only `x`(`y`) is\n",
       "    provided)\n",
       "barmode: str (default `'relative'`)\n",
       "    One of `'group'`, `'overlay'` or `'relative'` In `'relative'` mode,\n",
       "    bars are stacked above zero for positive values and below zero for\n",
       "    negative values. In `'overlay'` mode, bars are drawn on top of one\n",
       "    another. In `'group'` mode, bars are placed beside each other.\n",
       "log_x: boolean (default `False`)\n",
       "    If `True`, the x-axis is log-scaled in cartesian coordinates.\n",
       "log_y: boolean (default `False`)\n",
       "    If `True`, the y-axis is log-scaled in cartesian coordinates.\n",
       "range_x: list of two numbers\n",
       "    If provided, overrides auto-scaling on the x-axis in cartesian\n",
       "    coordinates.\n",
       "range_y: list of two numbers\n",
       "    If provided, overrides auto-scaling on the y-axis in cartesian\n",
       "    coordinates.\n",
       "text_auto: bool or string (default `False`)\n",
       "    If `True` or a string, the x or y or z values will be displayed as\n",
       "    text, depending on the orientation A string like `'.2f'` will be\n",
       "    interpreted as a `texttemplate` numeric formatting directive.\n",
       "title: str\n",
       "    The figure title.\n",
       "template: str or dict or plotly.graph_objects.layout.Template instance\n",
       "    The figure template name (must be a key in plotly.io.templates) or\n",
       "    definition.\n",
       "width: int (default `None`)\n",
       "    The figure width in pixels.\n",
       "height: int (default `None`)\n",
       "    The figure height in pixels.\n",
       "\n",
       "Returns\n",
       "-------\n",
       "    plotly.graph_objects.Figure\n",
       "\u001b[0;31mFile:\u001b[0m      /Library/Frameworks/Python.framework/Versions/3.12/lib/python3.12/site-packages/plotly/express/_chart_types.py\n",
       "\u001b[0;31mType:\u001b[0m      function"
      ]
     },
     "metadata": {},
     "output_type": "display_data"
    }
   ],
   "source": [
    "\n",
    "\n",
    "\n",
    "\n",
    "#px.bar(data_frame=gotit, x = [''])\n",
    "\n",
    "px.bar?\n",
    "\n"
   ]
  },
  {
   "cell_type": "code",
   "execution_count": 35,
   "id": "93154cc9-12d6-4df7-ab2c-dbcd994e5294",
   "metadata": {},
   "outputs": [
    {
     "data": {
      "text/plain": [
       "<Axes: xlabel='Age'>"
      ]
     },
     "execution_count": 35,
     "metadata": {},
     "output_type": "execute_result"
    },
    {
     "data": {
      "image/png": "[encoded data removed]",
      "text/plain": [
       "<Figure size 640x480 with 1 Axes>"
      ]
     },
     "metadata": {},
     "output_type": "display_data"
    }
   ],
   "source": [
    "\n",
    "\n",
    "\n",
    "\n",
    "temp[(temp.position == 'FW') & (temp.Age < 30)].groupby(['Age', 'Comp']\n",
    "                                   )[['Performance - Gls']\n",
    "].mean().unstack().droplevel(0, 1).plot()\n",
    "\n",
    "\n"
   ]
  },
  {
   "cell_type": "code",
   "execution_count": 58,
   "id": "fd81423b",
   "metadata": {},
   "outputs": [],
   "source": [
    "\n",
    "\n",
    "\n",
    "temp.Pos.value_counts()\n",
    "\n",
    "\n",
    "temp['position'] = temp.Pos.apply(handle_pos)\n",
    "\n"
   ]
  },
  {
   "cell_type": "code",
   "execution_count": 59,
   "id": "55d26c78-8031-4ad0-bbd3-0fe669987668",
   "metadata": {},
   "outputs": [],
   "source": [
    "\n",
    "\n",
    "\n",
    "#temp.to_csv('data/new_all_outfield_player_data.csv')\n",
    "\n",
    "\n"
   ]
  },
  {
   "cell_type": "code",
   "execution_count": 56,
   "id": "b8acfdfd-30c4-4db5-953d-49d4209c2c76",
   "metadata": {},
   "outputs": [
    {
     "data": {
      "text/html": [
       "<div>\n",
       "<style scoped>\n",
       "    .dataframe tbody tr th:only-of-type {\n",
       "        vertical-align: middle;\n",
       "    }\n",
       "\n",
       "    .dataframe tbody tr th {\n",
       "        vertical-align: top;\n",
       "    }\n",
       "\n",
       "    .dataframe thead th {\n",
       "        text-align: right;\n",
       "    }\n",
       "</style>\n",
       "<table border=\"1\" class=\"dataframe\">\n",
       "  <thead>\n",
       "    <tr style=\"text-align: right;\">\n",
       "      <th></th>\n",
       "      <th>Unnamed: 0</th>\n",
       "      <th>Player</th>\n",
       "      <th>Squad</th>\n",
       "      <th>Nation</th>\n",
       "      <th>Pos</th>\n",
       "      <th>Comp</th>\n",
       "      <th>Age</th>\n",
       "      <th>Born</th>\n",
       "      <th>Playing Time - MP</th>\n",
       "      <th>Playing Time - Starts</th>\n",
       "      <th>...</th>\n",
       "      <th>Performance - CS per 90</th>\n",
       "      <th>Performance - GA per 90</th>\n",
       "      <th>Performance - SoTA per 90</th>\n",
       "      <th>Performance - Saves per 90</th>\n",
       "      <th>Penalty Kicks - Save% per 90</th>\n",
       "      <th>Performance - CrdY per 90</th>\n",
       "      <th>Performance - 2CrdY per 90</th>\n",
       "      <th>Performance - CrdR per 90</th>\n",
       "      <th>Performance - Fls per 90</th>\n",
       "      <th>Performance - Fld per 90</th>\n",
       "    </tr>\n",
       "  </thead>\n",
       "  <tbody>\n",
       "    <tr>\n",
       "      <th>15265</th>\n",
       "      <td>1444</td>\n",
       "      <td>Khvicha Kvaratskhelia</td>\n",
       "      <td>Napoli</td>\n",
       "      <td>GEO</td>\n",
       "      <td>FW</td>\n",
       "      <td>Serie A</td>\n",
       "      <td>21.0</td>\n",
       "      <td>2001.0</td>\n",
       "      <td>34.0</td>\n",
       "      <td>30.0</td>\n",
       "      <td>...</td>\n",
       "      <td>NaN</td>\n",
       "      <td>NaN</td>\n",
       "      <td>NaN</td>\n",
       "      <td>NaN</td>\n",
       "      <td>NaN</td>\n",
       "      <td>0.011</td>\n",
       "      <td>0.0</td>\n",
       "      <td>0.0</td>\n",
       "      <td>0.222</td>\n",
       "      <td>0.500</td>\n",
       "    </tr>\n",
       "    <tr>\n",
       "      <th>18115</th>\n",
       "      <td>1405</td>\n",
       "      <td>Khvicha Kvaratskhelia</td>\n",
       "      <td>Napoli</td>\n",
       "      <td>GE</td>\n",
       "      <td>FW</td>\n",
       "      <td>Serie A</td>\n",
       "      <td>22.0</td>\n",
       "      <td>2001.0</td>\n",
       "      <td>34.0</td>\n",
       "      <td>32.0</td>\n",
       "      <td>...</td>\n",
       "      <td>NaN</td>\n",
       "      <td>NaN</td>\n",
       "      <td>NaN</td>\n",
       "      <td>NaN</td>\n",
       "      <td>NaN</td>\n",
       "      <td>0.089</td>\n",
       "      <td>0.0</td>\n",
       "      <td>0.0</td>\n",
       "      <td>0.278</td>\n",
       "      <td>0.889</td>\n",
       "    </tr>\n",
       "  </tbody>\n",
       "</table>\n",
       "<p>2 rows × 300 columns</p>\n",
       "</div>"
      ],
      "text/plain": [
       "       Unnamed: 0                 Player   Squad Nation Pos     Comp   Age  \\\n",
       "15265        1444  Khvicha Kvaratskhelia  Napoli    GEO  FW  Serie A  21.0   \n",
       "18115        1405  Khvicha Kvaratskhelia  Napoli     GE  FW  Serie A  22.0   \n",
       "\n",
       "         Born  Playing Time - MP  Playing Time - Starts  ...  \\\n",
       "15265  2001.0               34.0                   30.0  ...   \n",
       "18115  2001.0               34.0                   32.0  ...   \n",
       "\n",
       "       Performance - CS per 90  Performance - GA per 90  \\\n",
       "15265                      NaN                      NaN   \n",
       "18115                      NaN                      NaN   \n",
       "\n",
       "       Performance - SoTA per 90  Performance - Saves per 90  \\\n",
       "15265                        NaN                         NaN   \n",
       "18115                        NaN                         NaN   \n",
       "\n",
       "       Penalty Kicks - Save% per 90  Performance - CrdY per 90  \\\n",
       "15265                           NaN                      0.011   \n",
       "18115                           NaN                      0.089   \n",
       "\n",
       "       Performance - 2CrdY per 90  Performance - CrdR per 90  \\\n",
       "15265                         0.0                        0.0   \n",
       "18115                         0.0                        0.0   \n",
       "\n",
       "       Performance - Fls per 90  Performance - Fld per 90  \n",
       "15265                     0.222                     0.500  \n",
       "18115                     0.278                     0.889  \n",
       "\n",
       "[2 rows x 300 columns]"
      ]
     },
     "execution_count": 56,
     "metadata": {},
     "output_type": "execute_result"
    }
   ],
   "source": [
    "\n",
    "\n",
    "\n",
    "temp[temp.Pos == 'DF,MF'].tail(50)\n",
    "\n",
    "temp[temp.Player.str.contains('Kvara')]\n",
    "\n"
   ]
  },
  {
   "cell_type": "code",
   "execution_count": 80,
   "id": "2fb614f6-bb5d-42b6-a7fa-82320c727248",
   "metadata": {},
   "outputs": [],
   "source": [
    "\n",
    "\n",
    "\n",
    "# (temp.Season >= '2020-2021') &\n",
    "juve_players = temp[(temp.Squad == 'Juventus') & (temp[refr.min_played_col] > 250) &\n",
    "                     (temp.Pos.str.contains('FW'))]\n",
    "\n",
    "\n",
    "\n",
    "\n",
    "\n",
    "\n"
   ]
  },
  {
   "cell_type": "code",
   "execution_count": 86,
   "id": "430147a4",
   "metadata": {},
   "outputs": [
    {
     "data": {
      "text/plain": [
       "{'Goalscoring': {'Goals': {'normal_name': 'Performance - Gls',\n",
       "   'per_90_name': 'Performance - Gls per 90',\n",
       "   'is_inverse': False},\n",
       "  'Penalty Kicks': {'normal_name': 'Performance - PK',\n",
       "   'per_90_name': 'Performance - PK per 90',\n",
       "   'is_inverse': False},\n",
       "  'Goals per Shot': {'normal_name': 'Standard - G/Sh',\n",
       "   'per_90_name': 'Standard - G/Sh per 90',\n",
       "   'is_inverse': False},\n",
       "  'Goals per SoT': {'normal_name': 'Standard - G/SoT',\n",
       "   'per_90_name': 'Standard - G/SoT per 90',\n",
       "   'is_inverse': False},\n",
       "  'xG': {'normal_name': 'Expected - xG',\n",
       "   'per_90_name': 'Expected - xG per 90',\n",
       "   'is_inverse': False},\n",
       "  'Goals minus xG': {'normal_name': 'Expected - G-xG',\n",
       "   'per_90_name': 'Expected - G-xG per 90',\n",
       "   'is_inverse': False},\n",
       "  'Non-Penalty Expected Goals': {'normal_name': 'Expected - npxG',\n",
       "   'per_90_name': 'Expected - npxG per 90',\n",
       "   'is_inverse': False},\n",
       "  'Non-Penalty Goals - npxG': {'normal_name': 'Expected - np:G-xG',\n",
       "   'per_90_name': 'Expected - np:G-xG per 90',\n",
       "   'is_inverse': False}},\n",
       " 'Shooting': {'Shots': {'normal_name': 'Standard - Sh',\n",
       "   'per_90_name': 'Standard - Sh per 90',\n",
       "   'is_inverse': False},\n",
       "  'Shots on Target': {'normal_name': 'Standard - SoT',\n",
       "   'per_90_name': 'Standard - SoT per 90',\n",
       "   'is_inverse': False},\n",
       "  'SoT %': {'normal_name': 'Standard - SoT%',\n",
       "   'per_90_name': 'Standard - SoT% per 90',\n",
       "   'is_inverse': False},\n",
       "  'Avg Shot Distance': {'normal_name': 'Standard - Dist',\n",
       "   'per_90_name': 'Standard - Dist per 90',\n",
       "   'is_inverse': False},\n",
       "  'Non-Penalty Expected Goals per Shot': {'normal_name': 'Expected - npxG/Sh',\n",
       "   'per_90_name': 'Expected - npxG/Sh per 90',\n",
       "   'is_inverse': False}},\n",
       " 'Passing': {'Assists': {'normal_name': 'Ast',\n",
       "   'per_90_name': 'Ast per 90',\n",
       "   'is_inverse': False},\n",
       "  'Total Passing Distance': {'normal_name': 'Total - TotDist',\n",
       "   'per_90_name': 'Total - TotDist per 90',\n",
       "   'is_inverse': False},\n",
       "  'Progressive Passing Distance': {'normal_name': 'Total - PrgDist',\n",
       "   'per_90_name': 'Total - PrgDist per 90',\n",
       "   'is_inverse': False},\n",
       "  'Passes Completed': {'normal_name': 'Total - Cmp',\n",
       "   'per_90_name': 'Total - Cmp per 90',\n",
       "   'is_inverse': False},\n",
       "  'Pass Completion %': {'normal_name': 'Total - Cmp%',\n",
       "   'per_90_name': 'Total - Cmp% per 90',\n",
       "   'is_inverse': False},\n",
       "  'Crosses': {'normal_name': 'Performance - Crs',\n",
       "   'per_90_name': 'Performance - Crs per 90',\n",
       "   'is_inverse': False},\n",
       "  'Short Passes Completed': {'normal_name': 'Short - Cmp',\n",
       "   'per_90_name': 'Short - Cmp per 90',\n",
       "   'is_inverse': False},\n",
       "  'Short Pass Completion %': {'normal_name': 'Short - Cmp%',\n",
       "   'per_90_name': 'Short - Cmp% per 90',\n",
       "   'is_inverse': False},\n",
       "  'Medium Passes Completed': {'normal_name': 'Medium - Cmp',\n",
       "   'per_90_name': 'Medium - Cmp per 90',\n",
       "   'is_inverse': False},\n",
       "  'Medium Pass Completion %': {'normal_name': 'Medium - Cmp%',\n",
       "   'per_90_name': 'Medium - Cmp% per 90',\n",
       "   'is_inverse': False},\n",
       "  'Long Passes Completed': {'normal_name': 'Long - Cmp',\n",
       "   'per_90_name': 'Long - Cmp per 90',\n",
       "   'is_inverse': False},\n",
       "  'Long Pass Completion %': {'normal_name': 'Long - Cmp%',\n",
       "   'per_90_name': 'Long - Cmp% per 90',\n",
       "   'is_inverse': False},\n",
       "  'Expected Assists': {'normal_name': 'Expected - xA',\n",
       "   'per_90_name': 'xA per 90',\n",
       "   'is_inverse': False},\n",
       "  'Assists - xA': {'normal_name': 'Expected - A-xAG',\n",
       "   'per_90_name': 'A-xAG per 90',\n",
       "   'is_inverse': False},\n",
       "  'Key Passes': {'normal_name': 'KP',\n",
       "   'per_90_name': 'KP per 90',\n",
       "   'is_inverse': False},\n",
       "  'Passes into Final 3rd': {'normal_name': '1/3',\n",
       "   'per_90_name': '1/3 per 90',\n",
       "   'is_inverse': False},\n",
       "  'Passes into PA': {'normal_name': 'PPA',\n",
       "   'per_90_name': 'PPA per 90',\n",
       "   'is_inverse': False},\n",
       "  'Crosses into PA': {'normal_name': 'CrsPA',\n",
       "   'per_90_name': 'CrsPA per 90',\n",
       "   'is_inverse': False},\n",
       "  'Progressive Passes': {'normal_name': 'PrgP',\n",
       "   'per_90_name': 'PrgP per 90',\n",
       "   'is_inverse': False},\n",
       "  'Through-Balls': {'normal_name': 'Pass Types - TB',\n",
       "   'per_90_name': 'Pass Types - TB per 90',\n",
       "   'is_inverse': False},\n",
       "  'Switches': {'normal_name': 'Pass Types - Sw',\n",
       "   'per_90_name': 'Pass Types - Sw per 90',\n",
       "   'is_inverse': False}},\n",
       " 'Creation': {'Shot-Creating Actions': {'normal_name': 'SCA - SCA',\n",
       "   'per_90_name': 'SCA - SCA per 90',\n",
       "   'is_inverse': False},\n",
       "  'Liveball Pass leading to Shot': {'normal_name': 'SCA Types - PassLive',\n",
       "   'per_90_name': 'SCA Types - PassLive per 90',\n",
       "   'is_inverse': False},\n",
       "  'Deadball Pass leading to Shot': {'normal_name': 'SCA Types - PassDead',\n",
       "   'per_90_name': 'SCA Types - PassDead per 90',\n",
       "   'is_inverse': False},\n",
       "  'Take-ons leading to Shot': {'normal_name': 'SCA Types - TO',\n",
       "   'per_90_name': 'SCA Types - TO per 90',\n",
       "   'is_inverse': False},\n",
       "  'Shots leading to Shot': {'normal_name': 'SCA Types - Sh',\n",
       "   'per_90_name': 'SCA Types - Sh per 90',\n",
       "   'is_inverse': False},\n",
       "  'Defensive Actions leading to Shot': {'normal_name': 'SCA Types - Def',\n",
       "   'per_90_name': 'SCA Types - Def per 90',\n",
       "   'is_inverse': False},\n",
       "  'Liveball Pass leading to Goals': {'normal_name': 'GCA Types - PassLive',\n",
       "   'per_90_name': 'GCA Types - PassLive per 90',\n",
       "   'is_inverse': False},\n",
       "  'Deadball Pass leading to Goals': {'normal_name': 'GCA Types - PassDead',\n",
       "   'per_90_name': 'GCA Types - PassDead per 90',\n",
       "   'is_inverse': False},\n",
       "  'Take-ons leading to Goals': {'normal_name': 'GCA Types - TO',\n",
       "   'per_90_name': 'GCA Types - TO per 90',\n",
       "   'is_inverse': False},\n",
       "  'Shots leading to Goals': {'normal_name': 'GCA Types - Sh',\n",
       "   'per_90_name': 'GCA Types - Sh per 90',\n",
       "   'is_inverse': False},\n",
       "  'Defensive Actions leading to Goals': {'normal_name': 'GCA Types - Def',\n",
       "   'per_90_name': 'GCA Types - Def per 90',\n",
       "   'is_inverse': False}},\n",
       " 'Skills': {'Touches': {'normal_name': 'Touches - Touches',\n",
       "   'per_90_name': 'Touches - Touches per 90',\n",
       "   'is_inverse': False},\n",
       "  'Touches - Def Pen': {'normal_name': 'Touches - Def Pen',\n",
       "   'per_90_name': 'Touches - Def Pen per 90',\n",
       "   'is_inverse': False},\n",
       "  'Touches - Def 3rd': {'normal_name': 'Touches - Def 3rd',\n",
       "   'per_90_name': 'Touches - Def 3rd per 90',\n",
       "   'is_inverse': False},\n",
       "  'Touches - Mid 3rd': {'normal_name': 'Touches - Mid 3rd',\n",
       "   'per_90_name': 'Touches - Mid 3rd per 90',\n",
       "   'is_inverse': False},\n",
       "  'Touches - Att 3rd': {'normal_name': 'Touches - Att 3rd',\n",
       "   'per_90_name': 'Touches - Att 3rd per 90',\n",
       "   'is_inverse': False},\n",
       "  'Touches - Att Pen': {'normal_name': 'Touches - Att Pen',\n",
       "   'per_90_name': 'Touches - Att Pen per 90',\n",
       "   'is_inverse': False},\n",
       "  'Take-Ons - Att': {'normal_name': 'Take-Ons - Att',\n",
       "   'per_90_name': 'Take-Ons - Att per 90',\n",
       "   'is_inverse': False},\n",
       "  'Successful Take-Ons': {'normal_name': 'Take-Ons - Succ',\n",
       "   'per_90_name': 'Take-Ons - Succ per 90',\n",
       "   'is_inverse': False},\n",
       "  'Take-Ons - Succ%': {'normal_name': 'Take-Ons - Succ%',\n",
       "   'per_90_name': 'Take-Ons - Succ% per 90',\n",
       "   'is_inverse': False},\n",
       "  'Take-Ons - Tackled': {'normal_name': 'Take-Ons - Tkld',\n",
       "   'per_90_name': 'Take-Ons - Tkld per 90',\n",
       "   'is_inverse': False},\n",
       "  'Carries': {'normal_name': 'Carries - Carries',\n",
       "   'per_90_name': 'Carries - Carries per 90',\n",
       "   'is_inverse': False},\n",
       "  'Carries - TotDist': {'normal_name': 'Carries - TotDist',\n",
       "   'per_90_name': 'Carries - TotDist per 90',\n",
       "   'is_inverse': False},\n",
       "  'Carries - PrgDist': {'normal_name': 'Carries - PrgDist',\n",
       "   'per_90_name': 'Carries - PrgDist per 90',\n",
       "   'is_inverse': False},\n",
       "  'Progressive Carries': {'normal_name': 'Carries - PrgC',\n",
       "   'per_90_name': 'Carries - PrgC per 90',\n",
       "   'is_inverse': False},\n",
       "  'Carries into Final 3rd': {'normal_name': 'Carries - 1/3',\n",
       "   'per_90_name': 'Carries - 1/3 per 90',\n",
       "   'is_inverse': False},\n",
       "  'Carries into PA': {'normal_name': 'Carries - CPA',\n",
       "   'per_90_name': 'Carries - CPA per 90',\n",
       "   'is_inverse': False},\n",
       "  'Miscontrols': {'normal_name': 'Carries - Mis',\n",
       "   'per_90_name': 'Carries - Mis per 90',\n",
       "   'is_inverse': True},\n",
       "  'Dispossessed': {'normal_name': 'Carries - Dis',\n",
       "   'per_90_name': 'Carries - Dis per 90',\n",
       "   'is_inverse': True},\n",
       "  'Progressive Passes Received': {'normal_name': 'Receiving - PrgR',\n",
       "   'per_90_name': 'Receiving - PrgR per 90',\n",
       "   'is_inverse': False},\n",
       "  'PKs won': {'normal_name': 'Performance - PKwon',\n",
       "   'per_90_name': 'Performance - PKwon per 90',\n",
       "   'is_inverse': False}},\n",
       " 'Defense': {'Tackles Attempted': {'normal_name': 'Tackles - Tkl',\n",
       "   'per_90_name': 'Tackles - Tkl per 90',\n",
       "   'is_inverse': False},\n",
       "  'Tackles Won': {'normal_name': 'Tackles - TklW',\n",
       "   'per_90_name': 'Tackles - TklW per 90',\n",
       "   'is_inverse': False},\n",
       "  'Tackles - Def 3rd': {'normal_name': 'Tackles - Def 3rd',\n",
       "   'per_90_name': 'Tackles - Def 3rd per 90',\n",
       "   'is_inverse': False},\n",
       "  'Tackles - Mid 3rd': {'normal_name': 'Tackles - Mid 3rd',\n",
       "   'per_90_name': 'Tackles - Mid 3rd per 90',\n",
       "   'is_inverse': False},\n",
       "  'Tackles - Att 3rd': {'normal_name': 'Tackles - Att 3rd',\n",
       "   'per_90_name': 'Tackles - Att 3rd per 90',\n",
       "   'is_inverse': False},\n",
       "  'Dribblers Tackled': {'normal_name': 'Challenges - Tkl',\n",
       "   'per_90_name': 'Challenges - Tkl per 90',\n",
       "   'is_inverse': False},\n",
       "  'Dribbles Challenged': {'normal_name': 'Challenges - Att',\n",
       "   'per_90_name': 'Challenges - Att per 90',\n",
       "   'is_inverse': False},\n",
       "  'Challenges Lost': {'normal_name': 'Challenges - Lost',\n",
       "   'per_90_name': 'Challenges - Lost per 90',\n",
       "   'is_inverse': True},\n",
       "  '% of Dribblers Tackled': {'normal_name': 'Challenges - Tkl%',\n",
       "   'per_90_name': 'Challenges - Tkl% per 90',\n",
       "   'is_inverse': False},\n",
       "  'Interceptions': {'normal_name': 'Int',\n",
       "   'per_90_name': 'Int per 90',\n",
       "   'is_inverse': False},\n",
       "  'Tackles + Interceptions': {'normal_name': 'Tkl+Int',\n",
       "   'per_90_name': 'Tkl+Int per 90',\n",
       "   'is_inverse': False},\n",
       "  'Blocks': {'normal_name': 'Blocks - Blocks',\n",
       "   'per_90_name': 'Blocks - Blocks per 90',\n",
       "   'is_inverse': False},\n",
       "  'Shots Blocked': {'normal_name': 'Blocks - Sh',\n",
       "   'per_90_name': 'Blocks - Sh per 90',\n",
       "   'is_inverse': False},\n",
       "  'Passes Blocked': {'normal_name': 'Blocks - Pass',\n",
       "   'per_90_name': 'Blocks - Pass per 90',\n",
       "   'is_inverse': False},\n",
       "  'PKs conceded': {'normal_name': 'Performance - PKcon',\n",
       "   'per_90_name': 'Performance - PKcon per 90',\n",
       "   'is_inverse': True},\n",
       "  'Own Goals': {'normal_name': 'Performance - OG',\n",
       "   'per_90_name': 'Performance - OG per 90',\n",
       "   'is_inverse': True},\n",
       "  'Clearances': {'normal_name': 'Clr',\n",
       "   'per_90_name': 'Clr per 90',\n",
       "   'is_inverse': False},\n",
       "  'Errors': {'normal_name': 'Err',\n",
       "   'per_90_name': 'Err per 90',\n",
       "   'is_inverse': True},\n",
       "  'Aerial Duels - Won': {'normal_name': 'Aerial Duels - Won',\n",
       "   'per_90_name': 'Aerial Duels - Won per 90',\n",
       "   'is_inverse': False},\n",
       "  'Aerial Duels - Lost': {'normal_name': 'Aerial Duels - Lost',\n",
       "   'per_90_name': 'Aerial Duels - Lost per 90',\n",
       "   'is_inverse': False},\n",
       "  '% Aerial Duels Won': {'normal_name': 'Aerial Duels - Won%',\n",
       "   'per_90_name': 'Aerial Duels - Won% per 90',\n",
       "   'is_inverse': False}},\n",
       " 'Playing Time': {'Starts': {'normal_name': 'Starts - Starts',\n",
       "   'per_90_name': 'Starts - Starts per 90',\n",
       "   'is_inverse': False},\n",
       "  'Minutes Played': {'normal_name': 'Playing Time - Min',\n",
       "   'per_90_name': 'Playing Time - Min per 90',\n",
       "   'is_inverse': False},\n",
       "  'Minutes per Start': {'normal_name': 'Starts - Mn/Start',\n",
       "   'per_90_name': 'Starts - Mn/Start per 90',\n",
       "   'is_inverse': False},\n",
       "  'Substitute Appearances': {'normal_name': 'Subs - Subs',\n",
       "   'per_90_name': 'Subs - Subs per 90',\n",
       "   'is_inverse': False},\n",
       "  'Minutes per Sub': {'normal_name': 'Subs - Mn/Sub',\n",
       "   'per_90_name': 'Subs - Mn/Sub per 90',\n",
       "   'is_inverse': False},\n",
       "  'Team Points per Appearance': {'normal_name': 'Team Success - PPM',\n",
       "   'per_90_name': 'Team Success - PPM per 90',\n",
       "   'is_inverse': False},\n",
       "  'Team Goals while on Pitch': {'normal_name': 'Team Success - onG',\n",
       "   'per_90_name': 'Team Success - onG per 90',\n",
       "   'is_inverse': False},\n",
       "  'Team GA while on Pitch': {'normal_name': 'Team Success - onGA',\n",
       "   'per_90_name': 'Team Success - onGA per 90',\n",
       "   'is_inverse': False},\n",
       "  'Plus/Minus Goals while on Pitch': {'normal_name': 'Team Success - +/-',\n",
       "   'per_90_name': 'Team Success - +/- per 90',\n",
       "   'is_inverse': False},\n",
       "  'Team xG while on Pitch': {'normal_name': 'Team Success (xG) - onxG',\n",
       "   'per_90_name': 'Team Success (xG) - onxG per 90',\n",
       "   'is_inverse': False}},\n",
       " 'Goalkeeping': {'Clean Sheets': {'normal_name': 'Performance - CS',\n",
       "   'per_90_name': 'Performance - CS per 90',\n",
       "   'is_inverse': False},\n",
       "  'Goals Against': {'normal_name': 'Performance - GA',\n",
       "   'per_90_name': 'Performance - GA per 90',\n",
       "   'is_inverse': True},\n",
       "  'Shots on Target': {'normal_name': 'Performance - SoTA',\n",
       "   'per_90_name': 'Performance - SoTA per 90',\n",
       "   'is_inverse': False},\n",
       "  'Saves': {'normal_name': 'Performance - Saves',\n",
       "   'per_90_name': 'Performance - Saves per 90',\n",
       "   'is_inverse': False},\n",
       "  '% PKs Saved': {'normal_name': 'Penalty Kicks - Save%',\n",
       "   'per_90_name': 'Penalty Kicks - Save% per 90',\n",
       "   'is_inverse': False}},\n",
       " 'Misc': {'Yellow Cards': {'normal_name': 'Performance - CrdY',\n",
       "   'per_90_name': 'Performance - CrdY per 90',\n",
       "   'is_inverse': False},\n",
       "  'Second Yellows': {'normal_name': 'Performance - 2CrdY',\n",
       "   'per_90_name': 'Performance - 2CrdY per 90',\n",
       "   'is_inverse': False},\n",
       "  'Red Cards': {'normal_name': 'Performance - CrdR',\n",
       "   'per_90_name': 'Performance - CrdR per 90',\n",
       "   'is_inverse': False},\n",
       "  'Fouls': {'normal_name': 'Performance - Fls',\n",
       "   'per_90_name': 'Performance - Fls per 90',\n",
       "   'is_inverse': False},\n",
       "  'Foul Drawn': {'normal_name': 'Performance - Fld',\n",
       "   'per_90_name': 'Performance - Fld per 90',\n",
       "   'is_inverse': False}}}"
      ]
     },
     "execution_count": 86,
     "metadata": {},
     "output_type": "execute_result"
    }
   ],
   "source": [
    "\n",
    "\n",
    "refr.new_grouped_stats_player_comparison\n",
    "\n"
   ]
  },
  {
   "cell_type": "code",
   "execution_count": 82,
   "id": "328586fe",
   "metadata": {},
   "outputs": [
    {
     "data": {
      "text/plain": [
       "['Performance - Gls',\n",
       " 'Standard - G/Sh',\n",
       " 'Standard - G/SoT',\n",
       " 'Expected - xG',\n",
       " 'Expected - G-xG',\n",
       " 'Expected - npxG',\n",
       " 'Expected - np:G-xG']"
      ]
     },
     "execution_count": 82,
     "metadata": {},
     "output_type": "execute_result"
    }
   ],
   "source": [
    "\n",
    "\n",
    "gs_dict = refr.new_grouped_stats_player_comparison['Goalscoring']\n",
    "\n",
    "\n",
    "col_names = [v['normal_name'] for v in gs_dict.values() if v['normal_name'] != 'Performance - PK']\n",
    "\n",
    "\n",
    "col_names\n"
   ]
  },
  {
   "cell_type": "code",
   "execution_count": 105,
   "id": "6169434c",
   "metadata": {},
   "outputs": [],
   "source": [
    "\n",
    "# 'Performance - Gls',\n",
    "\n",
    "col_names = [\n",
    "             'Performance - Gls per 90',\n",
    "    'Performance - Gls',\n",
    " 'Expected - npxG per 90',\n",
    " 'Ast per 90',\n",
    " 'xA per 90',\n",
    "    'PPA per 90',\n",
    "    'Carries - CPA per 90',\n",
    "    'Tackles - Att 3rd per 90',\n",
    "            ]\n",
    "\n",
    "\n"
   ]
  },
  {
   "cell_type": "code",
   "execution_count": 111,
   "id": "518ddef8",
   "metadata": {},
   "outputs": [
    {
     "data": {
      "text/html": [
       "<div>\n",
       "<style scoped>\n",
       "    .dataframe tbody tr th:only-of-type {\n",
       "        vertical-align: middle;\n",
       "    }\n",
       "\n",
       "    .dataframe tbody tr th {\n",
       "        vertical-align: top;\n",
       "    }\n",
       "\n",
       "    .dataframe thead th {\n",
       "        text-align: right;\n",
       "    }\n",
       "</style>\n",
       "<table border=\"1\" class=\"dataframe\">\n",
       "  <thead>\n",
       "    <tr style=\"text-align: right;\">\n",
       "      <th>Player</th>\n",
       "      <th>Moise Kean</th>\n",
       "      <th>Arkadiusz Milik</th>\n",
       "      <th>Federico Chiesa</th>\n",
       "    </tr>\n",
       "  </thead>\n",
       "  <tbody>\n",
       "    <tr>\n",
       "      <th>Performance - Gls per 90</th>\n",
       "      <td>8</td>\n",
       "      <td>7</td>\n",
       "      <td>10</td>\n",
       "    </tr>\n",
       "    <tr>\n",
       "      <th>Performance - Gls</th>\n",
       "      <td>8</td>\n",
       "      <td>7</td>\n",
       "      <td>10</td>\n",
       "    </tr>\n",
       "    <tr>\n",
       "      <th>Expected - npxG per 90</th>\n",
       "      <td>7</td>\n",
       "      <td>7</td>\n",
       "      <td>10</td>\n",
       "    </tr>\n",
       "    <tr>\n",
       "      <th>Ast per 90</th>\n",
       "      <td>20</td>\n",
       "      <td>16</td>\n",
       "      <td>16</td>\n",
       "    </tr>\n",
       "    <tr>\n",
       "      <th>xA per 90</th>\n",
       "      <td>20</td>\n",
       "      <td>17</td>\n",
       "      <td>13</td>\n",
       "    </tr>\n",
       "    <tr>\n",
       "      <th>PPA per 90</th>\n",
       "      <td>21</td>\n",
       "      <td>17</td>\n",
       "      <td>12</td>\n",
       "    </tr>\n",
       "    <tr>\n",
       "      <th>Carries - CPA per 90</th>\n",
       "      <td>12</td>\n",
       "      <td>21</td>\n",
       "      <td>8</td>\n",
       "    </tr>\n",
       "    <tr>\n",
       "      <th>Tackles - Att 3rd per 90</th>\n",
       "      <td>19</td>\n",
       "      <td>19</td>\n",
       "      <td>6</td>\n",
       "    </tr>\n",
       "  </tbody>\n",
       "</table>\n",
       "</div>"
      ],
      "text/plain": [
       "Player                    Moise Kean  Arkadiusz Milik  Federico Chiesa\n",
       "Performance - Gls per 90           8                7               10\n",
       "Performance - Gls                  8                7               10\n",
       "Expected - npxG per 90             7                7               10\n",
       "Ast per 90                        20               16               16\n",
       "xA per 90                         20               17               13\n",
       "PPA per 90                        21               17               12\n",
       "Carries - CPA per 90              12               21                8\n",
       "Tackles - Att 3rd per 90          19               19                6"
      ]
     },
     "execution_count": 111,
     "metadata": {},
     "output_type": "execute_result"
    }
   ],
   "source": [
    "\n",
    "\n",
    "\n",
    "\n",
    "juve_players.groupby('Player')[col_names].mean().rank(ascending = False).loc[['Moise Kean', \n",
    "                                                                              'Arkadiusz Milik',\n",
    "                                                                             'Federico Chiesa']].T.astype(int)\n",
    "\n",
    "\n"
   ]
  },
  {
   "cell_type": "code",
   "execution_count": 103,
   "id": "aaa4b308",
   "metadata": {},
   "outputs": [
    {
     "data": {
      "text/html": [
       "<div>\n",
       "<style scoped>\n",
       "    .dataframe tbody tr th:only-of-type {\n",
       "        vertical-align: middle;\n",
       "    }\n",
       "\n",
       "    .dataframe tbody tr th {\n",
       "        vertical-align: top;\n",
       "    }\n",
       "\n",
       "    .dataframe thead th {\n",
       "        text-align: right;\n",
       "    }\n",
       "</style>\n",
       "<table border=\"1\" class=\"dataframe\">\n",
       "  <thead>\n",
       "    <tr style=\"text-align: right;\">\n",
       "      <th></th>\n",
       "      <th>Performance - Gls per 90</th>\n",
       "      <th>Performance - Gls</th>\n",
       "      <th>Expected - npxG per 90</th>\n",
       "      <th>Ast per 90</th>\n",
       "      <th>xA per 90</th>\n",
       "      <th>PPA per 90</th>\n",
       "      <th>Carries - CPA per 90</th>\n",
       "      <th>Tackles - Att 3rd per 90</th>\n",
       "      <th>Team Success - +/- per 90</th>\n",
       "    </tr>\n",
       "    <tr>\n",
       "      <th>Player</th>\n",
       "      <th></th>\n",
       "      <th></th>\n",
       "      <th></th>\n",
       "      <th></th>\n",
       "      <th></th>\n",
       "      <th></th>\n",
       "      <th></th>\n",
       "      <th></th>\n",
       "      <th></th>\n",
       "    </tr>\n",
       "  </thead>\n",
       "  <tbody>\n",
       "    <tr>\n",
       "      <th>Cristiano Ronaldo</th>\n",
       "      <td>1.0</td>\n",
       "      <td>1.0</td>\n",
       "      <td>1.0</td>\n",
       "      <td>3.0</td>\n",
       "      <td>3.0</td>\n",
       "      <td>3.0</td>\n",
       "      <td>1.0</td>\n",
       "      <td>8.0</td>\n",
       "      <td>2.0</td>\n",
       "    </tr>\n",
       "    <tr>\n",
       "      <th>Gonzalo Higuain</th>\n",
       "      <td>2.0</td>\n",
       "      <td>2.0</td>\n",
       "      <td>2.0</td>\n",
       "      <td>4.0</td>\n",
       "      <td>8.0</td>\n",
       "      <td>13.0</td>\n",
       "      <td>3.0</td>\n",
       "      <td>2.0</td>\n",
       "      <td>3.0</td>\n",
       "    </tr>\n",
       "    <tr>\n",
       "      <th>Paulo Dybala</th>\n",
       "      <td>3.0</td>\n",
       "      <td>3.0</td>\n",
       "      <td>4.0</td>\n",
       "      <td>5.0</td>\n",
       "      <td>2.0</td>\n",
       "      <td>4.0</td>\n",
       "      <td>2.0</td>\n",
       "      <td>3.0</td>\n",
       "      <td>5.0</td>\n",
       "    </tr>\n",
       "    <tr>\n",
       "      <th>Alvaro Morata</th>\n",
       "      <td>4.0</td>\n",
       "      <td>4.0</td>\n",
       "      <td>3.0</td>\n",
       "      <td>1.0</td>\n",
       "      <td>7.0</td>\n",
       "      <td>7.0</td>\n",
       "      <td>5.0</td>\n",
       "      <td>5.0</td>\n",
       "      <td>7.0</td>\n",
       "    </tr>\n",
       "    <tr>\n",
       "      <th>Mario Mandzukic</th>\n",
       "      <td>5.0</td>\n",
       "      <td>5.5</td>\n",
       "      <td>5.0</td>\n",
       "      <td>8.0</td>\n",
       "      <td>6.0</td>\n",
       "      <td>11.0</td>\n",
       "      <td>20.0</td>\n",
       "      <td>1.0</td>\n",
       "      <td>1.0</td>\n",
       "    </tr>\n",
       "    <tr>\n",
       "      <th>Dusan Vlahovic</th>\n",
       "      <td>6.0</td>\n",
       "      <td>5.5</td>\n",
       "      <td>6.0</td>\n",
       "      <td>13.0</td>\n",
       "      <td>18.0</td>\n",
       "      <td>14.0</td>\n",
       "      <td>13.0</td>\n",
       "      <td>17.0</td>\n",
       "      <td>12.0</td>\n",
       "    </tr>\n",
       "    <tr>\n",
       "      <th>Arkadiusz Milik</th>\n",
       "      <td>7.0</td>\n",
       "      <td>7.0</td>\n",
       "      <td>7.5</td>\n",
       "      <td>16.5</td>\n",
       "      <td>17.0</td>\n",
       "      <td>17.0</td>\n",
       "      <td>21.0</td>\n",
       "      <td>19.0</td>\n",
       "      <td>10.0</td>\n",
       "    </tr>\n",
       "    <tr>\n",
       "      <th>Moise Kean</th>\n",
       "      <td>8.0</td>\n",
       "      <td>8.0</td>\n",
       "      <td>7.5</td>\n",
       "      <td>20.0</td>\n",
       "      <td>20.0</td>\n",
       "      <td>21.0</td>\n",
       "      <td>12.0</td>\n",
       "      <td>19.0</td>\n",
       "      <td>20.0</td>\n",
       "    </tr>\n",
       "    <tr>\n",
       "      <th>Angel Di Maria</th>\n",
       "      <td>9.0</td>\n",
       "      <td>9.0</td>\n",
       "      <td>13.0</td>\n",
       "      <td>7.0</td>\n",
       "      <td>1.0</td>\n",
       "      <td>1.0</td>\n",
       "      <td>11.0</td>\n",
       "      <td>14.5</td>\n",
       "      <td>21.0</td>\n",
       "    </tr>\n",
       "    <tr>\n",
       "      <th>Federico Chiesa</th>\n",
       "      <td>10.0</td>\n",
       "      <td>10.0</td>\n",
       "      <td>10.0</td>\n",
       "      <td>16.5</td>\n",
       "      <td>13.0</td>\n",
       "      <td>12.0</td>\n",
       "      <td>8.0</td>\n",
       "      <td>6.0</td>\n",
       "      <td>17.0</td>\n",
       "    </tr>\n",
       "    <tr>\n",
       "      <th>Dejan Kulusevski</th>\n",
       "      <td>11.0</td>\n",
       "      <td>11.0</td>\n",
       "      <td>12.0</td>\n",
       "      <td>10.0</td>\n",
       "      <td>9.5</td>\n",
       "      <td>8.0</td>\n",
       "      <td>4.0</td>\n",
       "      <td>4.0</td>\n",
       "      <td>8.0</td>\n",
       "    </tr>\n",
       "    <tr>\n",
       "      <th>Juan Cuadrado</th>\n",
       "      <td>12.0</td>\n",
       "      <td>12.0</td>\n",
       "      <td>14.0</td>\n",
       "      <td>6.0</td>\n",
       "      <td>9.5</td>\n",
       "      <td>2.0</td>\n",
       "      <td>7.0</td>\n",
       "      <td>7.0</td>\n",
       "      <td>4.0</td>\n",
       "    </tr>\n",
       "    <tr>\n",
       "      <th>Douglas Costa</th>\n",
       "      <td>13.0</td>\n",
       "      <td>13.5</td>\n",
       "      <td>16.0</td>\n",
       "      <td>9.0</td>\n",
       "      <td>5.0</td>\n",
       "      <td>6.0</td>\n",
       "      <td>6.0</td>\n",
       "      <td>21.0</td>\n",
       "      <td>6.0</td>\n",
       "    </tr>\n",
       "    <tr>\n",
       "      <th>Federico Bernardeschi</th>\n",
       "      <td>14.0</td>\n",
       "      <td>13.5</td>\n",
       "      <td>9.0</td>\n",
       "      <td>11.0</td>\n",
       "      <td>11.0</td>\n",
       "      <td>9.0</td>\n",
       "      <td>9.0</td>\n",
       "      <td>10.0</td>\n",
       "      <td>9.0</td>\n",
       "    </tr>\n",
       "    <tr>\n",
       "      <th>Filip Kostic</th>\n",
       "      <td>15.0</td>\n",
       "      <td>15.0</td>\n",
       "      <td>17.0</td>\n",
       "      <td>2.0</td>\n",
       "      <td>4.0</td>\n",
       "      <td>5.0</td>\n",
       "      <td>10.0</td>\n",
       "      <td>9.0</td>\n",
       "      <td>15.5</td>\n",
       "    </tr>\n",
       "    <tr>\n",
       "      <th>Matias Soule</th>\n",
       "      <td>17.0</td>\n",
       "      <td>17.0</td>\n",
       "      <td>15.0</td>\n",
       "      <td>21.0</td>\n",
       "      <td>21.0</td>\n",
       "      <td>19.5</td>\n",
       "      <td>17.0</td>\n",
       "      <td>14.5</td>\n",
       "      <td>15.5</td>\n",
       "    </tr>\n",
       "    <tr>\n",
       "      <th>Andrea Cambiaso</th>\n",
       "      <td>17.0</td>\n",
       "      <td>17.0</td>\n",
       "      <td>18.0</td>\n",
       "      <td>16.5</td>\n",
       "      <td>15.0</td>\n",
       "      <td>18.0</td>\n",
       "      <td>14.5</td>\n",
       "      <td>19.0</td>\n",
       "      <td>13.5</td>\n",
       "    </tr>\n",
       "    <tr>\n",
       "      <th>Samuel Iling-Junior</th>\n",
       "      <td>17.0</td>\n",
       "      <td>17.0</td>\n",
       "      <td>20.0</td>\n",
       "      <td>16.5</td>\n",
       "      <td>19.0</td>\n",
       "      <td>15.5</td>\n",
       "      <td>18.5</td>\n",
       "      <td>11.5</td>\n",
       "      <td>13.5</td>\n",
       "    </tr>\n",
       "    <tr>\n",
       "      <th>Timothy Weah</th>\n",
       "      <td>20.0</td>\n",
       "      <td>20.0</td>\n",
       "      <td>19.0</td>\n",
       "      <td>16.5</td>\n",
       "      <td>16.0</td>\n",
       "      <td>19.5</td>\n",
       "      <td>16.0</td>\n",
       "      <td>14.5</td>\n",
       "      <td>18.5</td>\n",
       "    </tr>\n",
       "    <tr>\n",
       "      <th>Fabio Miretti</th>\n",
       "      <td>20.0</td>\n",
       "      <td>20.0</td>\n",
       "      <td>11.0</td>\n",
       "      <td>12.0</td>\n",
       "      <td>12.0</td>\n",
       "      <td>10.0</td>\n",
       "      <td>14.5</td>\n",
       "      <td>11.5</td>\n",
       "      <td>18.5</td>\n",
       "    </tr>\n",
       "    <tr>\n",
       "      <th>Weston McKennie</th>\n",
       "      <td>20.0</td>\n",
       "      <td>20.0</td>\n",
       "      <td>21.0</td>\n",
       "      <td>16.5</td>\n",
       "      <td>14.0</td>\n",
       "      <td>15.5</td>\n",
       "      <td>18.5</td>\n",
       "      <td>14.5</td>\n",
       "      <td>11.0</td>\n",
       "    </tr>\n",
       "  </tbody>\n",
       "</table>\n",
       "</div>"
      ],
      "text/plain": [
       "                       Performance - Gls per 90  Performance - Gls  \\\n",
       "Player                                                               \n",
       "Cristiano Ronaldo                           1.0                1.0   \n",
       "Gonzalo Higuain                             2.0                2.0   \n",
       "Paulo Dybala                                3.0                3.0   \n",
       "Alvaro Morata                               4.0                4.0   \n",
       "Mario Mandzukic                             5.0                5.5   \n",
       "Dusan Vlahovic                              6.0                5.5   \n",
       "Arkadiusz Milik                             7.0                7.0   \n",
       "Moise Kean                                  8.0                8.0   \n",
       "Angel Di Maria                              9.0                9.0   \n",
       "Federico Chiesa                            10.0               10.0   \n",
       "Dejan Kulusevski                           11.0               11.0   \n",
       "Juan Cuadrado                              12.0               12.0   \n",
       "Douglas Costa                              13.0               13.5   \n",
       "Federico Bernardeschi                      14.0               13.5   \n",
       "Filip Kostic                               15.0               15.0   \n",
       "Matias Soule                               17.0               17.0   \n",
       "Andrea Cambiaso                            17.0               17.0   \n",
       "Samuel Iling-Junior                        17.0               17.0   \n",
       "Timothy Weah                               20.0               20.0   \n",
       "Fabio Miretti                              20.0               20.0   \n",
       "Weston McKennie                            20.0               20.0   \n",
       "\n",
       "                       Expected - npxG per 90  Ast per 90  xA per 90  \\\n",
       "Player                                                                 \n",
       "Cristiano Ronaldo                         1.0         3.0        3.0   \n",
       "Gonzalo Higuain                           2.0         4.0        8.0   \n",
       "Paulo Dybala                              4.0         5.0        2.0   \n",
       "Alvaro Morata                             3.0         1.0        7.0   \n",
       "Mario Mandzukic                           5.0         8.0        6.0   \n",
       "Dusan Vlahovic                            6.0        13.0       18.0   \n",
       "Arkadiusz Milik                           7.5        16.5       17.0   \n",
       "Moise Kean                                7.5        20.0       20.0   \n",
       "Angel Di Maria                           13.0         7.0        1.0   \n",
       "Federico Chiesa                          10.0        16.5       13.0   \n",
       "Dejan Kulusevski                         12.0        10.0        9.5   \n",
       "Juan Cuadrado                            14.0         6.0        9.5   \n",
       "Douglas Costa                            16.0         9.0        5.0   \n",
       "Federico Bernardeschi                     9.0        11.0       11.0   \n",
       "Filip Kostic                             17.0         2.0        4.0   \n",
       "Matias Soule                             15.0        21.0       21.0   \n",
       "Andrea Cambiaso                          18.0        16.5       15.0   \n",
       "Samuel Iling-Junior                      20.0        16.5       19.0   \n",
       "Timothy Weah                             19.0        16.5       16.0   \n",
       "Fabio Miretti                            11.0        12.0       12.0   \n",
       "Weston McKennie                          21.0        16.5       14.0   \n",
       "\n",
       "                       PPA per 90  Carries - CPA per 90  \\\n",
       "Player                                                    \n",
       "Cristiano Ronaldo             3.0                   1.0   \n",
       "Gonzalo Higuain              13.0                   3.0   \n",
       "Paulo Dybala                  4.0                   2.0   \n",
       "Alvaro Morata                 7.0                   5.0   \n",
       "Mario Mandzukic              11.0                  20.0   \n",
       "Dusan Vlahovic               14.0                  13.0   \n",
       "Arkadiusz Milik              17.0                  21.0   \n",
       "Moise Kean                   21.0                  12.0   \n",
       "Angel Di Maria                1.0                  11.0   \n",
       "Federico Chiesa              12.0                   8.0   \n",
       "Dejan Kulusevski              8.0                   4.0   \n",
       "Juan Cuadrado                 2.0                   7.0   \n",
       "Douglas Costa                 6.0                   6.0   \n",
       "Federico Bernardeschi         9.0                   9.0   \n",
       "Filip Kostic                  5.0                  10.0   \n",
       "Matias Soule                 19.5                  17.0   \n",
       "Andrea Cambiaso              18.0                  14.5   \n",
       "Samuel Iling-Junior          15.5                  18.5   \n",
       "Timothy Weah                 19.5                  16.0   \n",
       "Fabio Miretti                10.0                  14.5   \n",
       "Weston McKennie              15.5                  18.5   \n",
       "\n",
       "                       Tackles - Att 3rd per 90  Team Success - +/- per 90  \n",
       "Player                                                                      \n",
       "Cristiano Ronaldo                           8.0                        2.0  \n",
       "Gonzalo Higuain                             2.0                        3.0  \n",
       "Paulo Dybala                                3.0                        5.0  \n",
       "Alvaro Morata                               5.0                        7.0  \n",
       "Mario Mandzukic                             1.0                        1.0  \n",
       "Dusan Vlahovic                             17.0                       12.0  \n",
       "Arkadiusz Milik                            19.0                       10.0  \n",
       "Moise Kean                                 19.0                       20.0  \n",
       "Angel Di Maria                             14.5                       21.0  \n",
       "Federico Chiesa                             6.0                       17.0  \n",
       "Dejan Kulusevski                            4.0                        8.0  \n",
       "Juan Cuadrado                               7.0                        4.0  \n",
       "Douglas Costa                              21.0                        6.0  \n",
       "Federico Bernardeschi                      10.0                        9.0  \n",
       "Filip Kostic                                9.0                       15.5  \n",
       "Matias Soule                               14.5                       15.5  \n",
       "Andrea Cambiaso                            19.0                       13.5  \n",
       "Samuel Iling-Junior                        11.5                       13.5  \n",
       "Timothy Weah                               14.5                       18.5  \n",
       "Fabio Miretti                              11.5                       18.5  \n",
       "Weston McKennie                            14.5                       11.0  "
      ]
     },
     "execution_count": 103,
     "metadata": {},
     "output_type": "execute_result"
    }
   ],
   "source": [
    "\n",
    "\n",
    "\n",
    "juve_players.groupby('Player')[col_names].mean().rank(ascending = False).sort_values(by = \n",
    "                                                                                    'Performance - Gls per 90')\n",
    "\n",
    "\n"
   ]
  },
  {
   "cell_type": "code",
   "execution_count": 68,
   "id": "0e40f039",
   "metadata": {},
   "outputs": [
    {
     "data": {
      "text/plain": [
       "array(['MF', 'MF,DF', 'DF', 'GK', 'DF,MF', 'FW', 'MF,FW', 'FW,MF',\n",
       "       'DF,FW', 'FW,DF'], dtype=object)"
      ]
     },
     "execution_count": 68,
     "metadata": {},
     "output_type": "execute_result"
    }
   ],
   "source": [
    "\n",
    "\n",
    "\n",
    "juve_players.Pos.unique()\n",
    "\n",
    "\n",
    "\n"
   ]
  },
  {
   "cell_type": "code",
   "execution_count": null,
   "id": "f7d1e937",
   "metadata": {},
   "outputs": [],
   "source": []
  },
  {
   "cell_type": "code",
   "execution_count": null,
   "id": "5b20352e",
   "metadata": {},
   "outputs": [],
   "source": []
  },
  {
   "cell_type": "code",
   "execution_count": null,
   "id": "bbc109bc",
   "metadata": {},
   "outputs": [],
   "source": []
  },
  {
   "cell_type": "code",
   "execution_count": 46,
   "id": "2c5f1dd4-1feb-433c-807e-946343a3741e",
   "metadata": {},
   "outputs": [],
   "source": [
    "from sklearn.preprocessing import MinMaxScaler\n",
    "\n",
    "\n",
    "# min_mins_played\n",
    "def scale(df, min_mins_played=100):\n",
    "\n",
    "    df = df[df['Playing Time - Min'] >= min_mins_played].dropna(axis = 1)\n",
    "\n",
    "    mm = MinMaxScaler()\n",
    "    \n",
    "    non_object_cols = list(df.dtypes[df.dtypes != 'object'].index)\n",
    "    object_cols = list(df.dtypes[df.dtypes == 'object'].index)\n",
    "    \n",
    "    scaled_heavies = pd.concat([df[object_cols], pd.DataFrame(mm.fit_transform(df[non_object_cols]), \n",
    "                                               columns = non_object_cols)], \n",
    "                      axis = 1)\n",
    "\n",
    "    return scaled_heavies\n"
   ]
  },
  {
   "cell_type": "code",
   "execution_count": 47,
   "id": "e1c8281e-c731-4db8-8ac0-73340d586d88",
   "metadata": {},
   "outputs": [
    {
     "data": {
      "text/html": [
       "<div>\n",
       "<style scoped>\n",
       "    .dataframe tbody tr th:only-of-type {\n",
       "        vertical-align: middle;\n",
       "    }\n",
       "\n",
       "    .dataframe tbody tr th {\n",
       "        vertical-align: top;\n",
       "    }\n",
       "\n",
       "    .dataframe thead th {\n",
       "        text-align: right;\n",
       "    }\n",
       "</style>\n",
       "<table border=\"1\" class=\"dataframe\">\n",
       "  <thead>\n",
       "    <tr style=\"text-align: right;\">\n",
       "      <th></th>\n",
       "      <th>Player</th>\n",
       "      <th>Squad</th>\n",
       "      <th>Pos</th>\n",
       "      <th>Comp</th>\n",
       "      <th>Season</th>\n",
       "      <th>Unnamed: 0</th>\n",
       "      <th>Born</th>\n",
       "      <th>Playing Time - MP</th>\n",
       "      <th>Playing Time - Starts</th>\n",
       "      <th>Playing Time - Min</th>\n",
       "      <th>...</th>\n",
       "      <th>Team Success - PPM per 90</th>\n",
       "      <th>Team Success - onG per 90</th>\n",
       "      <th>Team Success - onGA per 90</th>\n",
       "      <th>Team Success - +/- per 90</th>\n",
       "      <th>Team Success (xG) - onxG per 90</th>\n",
       "      <th>Performance - CrdY per 90</th>\n",
       "      <th>Performance - 2CrdY per 90</th>\n",
       "      <th>Performance - CrdR per 90</th>\n",
       "      <th>Performance - Fls per 90</th>\n",
       "      <th>Performance - Fld per 90</th>\n",
       "    </tr>\n",
       "  </thead>\n",
       "  <tbody>\n",
       "    <tr>\n",
       "      <th>18048</th>\n",
       "      <td>Kylian Mbappe</td>\n",
       "      <td>Paris S-G</td>\n",
       "      <td>FW,MF</td>\n",
       "      <td>Ligue 1</td>\n",
       "      <td>2023-2024</td>\n",
       "      <td>NaN</td>\n",
       "      <td>NaN</td>\n",
       "      <td>NaN</td>\n",
       "      <td>NaN</td>\n",
       "      <td>NaN</td>\n",
       "      <td>...</td>\n",
       "      <td>NaN</td>\n",
       "      <td>NaN</td>\n",
       "      <td>NaN</td>\n",
       "      <td>NaN</td>\n",
       "      <td>NaN</td>\n",
       "      <td>NaN</td>\n",
       "      <td>NaN</td>\n",
       "      <td>NaN</td>\n",
       "      <td>NaN</td>\n",
       "      <td>NaN</td>\n",
       "    </tr>\n",
       "    <tr>\n",
       "      <th>14096</th>\n",
       "      <td>Jude Bellingham</td>\n",
       "      <td>Dortmund</td>\n",
       "      <td>MF</td>\n",
       "      <td>Bundesliga</td>\n",
       "      <td>2022-2023</td>\n",
       "      <td>0.858856</td>\n",
       "      <td>0.992526</td>\n",
       "      <td>0.277778</td>\n",
       "      <td>0.078947</td>\n",
       "      <td>0.078614</td>\n",
       "      <td>...</td>\n",
       "      <td>0.393939</td>\n",
       "      <td>0.059715</td>\n",
       "      <td>0.098912</td>\n",
       "      <td>0.406229</td>\n",
       "      <td>0.070103</td>\n",
       "      <td>0.058201</td>\n",
       "      <td>0.0</td>\n",
       "      <td>0.0</td>\n",
       "      <td>0.071625</td>\n",
       "      <td>0.042026</td>\n",
       "    </tr>\n",
       "    <tr>\n",
       "      <th>12670</th>\n",
       "      <td>Lionel Messi</td>\n",
       "      <td>Paris S-G</td>\n",
       "      <td>FW,MF</td>\n",
       "      <td>Ligue 1</td>\n",
       "      <td>2021-2022</td>\n",
       "      <td>0.286399</td>\n",
       "      <td>0.996014</td>\n",
       "      <td>0.944444</td>\n",
       "      <td>0.368421</td>\n",
       "      <td>0.459940</td>\n",
       "      <td>...</td>\n",
       "      <td>0.818182</td>\n",
       "      <td>0.346702</td>\n",
       "      <td>0.109792</td>\n",
       "      <td>0.616791</td>\n",
       "      <td>0.336082</td>\n",
       "      <td>0.296296</td>\n",
       "      <td>0.0</td>\n",
       "      <td>0.0</td>\n",
       "      <td>0.224059</td>\n",
       "      <td>0.084052</td>\n",
       "    </tr>\n",
       "  </tbody>\n",
       "</table>\n",
       "<p>3 rows × 278 columns</p>\n",
       "</div>"
      ],
      "text/plain": [
       "                Player      Squad    Pos        Comp     Season  Unnamed: 0  \\\n",
       "18048    Kylian Mbappe  Paris S-G  FW,MF     Ligue 1  2023-2024         NaN   \n",
       "14096  Jude Bellingham   Dortmund     MF  Bundesliga  2022-2023    0.858856   \n",
       "12670     Lionel Messi  Paris S-G  FW,MF     Ligue 1  2021-2022    0.286399   \n",
       "\n",
       "           Born  Playing Time - MP  Playing Time - Starts  Playing Time - Min  \\\n",
       "18048       NaN                NaN                    NaN                 NaN   \n",
       "14096  0.992526           0.277778               0.078947            0.078614   \n",
       "12670  0.996014           0.944444               0.368421            0.459940   \n",
       "\n",
       "       ...  Team Success - PPM per 90  Team Success - onG per 90  \\\n",
       "18048  ...                        NaN                        NaN   \n",
       "14096  ...                   0.393939                   0.059715   \n",
       "12670  ...                   0.818182                   0.346702   \n",
       "\n",
       "       Team Success - onGA per 90  Team Success - +/- per 90  \\\n",
       "18048                         NaN                        NaN   \n",
       "14096                    0.098912                   0.406229   \n",
       "12670                    0.109792                   0.616791   \n",
       "\n",
       "       Team Success (xG) - onxG per 90  Performance - CrdY per 90  \\\n",
       "18048                              NaN                        NaN   \n",
       "14096                         0.070103                   0.058201   \n",
       "12670                         0.336082                   0.296296   \n",
       "\n",
       "       Performance - 2CrdY per 90  Performance - CrdR per 90  \\\n",
       "18048                         NaN                        NaN   \n",
       "14096                         0.0                        0.0   \n",
       "12670                         0.0                        0.0   \n",
       "\n",
       "       Performance - Fls per 90  Performance - Fld per 90  \n",
       "18048                       NaN                       NaN  \n",
       "14096                  0.071625                  0.042026  \n",
       "12670                  0.224059                  0.084052  \n",
       "\n",
       "[3 rows x 278 columns]"
      ]
     },
     "execution_count": 47,
     "metadata": {},
     "output_type": "execute_result"
    }
   ],
   "source": [
    "\n",
    "scaled_to = 'season'\n",
    "\n",
    "info_for_viz = {1 : {'Name' : 'Kylian Mbappe', 'Seasons' : ['2023-2024']},\n",
    "                2 : {'Name' : 'Jude Bellingham', 'Seasons' : ['2022-2023']},\n",
    "                3 : {'Name' : 'Lionel Messi', 'Seasons' : ['2021-2022']},\n",
    "               }\n",
    "\n",
    "names = [i['Name'] for i in info_for_viz.values()]\n",
    "\n",
    "seasons = list(set([season for i in info_for_viz.values() for season in i['Seasons']]))\n",
    "\n",
    "df_for_viz = pd.DataFrame()\n",
    "\n",
    "for i in info_for_viz.values():\n",
    "\n",
    "    #if scaled_to == 'season':\n",
    "        #temp = temp[temp.Season == ]\n",
    "    scaled = scale(temp)\n",
    "\n",
    "    tempie = scaled[(scaled.Player == i['Name']) & (scaled.Season.isin(i['Seasons']))]\n",
    "\n",
    "    df_for_viz = pd.concat([df_for_viz, tempie])\n",
    "\n",
    "#  & (temp.Season.isin(seasons))\n",
    "\n",
    "df_for_viz\n",
    "\n",
    "\n"
   ]
  },
  {
   "cell_type": "code",
   "execution_count": 48,
   "id": "8ec1e4cc-a83c-4048-9c33-fddfca0c38ad",
   "metadata": {},
   "outputs": [
    {
     "data": {
      "text/plain": [
       "18048         NaN\n",
       "14096    0.000000\n",
       "12670    0.183673\n",
       "Name: Performance - G+A, dtype: float64"
      ]
     },
     "execution_count": 48,
     "metadata": {},
     "output_type": "execute_result"
    }
   ],
   "source": [
    "\n",
    "\n",
    "\n",
    "\n",
    "\n",
    "df_for_viz['Performance - G+A']\n",
    "\n",
    "\n",
    "\n"
   ]
  },
  {
   "cell_type": "code",
   "execution_count": 4,
   "id": "81cecc00-11e2-4544-863f-20fbb6562d0b",
   "metadata": {},
   "outputs": [],
   "source": [
    "import json\n",
    "\n",
    "\n",
    "with open('data/player_per_season_info.json', 'r') as j:\n",
    "      player_per_season_info = json.loads(j.read())\n",
    "\n",
    "\n"
   ]
  },
  {
   "cell_type": "code",
   "execution_count": 142,
   "id": "58befedf-cced-4494-94f5-2261dff71d2c",
   "metadata": {},
   "outputs": [],
   "source": [
    "from itertools import groupby\n",
    "\n",
    "\n",
    "played_in_eng_and_italy = []\n",
    "\n",
    "from_eng_to_it = []\n",
    "from_it_to_eng = []\n",
    "\n",
    "transfer_info = {'it_to_eng' : {'Age' : [], 'min_played' : [], 'Pos' : []},\n",
    "                 'eng_to_it' : {'Age' : [], 'min_played' : [], 'Pos' : []}\n",
    "                }\n",
    "\n",
    "\n",
    "\n",
    "for player in player_per_season_info:\n",
    "    \n",
    "    player_info = player_per_season_info[player]\n",
    "    \n",
    "    comps = [player_info[season]['Comp'] for season in player_info]\n",
    "    min_played = []\n",
    "    \n",
    "    comps = [key for key, _group in groupby(comps)]\n",
    "    reversed_comps = list(reversed(comps))\n",
    "    \n",
    "    if 'Premier League' in comps and 'Serie A' in comps:\n",
    "        \n",
    "        played_in_eng_and_italy.append(player)\n",
    "\n",
    "        if comps.index('Serie A') < comps.index('Premier League'):\n",
    "            switch_at = comps.index('Serie A') + 1\n",
    "            after_serie_a = comps[switch_at:]\n",
    "            \n",
    "            if 'Serie A' not in after_serie_a:\n",
    "                from_it_to_eng.append(player)\n",
    "                \n",
    "        elif comps.index('Premier League') < comps.index('Serie A'):\n",
    "            switch_at = comps.index('Premier League') + 1\n",
    "            after_prem = comps[switch_at:]\n",
    "            if 'Premier League' not in after_prem:\n",
    "                from_eng_to_it.append(player)\n",
    "\n",
    "    comp_last_season = ''\n",
    "    for season in player_info:\n",
    "        \n",
    "        season_info = player_info[season]\n",
    "\n",
    "        curr_comp = season_info['Comp']\n",
    "\n",
    "        if comp_last_season != '' and curr_comp != comp_last_season:\n",
    "            \n",
    "            if curr_comp == 'Serie A' and comp_last_season == 'Premier League':\n",
    "                transfer_info['it_to_eng']['Age'].append(season_info['Age'])\n",
    "                transfer_info['it_to_eng']['min_played'].append(season_info['Playing Time - Min'])\n",
    "                transfer_info['it_to_eng']['Pos'].append(season_info['Pos'])\n",
    "            elif curr_comp == 'Premier League' and comp_last_season == 'Serie A':\n",
    "                transfer_info['eng_to_it']['Age'].append(season_info['Age'])\n",
    "                transfer_info['eng_to_it']['min_played'].append(season_info['Playing Time - Min'])\n",
    "                transfer_info['eng_to_it']['Pos'].append(season_info['Pos'])\n",
    "\n",
    "\n",
    "        comp_last_season = curr_comp\n",
    "\n"
   ]
  },
  {
   "cell_type": "code",
   "execution_count": 162,
   "id": "cd7cc1ce-0d85-470a-bcb3-121845c9a228",
   "metadata": {},
   "outputs": [
    {
     "data": {
      "text/plain": [
       "count    77.000000\n",
       "mean     27.571429\n",
       "std       3.795526\n",
       "min      20.000000\n",
       "25%      25.000000\n",
       "50%      27.000000\n",
       "75%      30.000000\n",
       "max      37.000000\n",
       "Name: Age, dtype: float64"
      ]
     },
     "execution_count": 162,
     "metadata": {},
     "output_type": "execute_result"
    }
   ],
   "source": [
    "import seaborn as sns\n",
    "\n",
    "\n",
    "eng_to_it = pd.DataFrame(transfer_info['eng_to_it'])\n",
    "it_to_eng = pd.DataFrame(transfer_info['it_to_eng'])\n",
    "\n",
    "#sns.boxplot(data=pd.DataFrame(transfer_info['eng_to_it']), x = 'Age')\n",
    "\n",
    "it_to_eng['Age'].describe()\n",
    "\n",
    "#sns.boxplot(data=pd.DataFrame(transfer_info['it_to_eng']), x = 'Age')\n",
    "\n"
   ]
  },
  {
   "cell_type": "code",
   "execution_count": 69,
   "id": "77b88931-cd8c-465f-9286-539baf161bc2",
   "metadata": {},
   "outputs": [
    {
     "data": {
      "text/plain": [
       "['Abdelhamid Sabiri',\n",
       " 'Adrien Silva',\n",
       " 'Alexis Sanchez',\n",
       " 'Alvaro Morata',\n",
       " 'Brahim Diaz',\n",
       " 'Chris Smalling',\n",
       " 'Christian Kabasele',\n",
       " 'Christian Pulisic',\n",
       " 'Danilo',\n",
       " 'David Ospina',\n",
       " 'Davide Zappacosta',\n",
       " 'Davy Klaassen',\n",
       " 'Diego Llorente',\n",
       " 'Domingos Quina',\n",
       " 'Ederson',\n",
       " 'Edimilson Fernandes',\n",
       " 'Emre Can',\n",
       " 'Fernando Llorente',\n",
       " 'Fikayo Tomori',\n",
       " 'Georginio Wijnaldum',\n",
       " 'Gerard Deulofeu',\n",
       " 'Harry Winks',\n",
       " 'Hassane Kamara',\n",
       " 'Henrikh Mkhitaryan',\n",
       " 'Isaac Success',\n",
       " 'Jeremie Boga',\n",
       " 'Jese',\n",
       " 'Joao Mario',\n",
       " 'Jordan Zemura',\n",
       " 'Kevin Mirallas',\n",
       " 'Lys Mousset',\n",
       " 'Manolo Gabbiadini',\n",
       " 'Marko Arnautovic',\n",
       " 'Marvin Zeegelaar',\n",
       " 'Matteo Darmian',\n",
       " 'Matteo Guendouzi',\n",
       " 'Maya Yoshida',\n",
       " 'Molla Wague',\n",
       " 'Nemanja Matic',\n",
       " 'Nikola Vlasic',\n",
       " 'Olivier Giroud',\n",
       " 'Ondrej Duda',\n",
       " 'Orestis Karnezis',\n",
       " 'Pablo Mari',\n",
       " 'Paul Pogba',\n",
       " 'Pedro',\n",
       " 'Pedro Obiang',\n",
       " 'Rachid Ghezzal',\n",
       " 'Ragnar Klavan',\n",
       " 'Rasmus Nissen',\n",
       " 'Renato Sanches',\n",
       " 'Roberto Pereyra',\n",
       " 'Ruben Loftus-Cheek',\n",
       " 'Rui Patricio',\n",
       " 'Sead Kolasinac',\n",
       " 'Sergio Romero',\n",
       " 'Stefano Okaka',\n",
       " 'Tammy Abraham',\n",
       " 'Tanguy Ndombele',\n",
       " 'Tiemoue Bakayoko',\n",
       " 'Valentino Lazaro',\n",
       " 'Victor Bernth Kristiansen',\n",
       " 'Victor Moses',\n",
       " 'Wesley Hoedt',\n",
       " 'Yerry Mina',\n",
       " 'Zlatan Ibrahimovic']"
      ]
     },
     "execution_count": 69,
     "metadata": {},
     "output_type": "execute_result"
    }
   ],
   "source": [
    "\n",
    "\n",
    "from_eng_to_it\n",
    "\n",
    "\n",
    "#from_it_to_eng\n",
    "\n"
   ]
  },
  {
   "cell_type": "code",
   "execution_count": 163,
   "id": "825ada4b-0502-4f49-ba1d-40da03479f57",
   "metadata": {},
   "outputs": [
    {
     "name": "stdout",
     "output_type": "stream",
     "text": [
      "\n",
      "\n",
      "PLAYER Abdelhamid Sabiri NOT IN SEASON INDEX !!!\n",
      "\n",
      "\n",
      "\n",
      "\n",
      "PLAYER Brahim Diaz NOT IN SEASON INDEX !!!\n",
      "\n",
      "\n",
      "\n",
      "\n",
      "PLAYER Brahim Diaz NOT IN SEASON INDEX !!!\n",
      "\n",
      "\n",
      "\n",
      "\n",
      "PLAYER Davy Klaassen NOT IN SEASON INDEX !!!\n",
      "\n",
      "\n",
      "\n",
      "\n",
      "PLAYER Domingos Quina NOT IN SEASON INDEX !!!\n",
      "\n",
      "\n",
      "\n",
      "\n",
      "PLAYER Domingos Quina NOT IN SEASON INDEX !!!\n",
      "\n",
      "\n",
      "\n",
      "\n",
      "PLAYER Isaac Success NOT IN SEASON INDEX !!!\n",
      "\n",
      "\n",
      "\n",
      "\n",
      "PLAYER Jeremie Boga NOT IN SEASON INDEX !!!\n",
      "\n",
      "\n",
      "\n",
      "\n",
      "PLAYER Jese NOT IN SEASON INDEX !!!\n",
      "\n",
      "\n",
      "\n",
      "\n",
      "PLAYER Jese NOT IN SEASON INDEX !!!\n",
      "\n",
      "\n",
      "\n",
      "\n",
      "PLAYER Paul Pogba NOT IN SEASON INDEX !!!\n",
      "\n",
      "\n",
      "\n",
      "\n",
      "PLAYER Pedro Obiang NOT IN SEASON INDEX !!!\n",
      "\n",
      "\n",
      "\n",
      "\n",
      "PLAYER Sergio Romero NOT IN SEASON INDEX !!!\n",
      "\n",
      "\n",
      "\n",
      "\n",
      "PLAYER Stefano Okaka NOT IN SEASON INDEX !!!\n",
      "\n",
      "\n",
      "\n",
      "\n",
      "PLAYER Tiemoue Bakayoko NOT IN SEASON INDEX !!!\n",
      "\n",
      "\n",
      "\n",
      "\n",
      "PLAYER Victor Moses NOT IN SEASON INDEX !!!\n",
      "\n",
      "\n",
      "\n",
      "\n",
      "PLAYER Yerry Mina NOT IN SEASON INDEX !!!\n",
      "\n",
      "\n"
     ]
    }
   ],
   "source": [
    "\n",
    "\n",
    "\n",
    "played_in_eng_and_italy\n",
    "\n",
    "groups = temp.groupby(['Player'])\n",
    "\n",
    "#temp[temp.Player.isin(played_in_eng_and_italy)]\n",
    "\n",
    "\n",
    "all_data = pd.DataFrame()\n",
    "\n",
    "\n",
    "for player in from_eng_to_it:\n",
    "\n",
    "    name = player\n",
    "\n",
    "    grouped_data = groups.get_group(name)\n",
    "\n",
    "    for season in grouped_data.Season:\n",
    "\n",
    "        try:\n",
    "            chunk = helpers.player_performance(player_name=name, season=season, seasons_selected = [season], \n",
    "                           temp_df=temp, scalings={1 : 'Individual Seasons', 2 : 'League', 3 : 5}, minimum_mins_played=90)\n",
    "            #chunk.columns = [name + ' ' +  season + ' Stats', name + ' ' +  season + 'Percentile']\n",
    "            all_data = pd.concat([all_data, chunk], axis = 1)\n",
    "        except:\n",
    "            pass\n",
    "\n",
    "\n"
   ]
  },
  {
   "cell_type": "code",
   "execution_count": 164,
   "id": "afb6e440-c622-4daa-96e1-0ca936d82adb",
   "metadata": {},
   "outputs": [],
   "source": [
    "\n",
    "\n",
    "all_data.columns = [i for i in range(len(all_data.columns))]\n",
    "\n",
    "\n",
    "\n",
    "#all_data = all_data.set_index('Aaron Hickey 2020-2021 Stats')\n",
    "\n",
    "\n",
    "\n",
    "all_data = all_data.set_index(0)\n",
    "\n",
    "\n"
   ]
  },
  {
   "cell_type": "code",
   "execution_count": 165,
   "id": "e5b62fa5-8b45-4915-976b-2992f73c4f40",
   "metadata": {},
   "outputs": [],
   "source": [
    "\n",
    "\n",
    "\n",
    "all_data = all_data.drop(columns = [col for col in all_data.columns if col % 2 == 0])\n",
    "all_data = all_data.T\n",
    "\n"
   ]
  },
  {
   "cell_type": "code",
   "execution_count": 166,
   "id": "37549ed5-50ff-4719-9b41-03f0b64647db",
   "metadata": {},
   "outputs": [
    {
     "data": {
      "text/html": [
       "<div>\n",
       "<style scoped>\n",
       "    .dataframe tbody tr th:only-of-type {\n",
       "        vertical-align: middle;\n",
       "    }\n",
       "\n",
       "    .dataframe tbody tr th {\n",
       "        vertical-align: top;\n",
       "    }\n",
       "\n",
       "    .dataframe thead th {\n",
       "        text-align: right;\n",
       "    }\n",
       "</style>\n",
       "<table border=\"1\" class=\"dataframe\">\n",
       "  <thead>\n",
       "    <tr style=\"text-align: right;\">\n",
       "      <th></th>\n",
       "      <th>Player</th>\n",
       "      <th>Squad</th>\n",
       "      <th>Season</th>\n",
       "      <th>Comp</th>\n",
       "      <th>Nation</th>\n",
       "      <th>Pos</th>\n",
       "      <th>Unnamed: 0</th>\n",
       "      <th>Age</th>\n",
       "      <th>Born</th>\n",
       "      <th>Playing Time - MP</th>\n",
       "      <th>...</th>\n",
       "      <th>Performance - CS per 90</th>\n",
       "      <th>Performance - GA per 90</th>\n",
       "      <th>Performance - SoTA per 90</th>\n",
       "      <th>Performance - Saves per 90</th>\n",
       "      <th>Penalty Kicks - Save% per 90</th>\n",
       "      <th>Performance - CrdY per 90</th>\n",
       "      <th>Performance - 2CrdY per 90</th>\n",
       "      <th>Performance - CrdR per 90</th>\n",
       "      <th>Performance - Fls per 90</th>\n",
       "      <th>Performance - Fld per 90</th>\n",
       "    </tr>\n",
       "  </thead>\n",
       "  <tbody>\n",
       "    <tr>\n",
       "      <th>1</th>\n",
       "      <td>Abdelhamid Sabiri</td>\n",
       "      <td>Huddersfield</td>\n",
       "      <td>2017-2018</td>\n",
       "      <td>Premier League</td>\n",
       "      <td>MA</td>\n",
       "      <td>MF</td>\n",
       "      <td>2172</td>\n",
       "      <td>0.14</td>\n",
       "      <td>0.85</td>\n",
       "      <td>0.08</td>\n",
       "      <td>...</td>\n",
       "      <td>0.0</td>\n",
       "      <td>0.0</td>\n",
       "      <td>0.0</td>\n",
       "      <td>0.0</td>\n",
       "      <td>0.0</td>\n",
       "      <td>0.09</td>\n",
       "      <td>0.0</td>\n",
       "      <td>0.0</td>\n",
       "      <td>0.06</td>\n",
       "      <td>0.04</td>\n",
       "    </tr>\n",
       "    <tr>\n",
       "      <th>3</th>\n",
       "      <td>Abdelhamid Sabiri</td>\n",
       "      <td>Paderborn 07</td>\n",
       "      <td>2019-2020</td>\n",
       "      <td>Bundesliga</td>\n",
       "      <td>MA</td>\n",
       "      <td>MF</td>\n",
       "      <td>2191</td>\n",
       "      <td>0.25</td>\n",
       "      <td>0.72</td>\n",
       "      <td>0.69</td>\n",
       "      <td>...</td>\n",
       "      <td>0.0</td>\n",
       "      <td>0.0</td>\n",
       "      <td>0.0</td>\n",
       "      <td>0.0</td>\n",
       "      <td>0.0</td>\n",
       "      <td>0.35</td>\n",
       "      <td>0.0</td>\n",
       "      <td>0.0</td>\n",
       "      <td>0.42</td>\n",
       "      <td>0.33</td>\n",
       "    </tr>\n",
       "    <tr>\n",
       "      <th>5</th>\n",
       "      <td>Abdelhamid Sabiri</td>\n",
       "      <td>Sampdoria</td>\n",
       "      <td>2021-2022</td>\n",
       "      <td>Serie A</td>\n",
       "      <td>MA</td>\n",
       "      <td>MF,FW</td>\n",
       "      <td>2342</td>\n",
       "      <td>0.32</td>\n",
       "      <td>0.68</td>\n",
       "      <td>0.33</td>\n",
       "      <td>...</td>\n",
       "      <td>0.0</td>\n",
       "      <td>0.0</td>\n",
       "      <td>0.0</td>\n",
       "      <td>0.0</td>\n",
       "      <td>0.0</td>\n",
       "      <td>0.19</td>\n",
       "      <td>0.0</td>\n",
       "      <td>0.0</td>\n",
       "      <td>0.25</td>\n",
       "      <td>0.35</td>\n",
       "    </tr>\n",
       "    <tr>\n",
       "      <th>7</th>\n",
       "      <td>Abdelhamid Sabiri</td>\n",
       "      <td>Sampdoria</td>\n",
       "      <td>2022-2023</td>\n",
       "      <td>Serie A</td>\n",
       "      <td>MAR</td>\n",
       "      <td>MF,FW</td>\n",
       "      <td>2318</td>\n",
       "      <td>0.33</td>\n",
       "      <td>0.65</td>\n",
       "      <td>0.44</td>\n",
       "      <td>...</td>\n",
       "      <td>0.0</td>\n",
       "      <td>0.0</td>\n",
       "      <td>0.0</td>\n",
       "      <td>0.0</td>\n",
       "      <td>0.0</td>\n",
       "      <td>0.39</td>\n",
       "      <td>0.0</td>\n",
       "      <td>0.0</td>\n",
       "      <td>0.44</td>\n",
       "      <td>0.33</td>\n",
       "    </tr>\n",
       "    <tr>\n",
       "      <th>9</th>\n",
       "      <td>Adrien Silva</td>\n",
       "      <td>Leicester City</td>\n",
       "      <td>2017-2018</td>\n",
       "      <td>Premier League</td>\n",
       "      <td>PT</td>\n",
       "      <td>MF</td>\n",
       "      <td>2301</td>\n",
       "      <td>0.52</td>\n",
       "      <td>0.5</td>\n",
       "      <td>0.28</td>\n",
       "      <td>...</td>\n",
       "      <td>0.0</td>\n",
       "      <td>0.0</td>\n",
       "      <td>0.0</td>\n",
       "      <td>0.0</td>\n",
       "      <td>0.0</td>\n",
       "      <td>0.27</td>\n",
       "      <td>0.0</td>\n",
       "      <td>0.0</td>\n",
       "      <td>0.13</td>\n",
       "      <td>0.08</td>\n",
       "    </tr>\n",
       "    <tr>\n",
       "      <th>...</th>\n",
       "      <td>...</td>\n",
       "      <td>...</td>\n",
       "      <td>...</td>\n",
       "      <td>...</td>\n",
       "      <td>...</td>\n",
       "      <td>...</td>\n",
       "      <td>...</td>\n",
       "      <td>...</td>\n",
       "      <td>...</td>\n",
       "      <td>...</td>\n",
       "      <td>...</td>\n",
       "      <td>...</td>\n",
       "      <td>...</td>\n",
       "      <td>...</td>\n",
       "      <td>...</td>\n",
       "      <td>...</td>\n",
       "      <td>...</td>\n",
       "      <td>...</td>\n",
       "      <td>...</td>\n",
       "      <td>...</td>\n",
       "      <td>...</td>\n",
       "    </tr>\n",
       "    <tr>\n",
       "      <th>755</th>\n",
       "      <td>Zlatan Ibrahimovic</td>\n",
       "      <td>Manchester Utd</td>\n",
       "      <td>2017-2018</td>\n",
       "      <td>Premier League</td>\n",
       "      <td>SE</td>\n",
       "      <td>MF,FW</td>\n",
       "      <td>1125</td>\n",
       "      <td>0.86</td>\n",
       "      <td>0.1</td>\n",
       "      <td>0.08</td>\n",
       "      <td>...</td>\n",
       "      <td>0.0</td>\n",
       "      <td>0.0</td>\n",
       "      <td>0.0</td>\n",
       "      <td>0.0</td>\n",
       "      <td>0.0</td>\n",
       "      <td>0.0</td>\n",
       "      <td>0.0</td>\n",
       "      <td>0.0</td>\n",
       "      <td>0.01</td>\n",
       "      <td>0.01</td>\n",
       "    </tr>\n",
       "    <tr>\n",
       "      <th>757</th>\n",
       "      <td>Zlatan Ibrahimovic</td>\n",
       "      <td>Milan</td>\n",
       "      <td>2019-2020</td>\n",
       "      <td>Serie A</td>\n",
       "      <td>SE</td>\n",
       "      <td>FW</td>\n",
       "      <td>1136</td>\n",
       "      <td>0.83</td>\n",
       "      <td>0.12</td>\n",
       "      <td>0.44</td>\n",
       "      <td>...</td>\n",
       "      <td>0.0</td>\n",
       "      <td>0.0</td>\n",
       "      <td>0.0</td>\n",
       "      <td>0.0</td>\n",
       "      <td>0.0</td>\n",
       "      <td>0.06</td>\n",
       "      <td>0.0</td>\n",
       "      <td>0.0</td>\n",
       "      <td>0.42</td>\n",
       "      <td>0.16</td>\n",
       "    </tr>\n",
       "    <tr>\n",
       "      <th>759</th>\n",
       "      <td>Zlatan Ibrahimovic</td>\n",
       "      <td>Milan</td>\n",
       "      <td>2020-2021</td>\n",
       "      <td>Serie A</td>\n",
       "      <td>SE</td>\n",
       "      <td>FW</td>\n",
       "      <td>1171</td>\n",
       "      <td>0.84</td>\n",
       "      <td>0.12</td>\n",
       "      <td>0.47</td>\n",
       "      <td>...</td>\n",
       "      <td>0.0</td>\n",
       "      <td>0.0</td>\n",
       "      <td>0.0</td>\n",
       "      <td>0.0</td>\n",
       "      <td>0.0</td>\n",
       "      <td>0.15</td>\n",
       "      <td>0.0</td>\n",
       "      <td>0.5</td>\n",
       "      <td>0.44</td>\n",
       "      <td>0.19</td>\n",
       "    </tr>\n",
       "    <tr>\n",
       "      <th>761</th>\n",
       "      <td>Zlatan Ibrahimovic</td>\n",
       "      <td>Milan</td>\n",
       "      <td>2021-2022</td>\n",
       "      <td>Serie A</td>\n",
       "      <td>SE</td>\n",
       "      <td>FW</td>\n",
       "      <td>1212</td>\n",
       "      <td>1.0</td>\n",
       "      <td>0.0</td>\n",
       "      <td>0.58</td>\n",
       "      <td>...</td>\n",
       "      <td>0.0</td>\n",
       "      <td>0.0</td>\n",
       "      <td>0.0</td>\n",
       "      <td>0.0</td>\n",
       "      <td>0.0</td>\n",
       "      <td>0.12</td>\n",
       "      <td>0.0</td>\n",
       "      <td>0.0</td>\n",
       "      <td>0.19</td>\n",
       "      <td>0.09</td>\n",
       "    </tr>\n",
       "    <tr>\n",
       "      <th>763</th>\n",
       "      <td>Zlatan Ibrahimovic</td>\n",
       "      <td>Milan</td>\n",
       "      <td>2022-2023</td>\n",
       "      <td>Serie A</td>\n",
       "      <td>SWE</td>\n",
       "      <td>FW</td>\n",
       "      <td>1231</td>\n",
       "      <td>0.96</td>\n",
       "      <td>0.0</td>\n",
       "      <td>0.06</td>\n",
       "      <td>...</td>\n",
       "      <td>0.0</td>\n",
       "      <td>0.0</td>\n",
       "      <td>0.0</td>\n",
       "      <td>0.0</td>\n",
       "      <td>0.0</td>\n",
       "      <td>0.0</td>\n",
       "      <td>0.0</td>\n",
       "      <td>0.0</td>\n",
       "      <td>0.03</td>\n",
       "      <td>0.01</td>\n",
       "    </tr>\n",
       "  </tbody>\n",
       "</table>\n",
       "<p>382 rows × 300 columns</p>\n",
       "</div>"
      ],
      "text/plain": [
       "0                Player           Squad     Season            Comp Nation  \\\n",
       "1     Abdelhamid Sabiri    Huddersfield  2017-2018  Premier League     MA   \n",
       "3     Abdelhamid Sabiri    Paderborn 07  2019-2020      Bundesliga     MA   \n",
       "5     Abdelhamid Sabiri       Sampdoria  2021-2022         Serie A     MA   \n",
       "7     Abdelhamid Sabiri       Sampdoria  2022-2023         Serie A    MAR   \n",
       "9          Adrien Silva  Leicester City  2017-2018  Premier League     PT   \n",
       "..                  ...             ...        ...             ...    ...   \n",
       "755  Zlatan Ibrahimovic  Manchester Utd  2017-2018  Premier League     SE   \n",
       "757  Zlatan Ibrahimovic           Milan  2019-2020         Serie A     SE   \n",
       "759  Zlatan Ibrahimovic           Milan  2020-2021         Serie A     SE   \n",
       "761  Zlatan Ibrahimovic           Milan  2021-2022         Serie A     SE   \n",
       "763  Zlatan Ibrahimovic           Milan  2022-2023         Serie A    SWE   \n",
       "\n",
       "0      Pos Unnamed: 0   Age  Born Playing Time - MP  ...  \\\n",
       "1       MF       2172  0.14  0.85              0.08  ...   \n",
       "3       MF       2191  0.25  0.72              0.69  ...   \n",
       "5    MF,FW       2342  0.32  0.68              0.33  ...   \n",
       "7    MF,FW       2318  0.33  0.65              0.44  ...   \n",
       "9       MF       2301  0.52   0.5              0.28  ...   \n",
       "..     ...        ...   ...   ...               ...  ...   \n",
       "755  MF,FW       1125  0.86   0.1              0.08  ...   \n",
       "757     FW       1136  0.83  0.12              0.44  ...   \n",
       "759     FW       1171  0.84  0.12              0.47  ...   \n",
       "761     FW       1212   1.0   0.0              0.58  ...   \n",
       "763     FW       1231  0.96   0.0              0.06  ...   \n",
       "\n",
       "0   Performance - CS per 90 Performance - GA per 90 Performance - SoTA per 90  \\\n",
       "1                       0.0                     0.0                       0.0   \n",
       "3                       0.0                     0.0                       0.0   \n",
       "5                       0.0                     0.0                       0.0   \n",
       "7                       0.0                     0.0                       0.0   \n",
       "9                       0.0                     0.0                       0.0   \n",
       "..                      ...                     ...                       ...   \n",
       "755                     0.0                     0.0                       0.0   \n",
       "757                     0.0                     0.0                       0.0   \n",
       "759                     0.0                     0.0                       0.0   \n",
       "761                     0.0                     0.0                       0.0   \n",
       "763                     0.0                     0.0                       0.0   \n",
       "\n",
       "0   Performance - Saves per 90 Penalty Kicks - Save% per 90  \\\n",
       "1                          0.0                          0.0   \n",
       "3                          0.0                          0.0   \n",
       "5                          0.0                          0.0   \n",
       "7                          0.0                          0.0   \n",
       "9                          0.0                          0.0   \n",
       "..                         ...                          ...   \n",
       "755                        0.0                          0.0   \n",
       "757                        0.0                          0.0   \n",
       "759                        0.0                          0.0   \n",
       "761                        0.0                          0.0   \n",
       "763                        0.0                          0.0   \n",
       "\n",
       "0   Performance - CrdY per 90 Performance - 2CrdY per 90  \\\n",
       "1                        0.09                        0.0   \n",
       "3                        0.35                        0.0   \n",
       "5                        0.19                        0.0   \n",
       "7                        0.39                        0.0   \n",
       "9                        0.27                        0.0   \n",
       "..                        ...                        ...   \n",
       "755                       0.0                        0.0   \n",
       "757                      0.06                        0.0   \n",
       "759                      0.15                        0.0   \n",
       "761                      0.12                        0.0   \n",
       "763                       0.0                        0.0   \n",
       "\n",
       "0   Performance - CrdR per 90 Performance - Fls per 90  \\\n",
       "1                         0.0                     0.06   \n",
       "3                         0.0                     0.42   \n",
       "5                         0.0                     0.25   \n",
       "7                         0.0                     0.44   \n",
       "9                         0.0                     0.13   \n",
       "..                        ...                      ...   \n",
       "755                       0.0                     0.01   \n",
       "757                       0.0                     0.42   \n",
       "759                       0.5                     0.44   \n",
       "761                       0.0                     0.19   \n",
       "763                       0.0                     0.03   \n",
       "\n",
       "0   Performance - Fld per 90  \n",
       "1                       0.04  \n",
       "3                       0.33  \n",
       "5                       0.35  \n",
       "7                       0.33  \n",
       "9                       0.08  \n",
       "..                       ...  \n",
       "755                     0.01  \n",
       "757                     0.16  \n",
       "759                     0.19  \n",
       "761                     0.09  \n",
       "763                     0.01  \n",
       "\n",
       "[382 rows x 300 columns]"
      ]
     },
     "execution_count": 166,
     "metadata": {},
     "output_type": "execute_result"
    }
   ],
   "source": [
    "\n",
    "\n",
    "all_data\n",
    "\n"
   ]
  },
  {
   "cell_type": "code",
   "execution_count": 175,
   "id": "a08d504b-aeec-4900-a158-b0e75fc5dcd8",
   "metadata": {},
   "outputs": [],
   "source": [
    "\n",
    "\n",
    "stat = 'Passing'\n",
    "\n",
    "gs_cols = list(refr.grouped_stats_player_comparison[stat].values())\n",
    "\n",
    "if 'xA' in gs_cols:\n",
    "    gs_cols[gs_cols.index('xA')] = 'Expected - xA'\n",
    "    gs_cols[gs_cols.index('A-xAG')] = 'Expected - A-xAG'\n",
    "\n",
    "serie_a_data = all_data[all_data.Comp == 'Serie A'].copy()\n",
    "prem_data = all_data[all_data.Comp == 'Premier League'].copy()\n",
    "\n"
   ]
  },
  {
   "cell_type": "code",
   "execution_count": 176,
   "id": "2ffb2f90-dd4a-4f22-8503-9aa834e8e29c",
   "metadata": {},
   "outputs": [
    {
     "data": {
      "application/vnd.plotly.v1+json": {
       "config": {
        "plotlyServerURL": "https://plot.ly"
       },
       "data": [
        {
         "fill": "toself",
         "line": {
          "color": "red"
         },
         "name": "Average Percentile in Premier League",
         "r": [
          0.07661971830985918,
          0.0808450704225352,
          0.19633802816901397,
          0.16253521126760562,
          0.21253521126760574,
          0.697183098591549,
          0.05183098591549292,
          0.19683098591549292,
          0.7918309859154931,
          0.1611971830985915,
          0.7336619718309859,
          0.14859154929577464,
          0.5981690140845072,
          0.09359154929577464,
          0.4019718309859155,
          0.10760563380281687,
          0.14161971830985917,
          0.09387323943661967,
          0.055000000000000014,
          0.16823943661971824,
          0.06640845070422534,
          0.09197183098591544
         ],
         "theta": [
          "Ast",
          "Per 90 Minutes - Ast",
          "Total - TotDist",
          "Total - PrgDist",
          "Total - Cmp",
          "Total - Cmp%",
          "Performance - Crs",
          "Short - Cmp",
          "Short - Cmp%",
          "Medium - Cmp",
          "Medium - Cmp%",
          "Long - Cmp",
          "Long - Cmp%",
          "Expected - xA",
          "Expected - A-xAG",
          "KP",
          "1/3",
          "PPA",
          "CrsPA",
          "PrgP",
          "Pass Types - TB",
          "Pass Types - Sw"
         ],
         "type": "scatterpolar"
        },
        {
         "fill": "toself",
         "line": {
          "color": "blue"
         },
         "name": "Average Percentile in Serie A",
         "r": [
          0.152258064516129,
          0.12993548387096765,
          0.2601290322580645,
          0.16070967741935477,
          0.26780645161290323,
          0.6683870967741938,
          0.07141935483870962,
          0.2509677419354839,
          0.6910322580645163,
          0.23058064516129015,
          0.7415483870967743,
          0.14645161290322573,
          0.6143870967741939,
          0.17703225806451628,
          0.4908387096774193,
          0.18567741935483872,
          0.17574193548387085,
          0.16335483870967743,
          0.06670967741935481,
          0.21116129032258066,
          0.11503225806451614,
          0.09625806451612894
         ],
         "theta": [
          "Ast",
          "Per 90 Minutes - Ast",
          "Total - TotDist",
          "Total - PrgDist",
          "Total - Cmp",
          "Total - Cmp%",
          "Performance - Crs",
          "Short - Cmp",
          "Short - Cmp%",
          "Medium - Cmp",
          "Medium - Cmp%",
          "Long - Cmp",
          "Long - Cmp%",
          "Expected - xA",
          "Expected - A-xAG",
          "KP",
          "1/3",
          "PPA",
          "CrsPA",
          "PrgP",
          "Pass Types - TB",
          "Pass Types - Sw"
         ],
         "type": "scatterpolar"
        }
       ],
       "layout": {
        "height": 500,
        "polar": {
         "angularaxis": {
          "type": "category"
         },
         "radialaxis": {
          "autorange": false,
          "range": [
           0,
           1
          ],
          "type": "linear",
          "visible": false
         }
        },
        "template": {
         "data": {
          "candlestick": [
           {
            "decreasing": {
             "line": {
              "color": "#000033"
             }
            },
            "increasing": {
             "line": {
              "color": "#000032"
             }
            },
            "type": "candlestick"
           }
          ],
          "contour": [
           {
            "colorscale": [
             [
              0,
              "#000011"
             ],
             [
              0.1111111111111111,
              "#000012"
             ],
             [
              0.2222222222222222,
              "#000013"
             ],
             [
              0.3333333333333333,
              "#000014"
             ],
             [
              0.4444444444444444,
              "#000015"
             ],
             [
              0.5555555555555556,
              "#000016"
             ],
             [
              0.6666666666666666,
              "#000017"
             ],
             [
              0.7777777777777778,
              "#000018"
             ],
             [
              0.8888888888888888,
              "#000019"
             ],
             [
              1,
              "#000020"
             ]
            ],
            "type": "contour"
           }
          ],
          "contourcarpet": [
           {
            "colorscale": [
             [
              0,
              "#000011"
             ],
             [
              0.1111111111111111,
              "#000012"
             ],
             [
              0.2222222222222222,
              "#000013"
             ],
             [
              0.3333333333333333,
              "#000014"
             ],
             [
              0.4444444444444444,
              "#000015"
             ],
             [
              0.5555555555555556,
              "#000016"
             ],
             [
              0.6666666666666666,
              "#000017"
             ],
             [
              0.7777777777777778,
              "#000018"
             ],
             [
              0.8888888888888888,
              "#000019"
             ],
             [
              1,
              "#000020"
             ]
            ],
            "type": "contourcarpet"
           }
          ],
          "heatmap": [
           {
            "colorscale": [
             [
              0,
              "#000011"
             ],
             [
              0.1111111111111111,
              "#000012"
             ],
             [
              0.2222222222222222,
              "#000013"
             ],
             [
              0.3333333333333333,
              "#000014"
             ],
             [
              0.4444444444444444,
              "#000015"
             ],
             [
              0.5555555555555556,
              "#000016"
             ],
             [
              0.6666666666666666,
              "#000017"
             ],
             [
              0.7777777777777778,
              "#000018"
             ],
             [
              0.8888888888888888,
              "#000019"
             ],
             [
              1,
              "#000020"
             ]
            ],
            "type": "heatmap"
           }
          ],
          "histogram2d": [
           {
            "colorscale": [
             [
              0,
              "#000011"
             ],
             [
              0.1111111111111111,
              "#000012"
             ],
             [
              0.2222222222222222,
              "#000013"
             ],
             [
              0.3333333333333333,
              "#000014"
             ],
             [
              0.4444444444444444,
              "#000015"
             ],
             [
              0.5555555555555556,
              "#000016"
             ],
             [
              0.6666666666666666,
              "#000017"
             ],
             [
              0.7777777777777778,
              "#000018"
             ],
             [
              0.8888888888888888,
              "#000019"
             ],
             [
              1,
              "#000020"
             ]
            ],
            "type": "histogram2d"
           }
          ],
          "icicle": [
           {
            "textfont": {
             "color": "white"
            },
            "type": "icicle"
           }
          ],
          "sankey": [
           {
            "textfont": {
             "color": "#000036"
            },
            "type": "sankey"
           }
          ],
          "scatter": [
           {
            "marker": {
             "line": {
              "width": 0
             }
            },
            "type": "scatter"
           }
          ],
          "table": [
           {
            "cells": {
             "fill": {
              "color": "#000038"
             },
             "font": {
              "color": "#000037"
             },
             "line": {
              "color": "#000039"
             }
            },
            "header": {
             "fill": {
              "color": "#000040"
             },
             "font": {
              "color": "#000036"
             },
             "line": {
              "color": "#000039"
             }
            },
            "type": "table"
           }
          ],
          "waterfall": [
           {
            "connector": {
             "line": {
              "color": "#000036",
              "width": 2
             }
            },
            "decreasing": {
             "marker": {
              "color": "#000033"
             }
            },
            "increasing": {
             "marker": {
              "color": "#000032"
             }
            },
            "totals": {
             "marker": {
              "color": "#000034"
             }
            },
            "type": "waterfall"
           }
          ]
         },
         "layout": {
          "coloraxis": {
           "colorscale": [
            [
             0,
             "#000011"
            ],
            [
             0.1111111111111111,
             "#000012"
            ],
            [
             0.2222222222222222,
             "#000013"
            ],
            [
             0.3333333333333333,
             "#000014"
            ],
            [
             0.4444444444444444,
             "#000015"
            ],
            [
             0.5555555555555556,
             "#000016"
            ],
            [
             0.6666666666666666,
             "#000017"
            ],
            [
             0.7777777777777778,
             "#000018"
            ],
            [
             0.8888888888888888,
             "#000019"
            ],
            [
             1,
             "#000020"
            ]
           ]
          },
          "colorscale": {
           "diverging": [
            [
             0,
             "#000021"
            ],
            [
             0.1,
             "#000022"
            ],
            [
             0.2,
             "#000023"
            ],
            [
             0.3,
             "#000024"
            ],
            [
             0.4,
             "#000025"
            ],
            [
             0.5,
             "#000026"
            ],
            [
             0.6,
             "#000027"
            ],
            [
             0.7,
             "#000028"
            ],
            [
             0.8,
             "#000029"
            ],
            [
             0.9,
             "#000030"
            ],
            [
             1,
             "#000031"
            ]
           ],
           "sequential": [
            [
             0,
             "#000011"
            ],
            [
             0.1111111111111111,
             "#000012"
            ],
            [
             0.2222222222222222,
             "#000013"
            ],
            [
             0.3333333333333333,
             "#000014"
            ],
            [
             0.4444444444444444,
             "#000015"
            ],
            [
             0.5555555555555556,
             "#000016"
            ],
            [
             0.6666666666666666,
             "#000017"
            ],
            [
             0.7777777777777778,
             "#000018"
            ],
            [
             0.8888888888888888,
             "#000019"
            ],
            [
             1,
             "#000020"
            ]
           ],
           "sequentialminus": [
            [
             0,
             "#000011"
            ],
            [
             0.1111111111111111,
             "#000012"
            ],
            [
             0.2222222222222222,
             "#000013"
            ],
            [
             0.3333333333333333,
             "#000014"
            ],
            [
             0.4444444444444444,
             "#000015"
            ],
            [
             0.5555555555555556,
             "#000016"
            ],
            [
             0.6666666666666666,
             "#000017"
            ],
            [
             0.7777777777777778,
             "#000018"
            ],
            [
             0.8888888888888888,
             "#000019"
            ],
            [
             1,
             "#000020"
            ]
           ]
          },
          "colorway": [
           "#000001",
           "#000002",
           "#000003",
           "#000004",
           "#000005",
           "#000006",
           "#000007",
           "#000008",
           "#000009",
           "#000010"
          ]
         }
        },
        "title": {
         "font": {
          "family": "Arial Black",
          "size": 28
         },
         "text": "<b>Passing </b><br><sup>Players Going From Premier League to Serie A</sup>",
         "yref": "paper"
        },
        "width": 850
       }
      },
      "image/png": "[encoded data removed]",
      "text/html": [
       "<div>                            <div id=\"ddfe4281-dada-4fca-abce-f44fd1aab1f0\" class=\"plotly-graph-div\" style=\"height:500px; width:850px;\"></div>            <script type=\"text/javascript\">                require([\"plotly\"], function(Plotly) {                    window.PLOTLYENV=window.PLOTLYENV || {};                                    if (document.getElementById(\"ddfe4281-dada-4fca-abce-f44fd1aab1f0\")) {                    Plotly.newPlot(                        \"ddfe4281-dada-4fca-abce-f44fd1aab1f0\",                        [{\"fill\":\"toself\",\"line\":{\"color\":\"red\"},\"name\":\"Average Percentile in Premier League\",\"r\":[0.07661971830985918,0.0808450704225352,0.19633802816901397,0.16253521126760562,0.21253521126760574,0.697183098591549,0.05183098591549292,0.19683098591549292,0.7918309859154931,0.1611971830985915,0.7336619718309859,0.14859154929577464,0.5981690140845072,0.09359154929577464,0.4019718309859155,0.10760563380281687,0.14161971830985917,0.09387323943661967,0.055000000000000014,0.16823943661971824,0.06640845070422534,0.09197183098591544],\"theta\":[\"Ast\",\"Per 90 Minutes - Ast\",\"Total - TotDist\",\"Total - PrgDist\",\"Total - Cmp\",\"Total - Cmp%\",\"Performance - Crs\",\"Short - Cmp\",\"Short - Cmp%\",\"Medium - Cmp\",\"Medium - Cmp%\",\"Long - Cmp\",\"Long - Cmp%\",\"Expected - xA\",\"Expected - A-xAG\",\"KP\",\"1\\u002f3\",\"PPA\",\"CrsPA\",\"PrgP\",\"Pass Types - TB\",\"Pass Types - Sw\"],\"type\":\"scatterpolar\"},{\"fill\":\"toself\",\"line\":{\"color\":\"blue\"},\"name\":\"Average Percentile in Serie A\",\"r\":[0.152258064516129,0.12993548387096765,0.2601290322580645,0.16070967741935477,0.26780645161290323,0.6683870967741938,0.07141935483870962,0.2509677419354839,0.6910322580645163,0.23058064516129015,0.7415483870967743,0.14645161290322573,0.6143870967741939,0.17703225806451628,0.4908387096774193,0.18567741935483872,0.17574193548387085,0.16335483870967743,0.06670967741935481,0.21116129032258066,0.11503225806451614,0.09625806451612894],\"theta\":[\"Ast\",\"Per 90 Minutes - Ast\",\"Total - TotDist\",\"Total - PrgDist\",\"Total - Cmp\",\"Total - Cmp%\",\"Performance - Crs\",\"Short - Cmp\",\"Short - Cmp%\",\"Medium - Cmp\",\"Medium - Cmp%\",\"Long - Cmp\",\"Long - Cmp%\",\"Expected - xA\",\"Expected - A-xAG\",\"KP\",\"1\\u002f3\",\"PPA\",\"CrsPA\",\"PrgP\",\"Pass Types - TB\",\"Pass Types - Sw\"],\"type\":\"scatterpolar\"}],                        {\"template\":{\"data\":{\"candlestick\":[{\"decreasing\":{\"line\":{\"color\":\"#000033\"}},\"increasing\":{\"line\":{\"color\":\"#000032\"}},\"type\":\"candlestick\"}],\"contourcarpet\":[{\"colorscale\":[[0.0,\"#000011\"],[0.1111111111111111,\"#000012\"],[0.2222222222222222,\"#000013\"],[0.3333333333333333,\"#000014\"],[0.4444444444444444,\"#000015\"],[0.5555555555555556,\"#000016\"],[0.6666666666666666,\"#000017\"],[0.7777777777777778,\"#000018\"],[0.8888888888888888,\"#000019\"],[1.0,\"#000020\"]],\"type\":\"contourcarpet\"}],\"contour\":[{\"colorscale\":[[0.0,\"#000011\"],[0.1111111111111111,\"#000012\"],[0.2222222222222222,\"#000013\"],[0.3333333333333333,\"#000014\"],[0.4444444444444444,\"#000015\"],[0.5555555555555556,\"#000016\"],[0.6666666666666666,\"#000017\"],[0.7777777777777778,\"#000018\"],[0.8888888888888888,\"#000019\"],[1.0,\"#000020\"]],\"type\":\"contour\"}],\"heatmap\":[{\"colorscale\":[[0.0,\"#000011\"],[0.1111111111111111,\"#000012\"],[0.2222222222222222,\"#000013\"],[0.3333333333333333,\"#000014\"],[0.4444444444444444,\"#000015\"],[0.5555555555555556,\"#000016\"],[0.6666666666666666,\"#000017\"],[0.7777777777777778,\"#000018\"],[0.8888888888888888,\"#000019\"],[1.0,\"#000020\"]],\"type\":\"heatmap\"}],\"histogram2d\":[{\"colorscale\":[[0.0,\"#000011\"],[0.1111111111111111,\"#000012\"],[0.2222222222222222,\"#000013\"],[0.3333333333333333,\"#000014\"],[0.4444444444444444,\"#000015\"],[0.5555555555555556,\"#000016\"],[0.6666666666666666,\"#000017\"],[0.7777777777777778,\"#000018\"],[0.8888888888888888,\"#000019\"],[1.0,\"#000020\"]],\"type\":\"histogram2d\"}],\"icicle\":[{\"textfont\":{\"color\":\"white\"},\"type\":\"icicle\"}],\"sankey\":[{\"textfont\":{\"color\":\"#000036\"},\"type\":\"sankey\"}],\"scatter\":[{\"marker\":{\"line\":{\"width\":0}},\"type\":\"scatter\"}],\"table\":[{\"cells\":{\"fill\":{\"color\":\"#000038\"},\"font\":{\"color\":\"#000037\"},\"line\":{\"color\":\"#000039\"}},\"header\":{\"fill\":{\"color\":\"#000040\"},\"font\":{\"color\":\"#000036\"},\"line\":{\"color\":\"#000039\"}},\"type\":\"table\"}],\"waterfall\":[{\"connector\":{\"line\":{\"color\":\"#000036\",\"width\":2}},\"decreasing\":{\"marker\":{\"color\":\"#000033\"}},\"increasing\":{\"marker\":{\"color\":\"#000032\"}},\"totals\":{\"marker\":{\"color\":\"#000034\"}},\"type\":\"waterfall\"}]},\"layout\":{\"coloraxis\":{\"colorscale\":[[0.0,\"#000011\"],[0.1111111111111111,\"#000012\"],[0.2222222222222222,\"#000013\"],[0.3333333333333333,\"#000014\"],[0.4444444444444444,\"#000015\"],[0.5555555555555556,\"#000016\"],[0.6666666666666666,\"#000017\"],[0.7777777777777778,\"#000018\"],[0.8888888888888888,\"#000019\"],[1.0,\"#000020\"]]},\"colorscale\":{\"diverging\":[[0.0,\"#000021\"],[0.1,\"#000022\"],[0.2,\"#000023\"],[0.3,\"#000024\"],[0.4,\"#000025\"],[0.5,\"#000026\"],[0.6,\"#000027\"],[0.7,\"#000028\"],[0.8,\"#000029\"],[0.9,\"#000030\"],[1.0,\"#000031\"]],\"sequential\":[[0.0,\"#000011\"],[0.1111111111111111,\"#000012\"],[0.2222222222222222,\"#000013\"],[0.3333333333333333,\"#000014\"],[0.4444444444444444,\"#000015\"],[0.5555555555555556,\"#000016\"],[0.6666666666666666,\"#000017\"],[0.7777777777777778,\"#000018\"],[0.8888888888888888,\"#000019\"],[1.0,\"#000020\"]],\"sequentialminus\":[[0.0,\"#000011\"],[0.1111111111111111,\"#000012\"],[0.2222222222222222,\"#000013\"],[0.3333333333333333,\"#000014\"],[0.4444444444444444,\"#000015\"],[0.5555555555555556,\"#000016\"],[0.6666666666666666,\"#000017\"],[0.7777777777777778,\"#000018\"],[0.8888888888888888,\"#000019\"],[1.0,\"#000020\"]]},\"colorway\":[\"#000001\",\"#000002\",\"#000003\",\"#000004\",\"#000005\",\"#000006\",\"#000007\",\"#000008\",\"#000009\",\"#000010\"]}},\"title\":{\"font\":{\"family\":\"Arial Black\",\"size\":28},\"text\":\"\\u003cb\\u003ePassing \\u003c\\u002fb\\u003e\\u003cbr\\u003e\\u003csup\\u003ePlayers Going From Premier League to Serie A\\u003c\\u002fsup\\u003e\",\"yref\":\"paper\"},\"width\":850,\"height\":500,\"polar\":{\"radialaxis\":{\"visible\":false,\"range\":[0,1]}}},                        {\"responsive\": true}                    ).then(function(){\n",
       "                            \n",
       "var gd = document.getElementById('ddfe4281-dada-4fca-abce-f44fd1aab1f0');\n",
       "var x = new MutationObserver(function (mutations, observer) {{\n",
       "        var display = window.getComputedStyle(gd).display;\n",
       "        if (!display || display === 'none') {{\n",
       "            console.log([gd, 'removed!']);\n",
       "            Plotly.purge(gd);\n",
       "            observer.disconnect();\n",
       "        }}\n",
       "}});\n",
       "\n",
       "// Listen for the removal of the full notebook cells\n",
       "var notebookContainer = gd.closest('#notebook-container');\n",
       "if (notebookContainer) {{\n",
       "    x.observe(notebookContainer, {childList: true});\n",
       "}}\n",
       "\n",
       "// Listen for the clearing of the current output cell\n",
       "var outputEl = gd.closest('.output');\n",
       "if (outputEl) {{\n",
       "    x.observe(outputEl, {childList: true});\n",
       "}}\n",
       "\n",
       "                        })                };                });            </script>        </div>"
      ]
     },
     "metadata": {},
     "output_type": "display_data"
    }
   ],
   "source": [
    "import plotly.graph_objects as go\n",
    "\n",
    "\n",
    "prem_avg = prem_data[gs_cols].mean()\n",
    "serie_a_avg = serie_a_data[gs_cols].mean()\n",
    "\n",
    "\n",
    "fig = go.Figure()\n",
    "\n",
    "fig.add_trace(go.Scatterpolar(name = f'Average Percentile in Premier League',\n",
    "                                      r = prem_avg.values,\n",
    "                                        theta = prem_avg.index,\n",
    "                                        fill = 'toself',\n",
    "                                        line_color='red'\n",
    "                                        ),\n",
    "                      )\n",
    "\n",
    "fig.add_trace(go.Scatterpolar(name = f'Average Percentile in Serie A', \n",
    "                                      r = serie_a_avg.values,\n",
    "                                        theta = serie_a_avg.index,\n",
    "                                        fill = 'toself',\n",
    "                                        line_color='blue'\n",
    "                                        ),\n",
    "                      )\n",
    "\n",
    "\n",
    "\n",
    "fig.update_layout(\n",
    "        title=dict(text=f'<b>{stat} </b><br><sup>Players Going From Premier League to Serie A</sup>',\n",
    "                        font=dict(\n",
    "                            # Arial Black\n",
    "                            family=\"Arial Black\",\n",
    "                            size=28,\n",
    "                            #color='#000000'\n",
    "                        )\n",
    "                        , \n",
    "                        yref='paper'\n",
    "                        ),\n",
    "    width=850,\n",
    "    height=500,)\n",
    "fig.update_polars(radialaxis=dict(visible=False,\n",
    "                                      range=[0, 1]))\n",
    "\n",
    "\n"
   ]
  },
  {
   "cell_type": "code",
   "execution_count": 39,
   "id": "1b18acee-bfd3-4079-9ceb-fc517d90aeea",
   "metadata": {},
   "outputs": [
    {
     "data": {
      "text/plain": [
       "8        2017-2018\n",
       "5354     2019-2020\n",
       "8090     2020-2021\n",
       "10908    2021-2022\n",
       "13834    2022-2023\n",
       "Name: Season, dtype: object"
      ]
     },
     "execution_count": 39,
     "metadata": {},
     "output_type": "execute_result"
    }
   ],
   "source": [
    "\n",
    "\n",
    "\n",
    "temp[temp.Player == 'Tammy Abraham'].Season\n",
    "\n"
   ]
  },
  {
   "cell_type": "code",
   "execution_count": null,
   "id": "550171c1-a50c-4184-b0ff-81b73e843439",
   "metadata": {},
   "outputs": [],
   "source": []
  }
 ],
 "metadata": {
  "kernelspec": {
   "display_name": "Python 3 (ipykernel)",
   "language": "python",
   "name": "python3"
  },
  "language_info": {
   "codemirror_mode": {
    "name": "ipython",
    "version": 3
   },
   "file_extension": ".py",
   "mimetype": "text/x-python",
   "name": "python",
   "nbconvert_exporter": "python",
   "pygments_lexer": "ipython3",
   "version": "3.12.0"
  }
 },
 "nbformat": 4,
 "nbformat_minor": 5
}
